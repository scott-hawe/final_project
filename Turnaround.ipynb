{
 "cells": [
  {
   "cell_type": "markdown",
   "id": "5d1830a5-7fed-43ea-9c3b-43f39bc107fb",
   "metadata": {},
   "source": [
    "### Import libraries"
   ]
  },
  {
   "cell_type": "code",
   "execution_count": 78,
   "id": "1055ddb1-a335-41c9-b1d8-8dba0ec5ef00",
   "metadata": {},
   "outputs": [],
   "source": [
    "import os\n",
    "import pandas as pd\n",
    "import numpy as np\n"
   ]
  },
  {
   "cell_type": "markdown",
   "id": "6d99f5ba-b580-4ad7-bbd1-6d876fb2944a",
   "metadata": {},
   "source": [
    "### Define functions and file pathway for collecting excel files"
   ]
  },
  {
   "cell_type": "code",
   "execution_count": 79,
   "id": "6602f370-0861-4be6-9d1d-8151d2f895b1",
   "metadata": {},
   "outputs": [],
   "source": [
    "# define the directory for the files\n",
    "directory = r\"C:\\Users\\scotth07\\OneDrive - NHS Scotland\\Documents\\Networks & Projects\\SPAN UNI\\Returns\\23_24\""
   ]
  },
  {
   "cell_type": "code",
   "execution_count": 80,
   "id": "f2546bb7-4ede-4ef9-a335-91b19762fddf",
   "metadata": {},
   "outputs": [],
   "source": [
    "# function to combine data from Excel files\n",
    "def combine_excel_files(input_directory, sheet_name, skiprows, nrows, usecols):\n",
    "    all_data = []\n",
    "    for file in os.listdir(input_directory):\n",
    "        if file.endswith('.xlsx'):\n",
    "            try:\n",
    "                file_path = os.path.join(input_directory, file)\n",
    "                print(f\"Processing file: {file_path}\")\n",
    "                data = pd.read_excel(file_path, sheet_name=sheet_name, \n",
    "                                     skiprows=skiprows, nrows=nrows, usecols=usecols).assign(**{'File Name': file})\n",
    "                all_data.append(data)\n",
    "            except ValueError as e:\n",
    "                print(f\"ValueError in file: {file} - {e}\")\n",
    "            except Exception as e:\n",
    "                print(f\"Error in file: {file} - {e}\")\n",
    "    return pd.concat(all_data, ignore_index=True)\n",
    "\n",
    "\n",
    "\n",
    "# function to extract the health baord  from the file name\n",
    "def extract_hb(data):\n",
    "    try:\n",
    "        parts = data.split(' ')\n",
    "        health_board = parts[1]\n",
    "        return health_board\n",
    "    except IndexError:\n",
    "        # Handle cases where the format is not as expected\n",
    "        return 'Unknown'\n"
   ]
  },
  {
   "cell_type": "markdown",
   "id": "928222f2-65a7-4812-b059-ef25458c1bb6",
   "metadata": {},
   "source": [
    "### Ingest data from 2. Turnaround sheet"
   ]
  },
  {
   "cell_type": "markdown",
   "id": "3083705b-c741-45bb-960d-2ade14405910",
   "metadata": {},
   "source": [
    "#### General Histopathology Specimen Specific Turnaround Times"
   ]
  },
  {
   "cell_type": "code",
   "execution_count": 81,
   "id": "57796c5a-488f-4641-93e6-90ba2d2caa21",
   "metadata": {},
   "outputs": [
    {
     "name": "stdout",
     "output_type": "stream",
     "text": [
      "Processing file: C:\\Users\\scotth07\\OneDrive - NHS Scotland\\Documents\\Networks & Projects\\SPAN UNI\\Returns\\23_24\\NHS A&A SPAN 2023-24.xlsx\n",
      "Processing file: C:\\Users\\scotth07\\OneDrive - NHS Scotland\\Documents\\Networks & Projects\\SPAN UNI\\Returns\\23_24\\NHS D&G SPAN 2023-24.xlsx\n",
      "Processing file: C:\\Users\\scotth07\\OneDrive - NHS Scotland\\Documents\\Networks & Projects\\SPAN UNI\\Returns\\23_24\\NHS Fife SPAN 2023-24.xlsx\n",
      "Processing file: C:\\Users\\scotth07\\OneDrive - NHS Scotland\\Documents\\Networks & Projects\\SPAN UNI\\Returns\\23_24\\NHS Forth Valley SPAN 2023-24.xlsx\n",
      "Processing file: C:\\Users\\scotth07\\OneDrive - NHS Scotland\\Documents\\Networks & Projects\\SPAN UNI\\Returns\\23_24\\NHS GG&C SPAN 2023-24.xlsx\n",
      "Processing file: C:\\Users\\scotth07\\OneDrive - NHS Scotland\\Documents\\Networks & Projects\\SPAN UNI\\Returns\\23_24\\NHS Grampian SPAN 2023-24.xlsx\n",
      "Processing file: C:\\Users\\scotth07\\OneDrive - NHS Scotland\\Documents\\Networks & Projects\\SPAN UNI\\Returns\\23_24\\NHS Highland SPAN 2023-24.xlsx\n",
      "Processing file: C:\\Users\\scotth07\\OneDrive - NHS Scotland\\Documents\\Networks & Projects\\SPAN UNI\\Returns\\23_24\\NHS Lanarkshire SPAN 2023-24.xlsx\n",
      "Processing file: C:\\Users\\scotth07\\OneDrive - NHS Scotland\\Documents\\Networks & Projects\\SPAN UNI\\Returns\\23_24\\NHS Lothian SPAN 2023-24.xlsx\n"
     ]
    }
   ],
   "source": [
    "# assign the workload data to dataframe using the defined function\n",
    "specimen_specific_df = combine_excel_files(directory, '2. Turnaround', skiprows=9, nrows=6, usecols=[1,2,3,4,5,6,7,8,9,10,11])"
   ]
  },
  {
   "cell_type": "code",
   "execution_count": 82,
   "id": "31b046f0-e05f-4dbb-820a-8541ad96046b",
   "metadata": {},
   "outputs": [],
   "source": [
    "specimen_specific_df = specimen_specific_df.rename(columns={'Unnamed: 1': 'Category'})"
   ]
  },
  {
   "cell_type": "code",
   "execution_count": 83,
   "id": "3a53ea38-1e22-4ab6-bb3e-287561444709",
   "metadata": {},
   "outputs": [],
   "source": [
    "# unpivot the dataframe to have a single value column\n",
    "\n",
    "melted_specimen_specific_df = pd.melt(specimen_specific_df,\n",
    "                                      id_vars=['Category', 'File Name'],\n",
    "                                      value_vars=['Diagnostic Breast Core Needle Biopsies',\n",
    "                                                  'Diagnostic Colorectal Endoscopy Biopsies',\n",
    "                                                  'Diagnostic Prostate Needle Core Biopsies', 'Gallbladder Resections',\n",
    "                                                  'Rectal Anterior Resections',\n",
    "                                                  'Breast Wide Local Excisions (incl nodes)', \n",
    "                                                  'Lung Biopsies',\n",
    "                                                  'Duodenal Biopsies', \n",
    "                                                  'Vocal Cord  Biopsy', \n",
    "                                                  'Laryngectomy Resections'],\n",
    "                                      var_name='Type',\n",
    "                                      value_name='Value')\n",
    "                                      "
   ]
  },
  {
   "cell_type": "code",
   "execution_count": 84,
   "id": "be793ef7-1d28-40f7-a5c4-559ad0b75e33",
   "metadata": {},
   "outputs": [],
   "source": [
    "# add area column\n",
    "melted_specimen_specific_df['Area'] = 'General Histopathology Specimen Specific Turnaround Times'"
   ]
  },
  {
   "cell_type": "code",
   "execution_count": 85,
   "id": "180f2c3e-fdd2-4b61-bfa6-d3811aa69312",
   "metadata": {},
   "outputs": [],
   "source": [
    "# drop na and 0 rows\n",
    "melted_specimen_specific_df = melted_specimen_specific_df[melted_specimen_specific_df['Value'] != 0]\n",
    "melted_specimen_specific_df = melted_specimen_specific_df.dropna(subset='Value')"
   ]
  },
  {
   "cell_type": "markdown",
   "id": "cd04e768-70b7-46b9-bc91-7a0f3fd7bd2f",
   "metadata": {},
   "source": [
    "#### General Histopathology Percentage Turnaround Times"
   ]
  },
  {
   "cell_type": "code",
   "execution_count": 86,
   "id": "dfd47559-c8b0-4bc8-bb6a-0e7ed3af216e",
   "metadata": {},
   "outputs": [
    {
     "name": "stdout",
     "output_type": "stream",
     "text": [
      "Processing file: C:\\Users\\scotth07\\OneDrive - NHS Scotland\\Documents\\Networks & Projects\\SPAN UNI\\Returns\\23_24\\NHS A&A SPAN 2023-24.xlsx\n",
      "Processing file: C:\\Users\\scotth07\\OneDrive - NHS Scotland\\Documents\\Networks & Projects\\SPAN UNI\\Returns\\23_24\\NHS D&G SPAN 2023-24.xlsx\n",
      "Processing file: C:\\Users\\scotth07\\OneDrive - NHS Scotland\\Documents\\Networks & Projects\\SPAN UNI\\Returns\\23_24\\NHS Fife SPAN 2023-24.xlsx\n",
      "Processing file: C:\\Users\\scotth07\\OneDrive - NHS Scotland\\Documents\\Networks & Projects\\SPAN UNI\\Returns\\23_24\\NHS Forth Valley SPAN 2023-24.xlsx\n",
      "Processing file: C:\\Users\\scotth07\\OneDrive - NHS Scotland\\Documents\\Networks & Projects\\SPAN UNI\\Returns\\23_24\\NHS GG&C SPAN 2023-24.xlsx\n",
      "Processing file: C:\\Users\\scotth07\\OneDrive - NHS Scotland\\Documents\\Networks & Projects\\SPAN UNI\\Returns\\23_24\\NHS Grampian SPAN 2023-24.xlsx\n",
      "Processing file: C:\\Users\\scotth07\\OneDrive - NHS Scotland\\Documents\\Networks & Projects\\SPAN UNI\\Returns\\23_24\\NHS Highland SPAN 2023-24.xlsx\n",
      "Processing file: C:\\Users\\scotth07\\OneDrive - NHS Scotland\\Documents\\Networks & Projects\\SPAN UNI\\Returns\\23_24\\NHS Lanarkshire SPAN 2023-24.xlsx\n",
      "Processing file: C:\\Users\\scotth07\\OneDrive - NHS Scotland\\Documents\\Networks & Projects\\SPAN UNI\\Returns\\23_24\\NHS Lothian SPAN 2023-24.xlsx\n"
     ]
    }
   ],
   "source": [
    "# assign the workload data to dataframe using the defined function\n",
    "percentage_based_df = combine_excel_files(directory, '2. Turnaround', skiprows=20, nrows=6, usecols=[1,2,3,4,5])"
   ]
  },
  {
   "cell_type": "code",
   "execution_count": 87,
   "id": "e60348e9-f870-4572-883b-37ec29769fd6",
   "metadata": {},
   "outputs": [],
   "source": [
    "percentage_based_df = percentage_based_df.rename(columns={'               ': 'Category',\n",
    "                                                          'Cervical Screening: \\n336 hours (14 Calendar Days)': 'Cervical Screening:336 hours (14 Calendar Days)',\n",
    "                                                          'Cervical Cytology:\\n336 hours (14 Calendar Days)': 'Cervical Cytology:336 hours (14 Calendar Days)'})"
   ]
  },
  {
   "cell_type": "code",
   "execution_count": 88,
   "id": "fc4b136e-8a0a-496f-8d0e-dd6e5e046fb3",
   "metadata": {},
   "outputs": [],
   "source": [
    "# unpivot the dataframe to have a single value column\n",
    "melted_percentage_based_df = pd.melt(percentage_based_df,\n",
    "                              id_vars=['Category', 'File Name'],\n",
    "                              value_vars=['72 hours (3 Calendar Days)',\n",
    "                                         '168 hours (7 Calendar Days)',\n",
    "                                         'Cervical Screening:336 hours (14 Calendar Days)' ,\n",
    "                                         'Cervical Cytology:336 hours (14 Calendar Days)'],\n",
    "                              var_name='Type',\n",
    "                              value_name='Value')\n",
    "                                      "
   ]
  },
  {
   "cell_type": "code",
   "execution_count": 89,
   "id": "04fdc552-39e8-45e0-91cf-4a36fc3d710d",
   "metadata": {},
   "outputs": [],
   "source": [
    "# add area column\n",
    "melted_percentage_based_df['Area'] = 'General Histopathology Percentage Turnaround Times'"
   ]
  },
  {
   "cell_type": "code",
   "execution_count": 90,
   "id": "1129dfdc-28c4-44d2-b4d4-5f6553d877d7",
   "metadata": {},
   "outputs": [],
   "source": [
    "# drop na and 0 rows\n",
    "melted_percentage_based_df = melted_percentage_based_df[melted_percentage_based_df['Value'] != 0]\n",
    "melted_percentage_based_df = melted_percentage_based_df.dropna(subset='Value')"
   ]
  },
  {
   "cell_type": "markdown",
   "id": "2eee3e57-370f-411b-a4b5-c0d9740a84d3",
   "metadata": {},
   "source": [
    "#### Non-Cervical/Diagnostic Cytopathology Percentage Turnaround Times"
   ]
  },
  {
   "cell_type": "code",
   "execution_count": 91,
   "id": "8b26d0bd-e290-432d-900e-32dad7e21104",
   "metadata": {},
   "outputs": [
    {
     "name": "stdout",
     "output_type": "stream",
     "text": [
      "Processing file: C:\\Users\\scotth07\\OneDrive - NHS Scotland\\Documents\\Networks & Projects\\SPAN UNI\\Returns\\23_24\\NHS A&A SPAN 2023-24.xlsx\n",
      "Processing file: C:\\Users\\scotth07\\OneDrive - NHS Scotland\\Documents\\Networks & Projects\\SPAN UNI\\Returns\\23_24\\NHS D&G SPAN 2023-24.xlsx\n",
      "Processing file: C:\\Users\\scotth07\\OneDrive - NHS Scotland\\Documents\\Networks & Projects\\SPAN UNI\\Returns\\23_24\\NHS Fife SPAN 2023-24.xlsx\n",
      "Processing file: C:\\Users\\scotth07\\OneDrive - NHS Scotland\\Documents\\Networks & Projects\\SPAN UNI\\Returns\\23_24\\NHS Forth Valley SPAN 2023-24.xlsx\n",
      "Processing file: C:\\Users\\scotth07\\OneDrive - NHS Scotland\\Documents\\Networks & Projects\\SPAN UNI\\Returns\\23_24\\NHS GG&C SPAN 2023-24.xlsx\n",
      "Processing file: C:\\Users\\scotth07\\OneDrive - NHS Scotland\\Documents\\Networks & Projects\\SPAN UNI\\Returns\\23_24\\NHS Grampian SPAN 2023-24.xlsx\n",
      "Processing file: C:\\Users\\scotth07\\OneDrive - NHS Scotland\\Documents\\Networks & Projects\\SPAN UNI\\Returns\\23_24\\NHS Highland SPAN 2023-24.xlsx\n",
      "Processing file: C:\\Users\\scotth07\\OneDrive - NHS Scotland\\Documents\\Networks & Projects\\SPAN UNI\\Returns\\23_24\\NHS Lanarkshire SPAN 2023-24.xlsx\n",
      "Processing file: C:\\Users\\scotth07\\OneDrive - NHS Scotland\\Documents\\Networks & Projects\\SPAN UNI\\Returns\\23_24\\NHS Lothian SPAN 2023-24.xlsx\n"
     ]
    }
   ],
   "source": [
    "# assign the workload data to dataframe using the defined function\n",
    "non_cerv_percentage_based_1_df = combine_excel_files(directory, '2. Turnaround', skiprows=31, nrows=2, usecols=[1,2,3])"
   ]
  },
  {
   "cell_type": "code",
   "execution_count": 92,
   "id": "357920e7-37a5-4b1a-b8de-28b5021ca6f8",
   "metadata": {},
   "outputs": [
    {
     "name": "stdout",
     "output_type": "stream",
     "text": [
      "Processing file: C:\\Users\\scotth07\\OneDrive - NHS Scotland\\Documents\\Networks & Projects\\SPAN UNI\\Returns\\23_24\\NHS A&A SPAN 2023-24.xlsx\n",
      "Processing file: C:\\Users\\scotth07\\OneDrive - NHS Scotland\\Documents\\Networks & Projects\\SPAN UNI\\Returns\\23_24\\NHS D&G SPAN 2023-24.xlsx\n",
      "Processing file: C:\\Users\\scotth07\\OneDrive - NHS Scotland\\Documents\\Networks & Projects\\SPAN UNI\\Returns\\23_24\\NHS Fife SPAN 2023-24.xlsx\n",
      "Processing file: C:\\Users\\scotth07\\OneDrive - NHS Scotland\\Documents\\Networks & Projects\\SPAN UNI\\Returns\\23_24\\NHS Forth Valley SPAN 2023-24.xlsx\n",
      "Processing file: C:\\Users\\scotth07\\OneDrive - NHS Scotland\\Documents\\Networks & Projects\\SPAN UNI\\Returns\\23_24\\NHS GG&C SPAN 2023-24.xlsx\n",
      "Processing file: C:\\Users\\scotth07\\OneDrive - NHS Scotland\\Documents\\Networks & Projects\\SPAN UNI\\Returns\\23_24\\NHS Grampian SPAN 2023-24.xlsx\n",
      "Processing file: C:\\Users\\scotth07\\OneDrive - NHS Scotland\\Documents\\Networks & Projects\\SPAN UNI\\Returns\\23_24\\NHS Highland SPAN 2023-24.xlsx\n",
      "Processing file: C:\\Users\\scotth07\\OneDrive - NHS Scotland\\Documents\\Networks & Projects\\SPAN UNI\\Returns\\23_24\\NHS Lanarkshire SPAN 2023-24.xlsx\n",
      "Processing file: C:\\Users\\scotth07\\OneDrive - NHS Scotland\\Documents\\Networks & Projects\\SPAN UNI\\Returns\\23_24\\NHS Lothian SPAN 2023-24.xlsx\n"
     ]
    }
   ],
   "source": [
    "# assign the workload data to dataframe using the defined function\n",
    "non_cerv_percentage_based_2_df = combine_excel_files(directory, '2. Turnaround', skiprows=31, nrows=2, usecols=[4])"
   ]
  },
  {
   "cell_type": "code",
   "execution_count": 93,
   "id": "f780f100-dd68-4955-b6fa-50fe73e832db",
   "metadata": {},
   "outputs": [],
   "source": [
    "# rename column appropriately\n",
    "non_cerv_percentage_based_1_df = non_cerv_percentage_based_1_df.rename(columns={'Unnamed: 1': 'Category'})"
   ]
  },
  {
   "cell_type": "code",
   "execution_count": 94,
   "id": "dfe88f0e-a82c-4dcf-88b2-7ece3510250f",
   "metadata": {},
   "outputs": [],
   "source": [
    "# unpivot the dataframe to have a single value column\n",
    "melted_non_cerv_percentage_based_1_df = pd.melt(non_cerv_percentage_based_1_df,\n",
    "                                              id_vars=['Category', 'File Name'],\n",
    "                                              value_vars=['24 hours (1 Calendar Day)',\n",
    "                                                          '72 hours (3 Calendar Days)'],\n",
    "                                              var_name='Type',\n",
    "                                              value_name='Value')\n",
    "                                      "
   ]
  },
  {
   "cell_type": "code",
   "execution_count": 95,
   "id": "9e276628-b361-446c-8228-6285815d54a1",
   "metadata": {},
   "outputs": [],
   "source": [
    "# drop na values\n",
    "non_cerv_percentage_based_2_df = non_cerv_percentage_based_2_df.dropna(subset='Total Number of Requests')"
   ]
  },
  {
   "cell_type": "code",
   "execution_count": 96,
   "id": "70cc2c79-3b89-43f2-a683-56710b466dfd",
   "metadata": {},
   "outputs": [],
   "source": [
    "# unpivot the dataframe to have a single value column\n",
    "melted_non_cerv_percentage_based_2_df = pd.melt(non_cerv_percentage_based_2_df,\n",
    "                                              id_vars=['File Name'],\n",
    "                                              value_vars=['Total Number of Requests'],\n",
    "                                              var_name='Type',\n",
    "                                              value_name='Value')\n",
    "                                      "
   ]
  },
  {
   "cell_type": "code",
   "execution_count": 97,
   "id": "d227c192-4b7c-4b4e-9935-545fd8e01278",
   "metadata": {},
   "outputs": [],
   "source": [
    "# assign category columnn\n",
    "melted_non_cerv_percentage_based_2_df['Category'] = 'Total number of requests reported within'"
   ]
  },
  {
   "cell_type": "code",
   "execution_count": 98,
   "id": "b7e5ca99-8806-4ddb-9533-0a92bd8d4595",
   "metadata": {},
   "outputs": [],
   "source": [
    "# merge the two dataframes into one\n",
    "melted_non_cerv_df = pd.concat([melted_non_cerv_percentage_based_1_df,\n",
    "                                melted_non_cerv_percentage_based_2_df])"
   ]
  },
  {
   "cell_type": "code",
   "execution_count": 99,
   "id": "53dab43f-1aa8-47ff-9f9b-7c131de96ca8",
   "metadata": {},
   "outputs": [],
   "source": [
    "# drop na and values of 0\n",
    "melted_non_cerv_df = melted_non_cerv_df.dropna(subset='Value')\n",
    "melted_non_cerv_df = melted_non_cerv_df[melted_non_cerv_df['Value'] != 0]"
   ]
  },
  {
   "cell_type": "code",
   "execution_count": 100,
   "id": "ee02715e-0830-4174-a6c4-c89040cbc841",
   "metadata": {},
   "outputs": [],
   "source": [
    "# add area column\n",
    "melted_non_cerv_df['Area'] = 'Non-Cervical/Diagnostic Cytopathology Percentage Turnaround Times'"
   ]
  },
  {
   "cell_type": "markdown",
   "id": "1cdf4613-e054-4ed2-841a-695eaf660252",
   "metadata": {},
   "source": [
    "#### Autopsy/Post Mortem QIS Turnaround Times"
   ]
  },
  {
   "cell_type": "code",
   "execution_count": 101,
   "id": "fc90d92e-323b-4813-b5e4-fe43e6e87692",
   "metadata": {},
   "outputs": [
    {
     "name": "stdout",
     "output_type": "stream",
     "text": [
      "Processing file: C:\\Users\\scotth07\\OneDrive - NHS Scotland\\Documents\\Networks & Projects\\SPAN UNI\\Returns\\23_24\\NHS A&A SPAN 2023-24.xlsx\n",
      "Processing file: C:\\Users\\scotth07\\OneDrive - NHS Scotland\\Documents\\Networks & Projects\\SPAN UNI\\Returns\\23_24\\NHS D&G SPAN 2023-24.xlsx\n",
      "Processing file: C:\\Users\\scotth07\\OneDrive - NHS Scotland\\Documents\\Networks & Projects\\SPAN UNI\\Returns\\23_24\\NHS Fife SPAN 2023-24.xlsx\n",
      "Processing file: C:\\Users\\scotth07\\OneDrive - NHS Scotland\\Documents\\Networks & Projects\\SPAN UNI\\Returns\\23_24\\NHS Forth Valley SPAN 2023-24.xlsx\n",
      "Processing file: C:\\Users\\scotth07\\OneDrive - NHS Scotland\\Documents\\Networks & Projects\\SPAN UNI\\Returns\\23_24\\NHS GG&C SPAN 2023-24.xlsx\n",
      "Processing file: C:\\Users\\scotth07\\OneDrive - NHS Scotland\\Documents\\Networks & Projects\\SPAN UNI\\Returns\\23_24\\NHS Grampian SPAN 2023-24.xlsx\n",
      "Processing file: C:\\Users\\scotth07\\OneDrive - NHS Scotland\\Documents\\Networks & Projects\\SPAN UNI\\Returns\\23_24\\NHS Highland SPAN 2023-24.xlsx\n",
      "Processing file: C:\\Users\\scotth07\\OneDrive - NHS Scotland\\Documents\\Networks & Projects\\SPAN UNI\\Returns\\23_24\\NHS Lanarkshire SPAN 2023-24.xlsx\n",
      "Processing file: C:\\Users\\scotth07\\OneDrive - NHS Scotland\\Documents\\Networks & Projects\\SPAN UNI\\Returns\\23_24\\NHS Lothian SPAN 2023-24.xlsx\n"
     ]
    }
   ],
   "source": [
    "# assign the workload data to dataframe using the defined function\n",
    "autopsy_initial_df = combine_excel_files(directory, '2. Turnaround', skiprows=40, nrows=3, usecols=[1,2])"
   ]
  },
  {
   "cell_type": "code",
   "execution_count": 102,
   "id": "41c310a7-f639-4a9c-9ef7-c30213caa5e8",
   "metadata": {},
   "outputs": [
    {
     "name": "stdout",
     "output_type": "stream",
     "text": [
      "Processing file: C:\\Users\\scotth07\\OneDrive - NHS Scotland\\Documents\\Networks & Projects\\SPAN UNI\\Returns\\23_24\\NHS A&A SPAN 2023-24.xlsx\n",
      "Processing file: C:\\Users\\scotth07\\OneDrive - NHS Scotland\\Documents\\Networks & Projects\\SPAN UNI\\Returns\\23_24\\NHS D&G SPAN 2023-24.xlsx\n",
      "Processing file: C:\\Users\\scotth07\\OneDrive - NHS Scotland\\Documents\\Networks & Projects\\SPAN UNI\\Returns\\23_24\\NHS Fife SPAN 2023-24.xlsx\n",
      "Processing file: C:\\Users\\scotth07\\OneDrive - NHS Scotland\\Documents\\Networks & Projects\\SPAN UNI\\Returns\\23_24\\NHS Forth Valley SPAN 2023-24.xlsx\n",
      "Processing file: C:\\Users\\scotth07\\OneDrive - NHS Scotland\\Documents\\Networks & Projects\\SPAN UNI\\Returns\\23_24\\NHS GG&C SPAN 2023-24.xlsx\n",
      "Processing file: C:\\Users\\scotth07\\OneDrive - NHS Scotland\\Documents\\Networks & Projects\\SPAN UNI\\Returns\\23_24\\NHS Grampian SPAN 2023-24.xlsx\n",
      "Processing file: C:\\Users\\scotth07\\OneDrive - NHS Scotland\\Documents\\Networks & Projects\\SPAN UNI\\Returns\\23_24\\NHS Highland SPAN 2023-24.xlsx\n",
      "Processing file: C:\\Users\\scotth07\\OneDrive - NHS Scotland\\Documents\\Networks & Projects\\SPAN UNI\\Returns\\23_24\\NHS Lanarkshire SPAN 2023-24.xlsx\n",
      "Processing file: C:\\Users\\scotth07\\OneDrive - NHS Scotland\\Documents\\Networks & Projects\\SPAN UNI\\Returns\\23_24\\NHS Lothian SPAN 2023-24.xlsx\n"
     ]
    }
   ],
   "source": [
    "autopsy_final_df = combine_excel_files(directory, '2. Turnaround', skiprows=44, nrows=3, usecols=[1,2])"
   ]
  },
  {
   "cell_type": "code",
   "execution_count": 103,
   "id": "3689e269-929a-406d-a00b-cfa184a3eb52",
   "metadata": {},
   "outputs": [],
   "source": [
    "autopsy_initial_df = autopsy_initial_df.rename(columns={'Initial Reports': 'Type',\n",
    "                                                'Unnamed: 2': 'Value'})\n",
    "\n",
    "\n",
    "autopsy_final_df = autopsy_final_df.rename(columns={'Final Reports': 'Type',\n",
    "                                              'Unnamed: 2': 'Value'})"
   ]
  },
  {
   "cell_type": "code",
   "execution_count": 104,
   "id": "343f1ceb-1eb8-41d9-9dbd-f56bcbe85e44",
   "metadata": {},
   "outputs": [],
   "source": [
    "autopsy_initial_df['Category'] = 'Initial Reports'\n",
    "autopsy_final_df['Category'] = 'Final Reports'"
   ]
  },
  {
   "cell_type": "code",
   "execution_count": 105,
   "id": "d825ed1a-4628-4606-a61f-4c8ebed79381",
   "metadata": {},
   "outputs": [],
   "source": [
    "autopsy_initial_df['Source Sheet'] = 'Sheet2_4_AutopsyInitial' \n",
    "autopsy_final_df['Source Sheet'] = 'Sheet2_5_AutopsyFinal' "
   ]
  },
  {
   "cell_type": "code",
   "execution_count": 106,
   "id": "fe9fff66-86c6-4e69-bda3-92e3e49d2e8d",
   "metadata": {},
   "outputs": [],
   "source": [
    "autopsy_df = pd.concat([autopsy_initial_df,\n",
    "                        autopsy_final_df])"
   ]
  },
  {
   "cell_type": "code",
   "execution_count": 107,
   "id": "f91bc927-5369-4252-8e13-ae3495f666bd",
   "metadata": {},
   "outputs": [],
   "source": [
    "autopsy_df['Area'] = 'Autopsy/Post Mortem QIS Turnaround Times'"
   ]
  },
  {
   "cell_type": "code",
   "execution_count": 108,
   "id": "6fb52c8c-20b9-4431-a6bd-84493423dcdc",
   "metadata": {},
   "outputs": [],
   "source": [
    "autopsy_df = autopsy_df[autopsy_df['Value'] != 0]\n",
    "autopsy_df = autopsy_df.dropna(subset='Value')"
   ]
  },
  {
   "cell_type": "code",
   "execution_count": 109,
   "id": "510898cd-de97-459e-ab2f-b6493099442a",
   "metadata": {},
   "outputs": [],
   "source": [
    "melted_specimen_specific_df['Source Sheet'] = 'Sheet2_1_HistoSpecimenSpecific' \n",
    "melted_percentage_based_df['Source Sheet'] = 'Sheet2_2_HistoPercent'\n",
    "melted_non_cerv_df['Source Sheet'] = 'Sheet2_3_NonCervical'"
   ]
  },
  {
   "cell_type": "markdown",
   "id": "d849c77d-a12b-4a89-8f86-d659da389e2e",
   "metadata": {},
   "source": [
    "### Merge the dataframes"
   ]
  },
  {
   "cell_type": "code",
   "execution_count": 110,
   "id": "01b10aea-9cb0-4fd1-89c9-e6a4d455f9df",
   "metadata": {},
   "outputs": [],
   "source": [
    "merged_df = pd.concat([melted_specimen_specific_df,\n",
    "                      melted_percentage_based_df,\n",
    "                      melted_non_cerv_df,\n",
    "                      autopsy_df])"
   ]
  },
  {
   "cell_type": "code",
   "execution_count": 111,
   "id": "37c06141-0221-401c-adb0-903f866902fa",
   "metadata": {},
   "outputs": [],
   "source": [
    "merged_df = merged_df.rename(columns={'File Name': 'Source File'}) "
   ]
  },
  {
   "cell_type": "code",
   "execution_count": 112,
   "id": "6cbf8b73-dc29-43f3-a99e-dc44dbf59cae",
   "metadata": {},
   "outputs": [],
   "source": [
    "# extract health board from file name\n",
    "merged_df['Health Board'] = merged_df['Source File'].apply(extract_hb)"
   ]
  },
  {
   "cell_type": "code",
   "execution_count": 113,
   "id": "da9e0056-8830-4311-b917-729d3ecef6e5",
   "metadata": {},
   "outputs": [],
   "source": [
    "merged_df['Year'] = '23/23'"
   ]
  },
  {
   "cell_type": "code",
   "execution_count": 114,
   "id": "cd20c208-d067-4c21-8bec-cb932a8d8b0f",
   "metadata": {},
   "outputs": [],
   "source": [
    "# rename health boards with short code\n",
    "merged_df = merged_df.replace({'Fife': 'FIFE',\n",
    "                               'Forth': 'FV',\n",
    "                               'Grampian': 'GRAM',\n",
    "                               'Highland': 'HIGH',\n",
    "                               'Lanarkshire': 'LAN',\n",
    "                               'Lothian': 'LOTH',\n",
    "                               'Tayside': 'TAY'})"
   ]
  },
  {
   "cell_type": "code",
   "execution_count": 115,
   "id": "c7c8a08e-0115-45ef-8ffd-56a0ae2e44a3",
   "metadata": {},
   "outputs": [],
   "source": [
    "# define new order for columns\n",
    "column_order = ['Source File',\n",
    "               'Source Sheet',\n",
    "               'Health Board',\n",
    "               'Year',\n",
    "               'Area',\n",
    "               'Category',\n",
    "               'Type',\n",
    "               'Value']\n",
    "\n",
    "\n",
    "# apply new column order\n",
    "merged_df = merged_df[column_order]"
   ]
  },
  {
   "cell_type": "code",
   "execution_count": 116,
   "id": "29f3aaf5-36d8-4c9f-b34f-069df32f0a0e",
   "metadata": {},
   "outputs": [
    {
     "data": {
      "text/html": [
       "<div>\n",
       "<style scoped>\n",
       "    .dataframe tbody tr th:only-of-type {\n",
       "        vertical-align: middle;\n",
       "    }\n",
       "\n",
       "    .dataframe tbody tr th {\n",
       "        vertical-align: top;\n",
       "    }\n",
       "\n",
       "    .dataframe thead th {\n",
       "        text-align: right;\n",
       "    }\n",
       "</style>\n",
       "<table border=\"1\" class=\"dataframe\">\n",
       "  <thead>\n",
       "    <tr style=\"text-align: right;\">\n",
       "      <th></th>\n",
       "      <th>Source File</th>\n",
       "      <th>Source Sheet</th>\n",
       "      <th>Health Board</th>\n",
       "      <th>Year</th>\n",
       "      <th>Area</th>\n",
       "      <th>Category</th>\n",
       "      <th>Type</th>\n",
       "      <th>Value</th>\n",
       "    </tr>\n",
       "  </thead>\n",
       "  <tbody>\n",
       "    <tr>\n",
       "      <th>0</th>\n",
       "      <td>NHS A&amp;A SPAN 2023-24.xlsx</td>\n",
       "      <td>Sheet2_1_HistoSpecimenSpecific</td>\n",
       "      <td>A&amp;A</td>\n",
       "      <td>23/23</td>\n",
       "      <td>General Histopathology Specimen Specific Turna...</td>\n",
       "      <td>Mean turnaround time (hours)</td>\n",
       "      <td>Diagnostic Breast Core Needle Biopsies</td>\n",
       "      <td>121.46</td>\n",
       "    </tr>\n",
       "    <tr>\n",
       "      <th>1</th>\n",
       "      <td>NHS A&amp;A SPAN 2023-24.xlsx</td>\n",
       "      <td>Sheet2_1_HistoSpecimenSpecific</td>\n",
       "      <td>A&amp;A</td>\n",
       "      <td>23/23</td>\n",
       "      <td>General Histopathology Specimen Specific Turna...</td>\n",
       "      <td>Total number on which the mean turnaround is b...</td>\n",
       "      <td>Diagnostic Breast Core Needle Biopsies</td>\n",
       "      <td>967.0</td>\n",
       "    </tr>\n",
       "    <tr>\n",
       "      <th>2</th>\n",
       "      <td>NHS A&amp;A SPAN 2023-24.xlsx</td>\n",
       "      <td>Sheet2_1_HistoSpecimenSpecific</td>\n",
       "      <td>A&amp;A</td>\n",
       "      <td>23/23</td>\n",
       "      <td>General Histopathology Specimen Specific Turna...</td>\n",
       "      <td>Number reported within 7 calendar days</td>\n",
       "      <td>Diagnostic Breast Core Needle Biopsies</td>\n",
       "      <td>867.0</td>\n",
       "    </tr>\n",
       "    <tr>\n",
       "      <th>6</th>\n",
       "      <td>NHS D&amp;G SPAN 2023-24.xlsx</td>\n",
       "      <td>Sheet2_1_HistoSpecimenSpecific</td>\n",
       "      <td>D&amp;G</td>\n",
       "      <td>23/23</td>\n",
       "      <td>General Histopathology Specimen Specific Turna...</td>\n",
       "      <td>Mean turnaround time (hours)</td>\n",
       "      <td>Diagnostic Breast Core Needle Biopsies</td>\n",
       "      <td>111.6</td>\n",
       "    </tr>\n",
       "    <tr>\n",
       "      <th>7</th>\n",
       "      <td>NHS D&amp;G SPAN 2023-24.xlsx</td>\n",
       "      <td>Sheet2_1_HistoSpecimenSpecific</td>\n",
       "      <td>D&amp;G</td>\n",
       "      <td>23/23</td>\n",
       "      <td>General Histopathology Specimen Specific Turna...</td>\n",
       "      <td>Total number on which the mean turnaround is b...</td>\n",
       "      <td>Diagnostic Breast Core Needle Biopsies</td>\n",
       "      <td>241.0</td>\n",
       "    </tr>\n",
       "    <tr>\n",
       "      <th>...</th>\n",
       "      <td>...</td>\n",
       "      <td>...</td>\n",
       "      <td>...</td>\n",
       "      <td>...</td>\n",
       "      <td>...</td>\n",
       "      <td>...</td>\n",
       "      <td>...</td>\n",
       "      <td>...</td>\n",
       "    </tr>\n",
       "    <tr>\n",
       "      <th>19</th>\n",
       "      <td>NHS Highland SPAN 2023-24.xlsx</td>\n",
       "      <td>Sheet2_5_AutopsyFinal</td>\n",
       "      <td>HIGH</td>\n",
       "      <td>23/23</td>\n",
       "      <td>Autopsy/Post Mortem QIS Turnaround Times</td>\n",
       "      <td>Final Reports</td>\n",
       "      <td>Total number of requests</td>\n",
       "      <td>8.0</td>\n",
       "    </tr>\n",
       "    <tr>\n",
       "      <th>20</th>\n",
       "      <td>NHS Highland SPAN 2023-24.xlsx</td>\n",
       "      <td>Sheet2_5_AutopsyFinal</td>\n",
       "      <td>HIGH</td>\n",
       "      <td>23/23</td>\n",
       "      <td>Autopsy/Post Mortem QIS Turnaround Times</td>\n",
       "      <td>Final Reports</td>\n",
       "      <td>% available within 30 Working Days (Target 90%)</td>\n",
       "      <td>0.375</td>\n",
       "    </tr>\n",
       "    <tr>\n",
       "      <th>24</th>\n",
       "      <td>NHS Lothian SPAN 2023-24.xlsx</td>\n",
       "      <td>Sheet2_5_AutopsyFinal</td>\n",
       "      <td>LOTH</td>\n",
       "      <td>23/23</td>\n",
       "      <td>Autopsy/Post Mortem QIS Turnaround Times</td>\n",
       "      <td>Final Reports</td>\n",
       "      <td>Total number of requests within 30 Working Days</td>\n",
       "      <td>17.0</td>\n",
       "    </tr>\n",
       "    <tr>\n",
       "      <th>25</th>\n",
       "      <td>NHS Lothian SPAN 2023-24.xlsx</td>\n",
       "      <td>Sheet2_5_AutopsyFinal</td>\n",
       "      <td>LOTH</td>\n",
       "      <td>23/23</td>\n",
       "      <td>Autopsy/Post Mortem QIS Turnaround Times</td>\n",
       "      <td>Final Reports</td>\n",
       "      <td>Total number of requests</td>\n",
       "      <td>169.0</td>\n",
       "    </tr>\n",
       "    <tr>\n",
       "      <th>26</th>\n",
       "      <td>NHS Lothian SPAN 2023-24.xlsx</td>\n",
       "      <td>Sheet2_5_AutopsyFinal</td>\n",
       "      <td>LOTH</td>\n",
       "      <td>23/23</td>\n",
       "      <td>Autopsy/Post Mortem QIS Turnaround Times</td>\n",
       "      <td>Final Reports</td>\n",
       "      <td>% available within 30 Working Days (Target 90%)</td>\n",
       "      <td>0.100592</td>\n",
       "    </tr>\n",
       "  </tbody>\n",
       "</table>\n",
       "<p>454 rows × 8 columns</p>\n",
       "</div>"
      ],
      "text/plain": [
       "                       Source File                    Source Sheet  \\\n",
       "0        NHS A&A SPAN 2023-24.xlsx  Sheet2_1_HistoSpecimenSpecific   \n",
       "1        NHS A&A SPAN 2023-24.xlsx  Sheet2_1_HistoSpecimenSpecific   \n",
       "2        NHS A&A SPAN 2023-24.xlsx  Sheet2_1_HistoSpecimenSpecific   \n",
       "6        NHS D&G SPAN 2023-24.xlsx  Sheet2_1_HistoSpecimenSpecific   \n",
       "7        NHS D&G SPAN 2023-24.xlsx  Sheet2_1_HistoSpecimenSpecific   \n",
       "..                             ...                             ...   \n",
       "19  NHS Highland SPAN 2023-24.xlsx           Sheet2_5_AutopsyFinal   \n",
       "20  NHS Highland SPAN 2023-24.xlsx           Sheet2_5_AutopsyFinal   \n",
       "24   NHS Lothian SPAN 2023-24.xlsx           Sheet2_5_AutopsyFinal   \n",
       "25   NHS Lothian SPAN 2023-24.xlsx           Sheet2_5_AutopsyFinal   \n",
       "26   NHS Lothian SPAN 2023-24.xlsx           Sheet2_5_AutopsyFinal   \n",
       "\n",
       "   Health Board   Year                                               Area  \\\n",
       "0           A&A  23/23  General Histopathology Specimen Specific Turna...   \n",
       "1           A&A  23/23  General Histopathology Specimen Specific Turna...   \n",
       "2           A&A  23/23  General Histopathology Specimen Specific Turna...   \n",
       "6           D&G  23/23  General Histopathology Specimen Specific Turna...   \n",
       "7           D&G  23/23  General Histopathology Specimen Specific Turna...   \n",
       "..          ...    ...                                                ...   \n",
       "19         HIGH  23/23           Autopsy/Post Mortem QIS Turnaround Times   \n",
       "20         HIGH  23/23           Autopsy/Post Mortem QIS Turnaround Times   \n",
       "24         LOTH  23/23           Autopsy/Post Mortem QIS Turnaround Times   \n",
       "25         LOTH  23/23           Autopsy/Post Mortem QIS Turnaround Times   \n",
       "26         LOTH  23/23           Autopsy/Post Mortem QIS Turnaround Times   \n",
       "\n",
       "                                             Category  \\\n",
       "0                        Mean turnaround time (hours)   \n",
       "1   Total number on which the mean turnaround is b...   \n",
       "2              Number reported within 7 calendar days   \n",
       "6                        Mean turnaround time (hours)   \n",
       "7   Total number on which the mean turnaround is b...   \n",
       "..                                                ...   \n",
       "19                                      Final Reports   \n",
       "20                                      Final Reports   \n",
       "24                                      Final Reports   \n",
       "25                                      Final Reports   \n",
       "26                                      Final Reports   \n",
       "\n",
       "                                                Type     Value  \n",
       "0             Diagnostic Breast Core Needle Biopsies    121.46  \n",
       "1             Diagnostic Breast Core Needle Biopsies     967.0  \n",
       "2             Diagnostic Breast Core Needle Biopsies     867.0  \n",
       "6             Diagnostic Breast Core Needle Biopsies     111.6  \n",
       "7             Diagnostic Breast Core Needle Biopsies     241.0  \n",
       "..                                               ...       ...  \n",
       "19                          Total number of requests       8.0  \n",
       "20   % available within 30 Working Days (Target 90%)     0.375  \n",
       "24  Total number of requests within 30 Working Days       17.0  \n",
       "25                          Total number of requests     169.0  \n",
       "26   % available within 30 Working Days (Target 90%)  0.100592  \n",
       "\n",
       "[454 rows x 8 columns]"
      ]
     },
     "execution_count": 116,
     "metadata": {},
     "output_type": "execute_result"
    }
   ],
   "source": [
    "merged_df"
   ]
  },
  {
   "cell_type": "code",
   "execution_count": 117,
   "id": "3d4545fc-04a3-4a88-a226-8e088e819fe1",
   "metadata": {},
   "outputs": [],
   "source": [
    "merged_df.to_csv('cleaned_data/turnaround.csv', index=False)"
   ]
  },
  {
   "cell_type": "code",
   "execution_count": null,
   "id": "50b0ba04-cc19-4805-b33b-3df3a4801825",
   "metadata": {},
   "outputs": [],
   "source": []
  }
 ],
 "metadata": {
  "kernelspec": {
   "display_name": "Python 3 (ipykernel)",
   "language": "python",
   "name": "python3"
  },
  "language_info": {
   "codemirror_mode": {
    "name": "ipython",
    "version": 3
   },
   "file_extension": ".py",
   "mimetype": "text/x-python",
   "name": "python",
   "nbconvert_exporter": "python",
   "pygments_lexer": "ipython3",
   "version": "3.11.5"
  }
 },
 "nbformat": 4,
 "nbformat_minor": 5
}
