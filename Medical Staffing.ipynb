{
 "cells": [
  {
   "cell_type": "markdown",
   "id": "b15aeb36-54f5-44a5-86a5-9c64c6b8012c",
   "metadata": {},
   "source": [
    "### Import libraries"
   ]
  },
  {
   "cell_type": "code",
   "execution_count": 50,
   "id": "4f72812e-df13-4ef4-9e7e-1367c4f48d35",
   "metadata": {},
   "outputs": [],
   "source": [
    "import os\n",
    "import pandas as pd\n",
    "import numpy as np\n"
   ]
  },
  {
   "cell_type": "markdown",
   "id": "52bdb107-c96f-4615-b929-ce73c70548d9",
   "metadata": {},
   "source": [
    "### Define functions and file pathway for collecting excel files"
   ]
  },
  {
   "cell_type": "code",
   "execution_count": 51,
   "id": "5ca39670-bd0b-4c20-ab55-0c14c716b70b",
   "metadata": {},
   "outputs": [],
   "source": [
    "# define the directory for the files\n",
    "directory = r\"C:\\Users\\scotth07\\OneDrive - NHS Scotland\\Documents\\Networks & Projects\\SPAN UNI\\Returns\\23_24\""
   ]
  },
  {
   "cell_type": "code",
   "execution_count": 52,
   "id": "4ee3e8dc-cf55-4777-8600-3b843a6d5bef",
   "metadata": {},
   "outputs": [],
   "source": [
    "# function to combine data from Excel files\n",
    "def combine_excel_files(input_directory, sheet_name, skiprows, nrows, usecols):\n",
    "    all_data = []\n",
    "    for file in os.listdir(input_directory):\n",
    "        if file.endswith('.xlsx'):\n",
    "            try:\n",
    "                file_path = os.path.join(input_directory, file)\n",
    "                print(f\"Processing file: {file_path}\")\n",
    "                data = pd.read_excel(file_path, sheet_name=sheet_name, \n",
    "                                     skiprows=skiprows, nrows=nrows, usecols=usecols).assign(**{'File Name': file})\n",
    "                all_data.append(data)\n",
    "            except ValueError as e:\n",
    "                print(f\"ValueError in file: {file} - {e}\")\n",
    "            except Exception as e:\n",
    "                print(f\"Error in file: {file} - {e}\")\n",
    "    return pd.concat(all_data, ignore_index=True)\n",
    "\n",
    "\n",
    "\n",
    "# function to extract the health baord  from the file name\n",
    "def extract_hb(data):\n",
    "    try:\n",
    "        parts = data.split(' ')\n",
    "        health_board = parts[1]\n",
    "        return health_board\n",
    "    except IndexError:\n",
    "        # Handle cases where the format is not as expected\n",
    "        return 'Unknown'\n"
   ]
  },
  {
   "cell_type": "markdown",
   "id": "04eb7ce9-c0ff-4ed0-9405-4870457b9c93",
   "metadata": {},
   "source": [
    "### Ingest data from 5. Medical Staffing sheet"
   ]
  },
  {
   "cell_type": "markdown",
   "id": "226d0d83-f17d-4c87-b38b-c6ba2c82706c",
   "metadata": {},
   "source": [
    "#### Consultants"
   ]
  },
  {
   "cell_type": "code",
   "execution_count": 53,
   "id": "1c42efca-8c84-4231-affb-b5259f70e5ea",
   "metadata": {},
   "outputs": [
    {
     "name": "stdout",
     "output_type": "stream",
     "text": [
      "Processing file: C:\\Users\\scotth07\\OneDrive - NHS Scotland\\Documents\\Networks & Projects\\SPAN UNI\\Returns\\23_24\\NHS A&A SPAN 2023-24.xlsx\n",
      "Processing file: C:\\Users\\scotth07\\OneDrive - NHS Scotland\\Documents\\Networks & Projects\\SPAN UNI\\Returns\\23_24\\NHS D&G SPAN 2023-24.xlsx\n",
      "Processing file: C:\\Users\\scotth07\\OneDrive - NHS Scotland\\Documents\\Networks & Projects\\SPAN UNI\\Returns\\23_24\\NHS Fife SPAN 2023-24.xlsx\n",
      "Processing file: C:\\Users\\scotth07\\OneDrive - NHS Scotland\\Documents\\Networks & Projects\\SPAN UNI\\Returns\\23_24\\NHS Forth Valley SPAN 2023-24.xlsx\n",
      "Processing file: C:\\Users\\scotth07\\OneDrive - NHS Scotland\\Documents\\Networks & Projects\\SPAN UNI\\Returns\\23_24\\NHS GG&C SPAN 2023-24.xlsx\n",
      "Processing file: C:\\Users\\scotth07\\OneDrive - NHS Scotland\\Documents\\Networks & Projects\\SPAN UNI\\Returns\\23_24\\NHS Grampian SPAN 2023-24.xlsx\n",
      "Processing file: C:\\Users\\scotth07\\OneDrive - NHS Scotland\\Documents\\Networks & Projects\\SPAN UNI\\Returns\\23_24\\NHS Highland SPAN 2023-24.xlsx\n",
      "Processing file: C:\\Users\\scotth07\\OneDrive - NHS Scotland\\Documents\\Networks & Projects\\SPAN UNI\\Returns\\23_24\\NHS Lanarkshire SPAN 2023-24.xlsx\n",
      "Processing file: C:\\Users\\scotth07\\OneDrive - NHS Scotland\\Documents\\Networks & Projects\\SPAN UNI\\Returns\\23_24\\NHS Lothian SPAN 2023-24.xlsx\n"
     ]
    }
   ],
   "source": [
    "# assign the data to dataframe using the defined function\n",
    "consultants_df = combine_excel_files(directory, '5. Medical Staffing', skiprows=8, nrows=11, usecols=[1,2,3,4,5,6,7,8])"
   ]
  },
  {
   "cell_type": "code",
   "execution_count": 54,
   "id": "61d8c619-1a43-4948-8ab2-f2a09174225d",
   "metadata": {},
   "outputs": [],
   "source": [
    "consultants_df = consultants_df.rename(columns={'Unnamed: 1': 'Sub-Category',\n",
    "                                               'File Name': 'Source File'})"
   ]
  },
  {
   "cell_type": "code",
   "execution_count": 55,
   "id": "2af859e4-60d2-4c33-8613-1cb8e040eb01",
   "metadata": {},
   "outputs": [],
   "source": [
    "consultants_df = consultants_df[consultants_df['Sub-Category'] != 'Consultants']"
   ]
  },
  {
   "cell_type": "code",
   "execution_count": 56,
   "id": "c065e418-5b1f-4a9f-b79a-55ecb861c42c",
   "metadata": {},
   "outputs": [],
   "source": [
    "# unpivot the dataframe to have a single value column\n",
    "melted_consultants_df = pd.melt(consultants_df,\n",
    "                                      id_vars=['Sub-Category', 'Source File'],\n",
    "                                      value_vars=['General Histopathology',\n",
    "                                                  'Non-Cervical/ Diagnostic Cytopathology',\n",
    "                                                  'Cervical Screening Cytopathology',\n",
    "                                                  'Mortuary & Autopsy (Adult)',\n",
    "                                                  'Mortuary & Autopsy (Perinatal)', \n",
    "                                                  'Paediatric Pathology',\n",
    "                                                  'Neuropathology'],\n",
    "                                      var_name='Area',\n",
    "                                      value_name='Value')\n",
    "                                      "
   ]
  },
  {
   "cell_type": "code",
   "execution_count": 57,
   "id": "147af99f-4ccd-4b63-ba52-cd13e05aa7a6",
   "metadata": {},
   "outputs": [],
   "source": [
    "melted_consultants_df['Category'] = 'Consultants'"
   ]
  },
  {
   "cell_type": "code",
   "execution_count": 58,
   "id": "8fdd0a2c-1c60-4792-a013-4ff1c5a45c00",
   "metadata": {},
   "outputs": [],
   "source": [
    "# drop na and 0 rows\n",
    "melted_consultants_df = melted_consultants_df[melted_consultants_df['Value'] != 0]\n",
    "melted_consultants_df = melted_consultants_df.dropna(subset='Value')"
   ]
  },
  {
   "cell_type": "code",
   "execution_count": 59,
   "id": "8251577b-5beb-4f33-a9f4-f20694fcbd8a",
   "metadata": {},
   "outputs": [],
   "source": [
    "melted_consultants_df['Source Sheet'] = 'Sheet5_1_ConsultantsNHS' "
   ]
  },
  {
   "cell_type": "markdown",
   "id": "7674d616-0ed6-47be-8cbc-af09fce7a26d",
   "metadata": {},
   "source": [
    "#### Non-Consultants (SAS)"
   ]
  },
  {
   "cell_type": "code",
   "execution_count": 60,
   "id": "05b06ee3-1f2f-4ca5-bbe8-19e6bcacb845",
   "metadata": {},
   "outputs": [
    {
     "name": "stdout",
     "output_type": "stream",
     "text": [
      "Processing file: C:\\Users\\scotth07\\OneDrive - NHS Scotland\\Documents\\Networks & Projects\\SPAN UNI\\Returns\\23_24\\NHS A&A SPAN 2023-24.xlsx\n",
      "Processing file: C:\\Users\\scotth07\\OneDrive - NHS Scotland\\Documents\\Networks & Projects\\SPAN UNI\\Returns\\23_24\\NHS D&G SPAN 2023-24.xlsx\n",
      "Processing file: C:\\Users\\scotth07\\OneDrive - NHS Scotland\\Documents\\Networks & Projects\\SPAN UNI\\Returns\\23_24\\NHS Fife SPAN 2023-24.xlsx\n",
      "Processing file: C:\\Users\\scotth07\\OneDrive - NHS Scotland\\Documents\\Networks & Projects\\SPAN UNI\\Returns\\23_24\\NHS Forth Valley SPAN 2023-24.xlsx\n",
      "Processing file: C:\\Users\\scotth07\\OneDrive - NHS Scotland\\Documents\\Networks & Projects\\SPAN UNI\\Returns\\23_24\\NHS GG&C SPAN 2023-24.xlsx\n",
      "Processing file: C:\\Users\\scotth07\\OneDrive - NHS Scotland\\Documents\\Networks & Projects\\SPAN UNI\\Returns\\23_24\\NHS Grampian SPAN 2023-24.xlsx\n",
      "Processing file: C:\\Users\\scotth07\\OneDrive - NHS Scotland\\Documents\\Networks & Projects\\SPAN UNI\\Returns\\23_24\\NHS Highland SPAN 2023-24.xlsx\n",
      "Processing file: C:\\Users\\scotth07\\OneDrive - NHS Scotland\\Documents\\Networks & Projects\\SPAN UNI\\Returns\\23_24\\NHS Lanarkshire SPAN 2023-24.xlsx\n",
      "Processing file: C:\\Users\\scotth07\\OneDrive - NHS Scotland\\Documents\\Networks & Projects\\SPAN UNI\\Returns\\23_24\\NHS Lothian SPAN 2023-24.xlsx\n"
     ]
    }
   ],
   "source": [
    "# assign the data to dataframe using the defined function\n",
    "non_consultants_df = combine_excel_files(directory, '5. Medical Staffing', skiprows=20, nrows=11, usecols=[1,2,3,4,5,6,7,8])"
   ]
  },
  {
   "cell_type": "code",
   "execution_count": 61,
   "id": "d579a43d-157c-4afa-8f83-b8c73b65b397",
   "metadata": {},
   "outputs": [],
   "source": [
    "non_consultants_df = non_consultants_df.rename(columns={'Unnamed: 1': 'Sub-Category',\n",
    "                                               'File Name': 'Source File'})"
   ]
  },
  {
   "cell_type": "code",
   "execution_count": 62,
   "id": "ef58b95c-c86a-4f46-b637-fe3dae651132",
   "metadata": {},
   "outputs": [],
   "source": [
    "non_consultants_df = non_consultants_df[non_consultants_df['Sub-Category'] != 'Non-Consultant (SAS)']"
   ]
  },
  {
   "cell_type": "code",
   "execution_count": 63,
   "id": "330c2d2e-a75c-4b86-b0c6-7340dabb9a49",
   "metadata": {},
   "outputs": [],
   "source": [
    "# unpivot the dataframe to have a single value column\n",
    "melted_non_consultants_df = pd.melt(non_consultants_df,\n",
    "                                      id_vars=['Sub-Category', 'Source File'],\n",
    "                                      value_vars=['General Histopathology',\n",
    "                                                  'Non-Cervical/ Diagnostic Cytopathology',\n",
    "                                                  'Cervical Screening Cytopathology',\n",
    "                                                  'Mortuary & Autopsy (Adult)',\n",
    "                                                  'Mortuary & Autopsy (Perinatal)', \n",
    "                                                  'Paediatric Pathology',\n",
    "                                                  'Neuropathology'],\n",
    "                                      var_name='Area',\n",
    "                                      value_name='Value')\n",
    "                                      "
   ]
  },
  {
   "cell_type": "code",
   "execution_count": 64,
   "id": "e5ff4b9d-7389-4390-9229-7bbdee306b57",
   "metadata": {},
   "outputs": [],
   "source": [
    "melted_non_consultants_df['Category'] = 'Non-Consultants (SAS)'"
   ]
  },
  {
   "cell_type": "code",
   "execution_count": 65,
   "id": "b9cdde47-48ea-46f3-90d8-5bb974af98fb",
   "metadata": {},
   "outputs": [],
   "source": [
    "# drop na and 0 rows\n",
    "melted_non_consultants_df = melted_non_consultants_df[melted_non_consultants_df['Value'] != 0]\n",
    "melted_non_consultants_df = melted_non_consultants_df.dropna(subset='Value')"
   ]
  },
  {
   "cell_type": "code",
   "execution_count": 66,
   "id": "009dd920-dd7e-4fa7-9ea5-18db3f33b752",
   "metadata": {},
   "outputs": [],
   "source": [
    "melted_non_consultants_df['Source Sheet'] = 'Sheet5_1_NonConsultantsNHS' "
   ]
  },
  {
   "cell_type": "markdown",
   "id": "b872f4e8-0963-4a7d-b6a8-343b7ac24dd5",
   "metadata": {},
   "source": [
    "#### University Consultants"
   ]
  },
  {
   "cell_type": "code",
   "execution_count": 67,
   "id": "6c85631a-efd6-4073-9e31-c0ef1e74152b",
   "metadata": {},
   "outputs": [
    {
     "name": "stdout",
     "output_type": "stream",
     "text": [
      "Processing file: C:\\Users\\scotth07\\OneDrive - NHS Scotland\\Documents\\Networks & Projects\\SPAN UNI\\Returns\\23_24\\NHS A&A SPAN 2023-24.xlsx\n",
      "Processing file: C:\\Users\\scotth07\\OneDrive - NHS Scotland\\Documents\\Networks & Projects\\SPAN UNI\\Returns\\23_24\\NHS D&G SPAN 2023-24.xlsx\n",
      "Processing file: C:\\Users\\scotth07\\OneDrive - NHS Scotland\\Documents\\Networks & Projects\\SPAN UNI\\Returns\\23_24\\NHS Fife SPAN 2023-24.xlsx\n",
      "Processing file: C:\\Users\\scotth07\\OneDrive - NHS Scotland\\Documents\\Networks & Projects\\SPAN UNI\\Returns\\23_24\\NHS Forth Valley SPAN 2023-24.xlsx\n",
      "Processing file: C:\\Users\\scotth07\\OneDrive - NHS Scotland\\Documents\\Networks & Projects\\SPAN UNI\\Returns\\23_24\\NHS GG&C SPAN 2023-24.xlsx\n",
      "Processing file: C:\\Users\\scotth07\\OneDrive - NHS Scotland\\Documents\\Networks & Projects\\SPAN UNI\\Returns\\23_24\\NHS Grampian SPAN 2023-24.xlsx\n",
      "Processing file: C:\\Users\\scotth07\\OneDrive - NHS Scotland\\Documents\\Networks & Projects\\SPAN UNI\\Returns\\23_24\\NHS Highland SPAN 2023-24.xlsx\n",
      "Processing file: C:\\Users\\scotth07\\OneDrive - NHS Scotland\\Documents\\Networks & Projects\\SPAN UNI\\Returns\\23_24\\NHS Lanarkshire SPAN 2023-24.xlsx\n",
      "Processing file: C:\\Users\\scotth07\\OneDrive - NHS Scotland\\Documents\\Networks & Projects\\SPAN UNI\\Returns\\23_24\\NHS Lothian SPAN 2023-24.xlsx\n"
     ]
    }
   ],
   "source": [
    "# assign the data to dataframe using the defined function\n",
    "university_consultants_df = combine_excel_files(directory, '5. Medical Staffing', skiprows=41, nrows=11, usecols=[1,2,3,4,5,6,7,8])"
   ]
  },
  {
   "cell_type": "code",
   "execution_count": 68,
   "id": "d10d1dd7-21cb-4be5-b65a-f4f396c29ce3",
   "metadata": {},
   "outputs": [],
   "source": [
    "university_consultants_df = university_consultants_df.rename(columns={'Unnamed: 1': 'Sub-Category',\n",
    "                                               'File Name': 'Source File'})"
   ]
  },
  {
   "cell_type": "code",
   "execution_count": 69,
   "id": "7e2f0ed5-63ca-418b-aa1c-b0f5245947fc",
   "metadata": {},
   "outputs": [],
   "source": [
    "university_consultants_df = university_consultants_df[university_consultants_df['Sub-Category'] != 'Consultants']"
   ]
  },
  {
   "cell_type": "code",
   "execution_count": 70,
   "id": "5142540d-7aa8-4b35-8538-39a1d4ed6976",
   "metadata": {},
   "outputs": [],
   "source": [
    "# unpivot the dataframe to have a single value column\n",
    "melted_university_consultants_df = pd.melt(university_consultants_df,\n",
    "                                      id_vars=['Sub-Category', 'Source File'],\n",
    "                                      value_vars=['General Histopathology',\n",
    "                                                  'Non-Cervical/ Diagnostic Cytopathology',\n",
    "                                                  'Cervical Screening Cytopathology',\n",
    "                                                  'Mortuary & Autopsy (Adult)',\n",
    "                                                  'Mortuary & Autopsy (Perinatal)', \n",
    "                                                  'Paediatric Pathology',\n",
    "                                                  'Neuropathology'],\n",
    "                                      var_name='Area',\n",
    "                                      value_name='Value')\n",
    "                                      "
   ]
  },
  {
   "cell_type": "code",
   "execution_count": 71,
   "id": "7171aa5d-7289-451d-a343-26f4ae9ea73b",
   "metadata": {},
   "outputs": [],
   "source": [
    "melted_university_consultants_df['Category'] = 'University Consultant'"
   ]
  },
  {
   "cell_type": "code",
   "execution_count": 72,
   "id": "d72c249a-a56e-4953-8cdf-1505707308c7",
   "metadata": {},
   "outputs": [],
   "source": [
    "# drop na and 0 rows\n",
    "melted_university_consultants_df = melted_university_consultants_df[melted_university_consultants_df['Value'] != 0]\n",
    "melted_university_consultants_df = melted_university_consultants_df.dropna(subset='Value')"
   ]
  },
  {
   "cell_type": "code",
   "execution_count": 73,
   "id": "e3ec2943-bf9c-446e-b9f8-3a1296d004b4",
   "metadata": {},
   "outputs": [],
   "source": [
    "melted_university_consultants_df['Source Sheet'] = 'Sheet5_3_ConsultantsAcademic' "
   ]
  },
  {
   "cell_type": "markdown",
   "id": "8dcfc25c-b8ac-4b18-a4e9-47650716b642",
   "metadata": {},
   "source": [
    "#### External Funding"
   ]
  },
  {
   "cell_type": "code",
   "execution_count": 74,
   "id": "9c265650-5bda-4e19-a9ad-5a24608b5e8a",
   "metadata": {},
   "outputs": [
    {
     "name": "stdout",
     "output_type": "stream",
     "text": [
      "Processing file: C:\\Users\\scotth07\\OneDrive - NHS Scotland\\Documents\\Networks & Projects\\SPAN UNI\\Returns\\23_24\\NHS A&A SPAN 2023-24.xlsx\n",
      "Processing file: C:\\Users\\scotth07\\OneDrive - NHS Scotland\\Documents\\Networks & Projects\\SPAN UNI\\Returns\\23_24\\NHS D&G SPAN 2023-24.xlsx\n",
      "Processing file: C:\\Users\\scotth07\\OneDrive - NHS Scotland\\Documents\\Networks & Projects\\SPAN UNI\\Returns\\23_24\\NHS Fife SPAN 2023-24.xlsx\n",
      "Processing file: C:\\Users\\scotth07\\OneDrive - NHS Scotland\\Documents\\Networks & Projects\\SPAN UNI\\Returns\\23_24\\NHS Forth Valley SPAN 2023-24.xlsx\n",
      "Processing file: C:\\Users\\scotth07\\OneDrive - NHS Scotland\\Documents\\Networks & Projects\\SPAN UNI\\Returns\\23_24\\NHS GG&C SPAN 2023-24.xlsx\n",
      "Processing file: C:\\Users\\scotth07\\OneDrive - NHS Scotland\\Documents\\Networks & Projects\\SPAN UNI\\Returns\\23_24\\NHS Grampian SPAN 2023-24.xlsx\n",
      "Processing file: C:\\Users\\scotth07\\OneDrive - NHS Scotland\\Documents\\Networks & Projects\\SPAN UNI\\Returns\\23_24\\NHS Highland SPAN 2023-24.xlsx\n",
      "Processing file: C:\\Users\\scotth07\\OneDrive - NHS Scotland\\Documents\\Networks & Projects\\SPAN UNI\\Returns\\23_24\\NHS Lanarkshire SPAN 2023-24.xlsx\n",
      "Processing file: C:\\Users\\scotth07\\OneDrive - NHS Scotland\\Documents\\Networks & Projects\\SPAN UNI\\Returns\\23_24\\NHS Lothian SPAN 2023-24.xlsx\n"
     ]
    }
   ],
   "source": [
    "# assign the data to dataframe using the defined function\n",
    "external_funding_df = combine_excel_files(directory, '5. Medical Staffing', skiprows=57, nrows=2, usecols=[1,2,3,4,5,6,7,8])"
   ]
  },
  {
   "cell_type": "code",
   "execution_count": 75,
   "id": "8abd5328-73f9-4e47-9f58-72c037e3f36e",
   "metadata": {},
   "outputs": [],
   "source": [
    "external_funding_df = external_funding_df.rename(columns={'Unnamed: 1': 'Sub-Category',\n",
    "                                               'File Name': 'Source File'})"
   ]
  },
  {
   "cell_type": "code",
   "execution_count": 76,
   "id": "ef09ddb4-f759-4dfc-ae95-a7e77d643524",
   "metadata": {},
   "outputs": [],
   "source": [
    "# unpivot the dataframe to have a single value column\n",
    "melted_external_funding_df = pd.melt(external_funding_df,\n",
    "                                      id_vars=['Sub-Category', 'Source File'],\n",
    "                                      value_vars=['General Histopathology',\n",
    "                                                  'Non-Cervical/ Diagnostic Cytopathology',\n",
    "                                                  'Cervical Screening Cytopathology',\n",
    "                                                  'Mortuary & Autopsy (Adult)',\n",
    "                                                  'Mortuary & Autopsy (Perinatal)', \n",
    "                                                  'Paediatric Pathology',\n",
    "                                                  'Neuropathology'],\n",
    "                                      var_name='Area',\n",
    "                                      value_name='Value')\n",
    "                                      "
   ]
  },
  {
   "cell_type": "code",
   "execution_count": 77,
   "id": "17ceeda1-174c-40b0-bfe8-8beeda345f19",
   "metadata": {},
   "outputs": [],
   "source": [
    "melted_external_funding_df['Category'] = 'External Funding'"
   ]
  },
  {
   "cell_type": "code",
   "execution_count": 78,
   "id": "021b57a4-745b-4992-b318-e8755f0dbc08",
   "metadata": {},
   "outputs": [],
   "source": [
    "# drop na and 0 rows\n",
    "melted_external_funding_df = melted_external_funding_df[melted_external_funding_df['Value'] != 0]\n",
    "melted_external_funding_df = melted_external_funding_df.dropna(subset='Value')"
   ]
  },
  {
   "cell_type": "code",
   "execution_count": 79,
   "id": "1b8e4086-7651-4b28-a6c6-c3a917f96986",
   "metadata": {},
   "outputs": [],
   "source": [
    "melted_external_funding_df['Source Sheet'] = 'Sheet5_4_ExternalFunding' "
   ]
  },
  {
   "cell_type": "code",
   "execution_count": 80,
   "id": "d6236263-0fc2-41a6-ad65-79ae34cacabf",
   "metadata": {},
   "outputs": [
    {
     "data": {
      "text/html": [
       "<div>\n",
       "<style scoped>\n",
       "    .dataframe tbody tr th:only-of-type {\n",
       "        vertical-align: middle;\n",
       "    }\n",
       "\n",
       "    .dataframe tbody tr th {\n",
       "        vertical-align: top;\n",
       "    }\n",
       "\n",
       "    .dataframe thead th {\n",
       "        text-align: right;\n",
       "    }\n",
       "</style>\n",
       "<table border=\"1\" class=\"dataframe\">\n",
       "  <thead>\n",
       "    <tr style=\"text-align: right;\">\n",
       "      <th></th>\n",
       "      <th>Sub-Category</th>\n",
       "      <th>Source File</th>\n",
       "      <th>Area</th>\n",
       "      <th>Value</th>\n",
       "      <th>Category</th>\n",
       "      <th>Source Sheet</th>\n",
       "    </tr>\n",
       "  </thead>\n",
       "  <tbody>\n",
       "    <tr>\n",
       "      <th>8</th>\n",
       "      <td>Number of PA's funded from sources external to...</td>\n",
       "      <td>NHS GG&amp;C SPAN 2023-24.xlsx</td>\n",
       "      <td>General Histopathology</td>\n",
       "      <td>11.0</td>\n",
       "      <td>External Funding</td>\n",
       "      <td>Sheet5_4_ExternalFunding</td>\n",
       "    </tr>\n",
       "  </tbody>\n",
       "</table>\n",
       "</div>"
      ],
      "text/plain": [
       "                                        Sub-Category  \\\n",
       "8  Number of PA's funded from sources external to...   \n",
       "\n",
       "                  Source File                    Area  Value  \\\n",
       "8  NHS GG&C SPAN 2023-24.xlsx  General Histopathology   11.0   \n",
       "\n",
       "           Category              Source Sheet  \n",
       "8  External Funding  Sheet5_4_ExternalFunding  "
      ]
     },
     "execution_count": 80,
     "metadata": {},
     "output_type": "execute_result"
    }
   ],
   "source": [
    "melted_external_funding_df"
   ]
  },
  {
   "cell_type": "markdown",
   "id": "8aa8383e-9b51-4696-9660-a9a0388817a2",
   "metadata": {},
   "source": [
    "#### Excess Activity"
   ]
  },
  {
   "cell_type": "code",
   "execution_count": 81,
   "id": "61166166-00c1-4337-a5ce-ba35bb4236d6",
   "metadata": {},
   "outputs": [
    {
     "name": "stdout",
     "output_type": "stream",
     "text": [
      "Processing file: C:\\Users\\scotth07\\OneDrive - NHS Scotland\\Documents\\Networks & Projects\\SPAN UNI\\Returns\\23_24\\NHS A&A SPAN 2023-24.xlsx\n",
      "Processing file: C:\\Users\\scotth07\\OneDrive - NHS Scotland\\Documents\\Networks & Projects\\SPAN UNI\\Returns\\23_24\\NHS D&G SPAN 2023-24.xlsx\n",
      "Processing file: C:\\Users\\scotth07\\OneDrive - NHS Scotland\\Documents\\Networks & Projects\\SPAN UNI\\Returns\\23_24\\NHS Fife SPAN 2023-24.xlsx\n",
      "Processing file: C:\\Users\\scotth07\\OneDrive - NHS Scotland\\Documents\\Networks & Projects\\SPAN UNI\\Returns\\23_24\\NHS Forth Valley SPAN 2023-24.xlsx\n",
      "Processing file: C:\\Users\\scotth07\\OneDrive - NHS Scotland\\Documents\\Networks & Projects\\SPAN UNI\\Returns\\23_24\\NHS GG&C SPAN 2023-24.xlsx\n",
      "Processing file: C:\\Users\\scotth07\\OneDrive - NHS Scotland\\Documents\\Networks & Projects\\SPAN UNI\\Returns\\23_24\\NHS Grampian SPAN 2023-24.xlsx\n",
      "Processing file: C:\\Users\\scotth07\\OneDrive - NHS Scotland\\Documents\\Networks & Projects\\SPAN UNI\\Returns\\23_24\\NHS Highland SPAN 2023-24.xlsx\n",
      "Processing file: C:\\Users\\scotth07\\OneDrive - NHS Scotland\\Documents\\Networks & Projects\\SPAN UNI\\Returns\\23_24\\NHS Lanarkshire SPAN 2023-24.xlsx\n",
      "Processing file: C:\\Users\\scotth07\\OneDrive - NHS Scotland\\Documents\\Networks & Projects\\SPAN UNI\\Returns\\23_24\\NHS Lothian SPAN 2023-24.xlsx\n"
     ]
    }
   ],
   "source": [
    "# assign the data to dataframe using the defined function\n",
    "excess_activity_df = combine_excel_files(directory, '5. Medical Staffing', skiprows=64, nrows=4, usecols=[1,2,3,4,5,6,7,8])"
   ]
  },
  {
   "cell_type": "code",
   "execution_count": 82,
   "id": "1c568626-d33f-4a32-bd3a-b03a7087dd30",
   "metadata": {},
   "outputs": [],
   "source": [
    "excess_activity_df = excess_activity_df.rename(columns={'Unnamed: 1': 'Sub-Category',\n",
    "                                                        'File Name': 'Source File'})"
   ]
  },
  {
   "cell_type": "code",
   "execution_count": 83,
   "id": "96e12fa5-0228-4f4d-9184-a1b7944614dd",
   "metadata": {},
   "outputs": [],
   "source": [
    "# unpivot the dataframe to have a single value column\n",
    "melted_excess_activity_df = pd.melt(excess_activity_df,\n",
    "                                      id_vars=['Sub-Category', 'Source File'],\n",
    "                                      value_vars=['General Histopathology',\n",
    "                                                  'Non-Cervical/ Diagnostic Cytopathology',\n",
    "                                                  'Cervical Screening Cytopathology',\n",
    "                                                  'Mortuary & Autopsy (Adult)',\n",
    "                                                  'Mortuary & Autopsy (Perinatal)', \n",
    "                                                  'Paediatric Pathology',\n",
    "                                                  'Neuropathology'],\n",
    "                                      var_name='Area',\n",
    "                                      value_name='Value')\n",
    "                                      "
   ]
  },
  {
   "cell_type": "code",
   "execution_count": 84,
   "id": "2f064700-94d4-4339-a622-caba1ca15b2b",
   "metadata": {},
   "outputs": [],
   "source": [
    "melted_excess_activity_df['Category'] = 'Excess Activity'"
   ]
  },
  {
   "cell_type": "code",
   "execution_count": 85,
   "id": "7c1216a2-521a-4175-89fc-77590530d3c1",
   "metadata": {},
   "outputs": [],
   "source": [
    "# drop na and 0 rows\n",
    "melted_excess_activity_df = melted_excess_activity_df[melted_excess_activity_df['Value'] != 0]\n",
    "melted_excess_activity_df = melted_excess_activity_df.dropna(subset='Value')"
   ]
  },
  {
   "cell_type": "code",
   "execution_count": 86,
   "id": "6eed7750-568a-4a68-92ae-06f2273bced3",
   "metadata": {},
   "outputs": [],
   "source": [
    "melted_excess_activity_df['Source Sheet'] = 'Sheet5_5_ExcessActivity' "
   ]
  },
  {
   "cell_type": "markdown",
   "id": "442b6bcf-ec94-4556-a06e-c2c1d91d79ca",
   "metadata": {},
   "source": [
    "#### Expert Opinion Referral Activity"
   ]
  },
  {
   "cell_type": "code",
   "execution_count": 87,
   "id": "03dbf852-5339-4d46-a6c8-1e8752b4f858",
   "metadata": {},
   "outputs": [
    {
     "name": "stdout",
     "output_type": "stream",
     "text": [
      "Processing file: C:\\Users\\scotth07\\OneDrive - NHS Scotland\\Documents\\Networks & Projects\\SPAN UNI\\Returns\\23_24\\NHS A&A SPAN 2023-24.xlsx\n",
      "Processing file: C:\\Users\\scotth07\\OneDrive - NHS Scotland\\Documents\\Networks & Projects\\SPAN UNI\\Returns\\23_24\\NHS D&G SPAN 2023-24.xlsx\n",
      "Processing file: C:\\Users\\scotth07\\OneDrive - NHS Scotland\\Documents\\Networks & Projects\\SPAN UNI\\Returns\\23_24\\NHS Fife SPAN 2023-24.xlsx\n",
      "Processing file: C:\\Users\\scotth07\\OneDrive - NHS Scotland\\Documents\\Networks & Projects\\SPAN UNI\\Returns\\23_24\\NHS Forth Valley SPAN 2023-24.xlsx\n",
      "Processing file: C:\\Users\\scotth07\\OneDrive - NHS Scotland\\Documents\\Networks & Projects\\SPAN UNI\\Returns\\23_24\\NHS GG&C SPAN 2023-24.xlsx\n",
      "Processing file: C:\\Users\\scotth07\\OneDrive - NHS Scotland\\Documents\\Networks & Projects\\SPAN UNI\\Returns\\23_24\\NHS Grampian SPAN 2023-24.xlsx\n",
      "Processing file: C:\\Users\\scotth07\\OneDrive - NHS Scotland\\Documents\\Networks & Projects\\SPAN UNI\\Returns\\23_24\\NHS Highland SPAN 2023-24.xlsx\n",
      "Processing file: C:\\Users\\scotth07\\OneDrive - NHS Scotland\\Documents\\Networks & Projects\\SPAN UNI\\Returns\\23_24\\NHS Lanarkshire SPAN 2023-24.xlsx\n",
      "Processing file: C:\\Users\\scotth07\\OneDrive - NHS Scotland\\Documents\\Networks & Projects\\SPAN UNI\\Returns\\23_24\\NHS Lothian SPAN 2023-24.xlsx\n"
     ]
    }
   ],
   "source": [
    "# assign the data to dataframe using the defined function\n",
    "expert_opinion_df = combine_excel_files(directory, '5. Medical Staffing', skiprows=72, nrows=2, usecols=[1,2,3,4,5,6,7,8])"
   ]
  },
  {
   "cell_type": "code",
   "execution_count": 88,
   "id": "bf3e6f61-4ea7-400d-91b7-0ae4dd222ccd",
   "metadata": {},
   "outputs": [],
   "source": [
    "expert_opinion_df = expert_opinion_df.rename(columns={'Unnamed: 1': 'Sub-Category',\n",
    "                                               'File Name': 'Source File'})"
   ]
  },
  {
   "cell_type": "code",
   "execution_count": 89,
   "id": "0b25b737-c544-421e-96ae-ec5e460ff1ee",
   "metadata": {},
   "outputs": [],
   "source": [
    "# unpivot the dataframe to have a single value column\n",
    "melted_expert_opinion_df = pd.melt(expert_opinion_df,\n",
    "                                      id_vars=['Sub-Category', 'Source File'],\n",
    "                                      value_vars=['General Histopathology',\n",
    "                                                  'Non-Cervical/ Diagnostic Cytopathology',\n",
    "                                                  'Cervical Screening Cytopathology',\n",
    "                                                  'Mortuary & Autopsy (Adult)',\n",
    "                                                  'Mortuary & Autopsy (Perinatal)', \n",
    "                                                  'Paediatric Pathology',\n",
    "                                                  'Neuropathology'],\n",
    "                                      var_name='Area',\n",
    "                                      value_name='Value')\n",
    "                                      "
   ]
  },
  {
   "cell_type": "code",
   "execution_count": 90,
   "id": "38a7fac3-1f04-4de8-8899-5e862af0acf3",
   "metadata": {},
   "outputs": [],
   "source": [
    "melted_expert_opinion_df['Category'] = 'Expert Opinion'"
   ]
  },
  {
   "cell_type": "code",
   "execution_count": 91,
   "id": "9784dc04-6c3e-474f-9668-0939e8ce5d6c",
   "metadata": {},
   "outputs": [],
   "source": [
    "# drop na and 0 rows\n",
    "melted_expert_opinion_df = melted_expert_opinion_df[melted_expert_opinion_df['Value'] != 0]\n",
    "melted_expert_opinion_df = melted_expert_opinion_df.dropna(subset='Value')"
   ]
  },
  {
   "cell_type": "code",
   "execution_count": 92,
   "id": "b7c7e292-ac4f-40ea-9a08-b7711a90ca5c",
   "metadata": {},
   "outputs": [],
   "source": [
    "melted_expert_opinion_df['Source Sheet'] = 'Sheet5_6_ExpertOpinion' "
   ]
  },
  {
   "cell_type": "markdown",
   "id": "c3d4e4f8-7798-4e49-a4d9-98bc3c474497",
   "metadata": {},
   "source": [
    "### Merge the dataframes"
   ]
  },
  {
   "cell_type": "code",
   "execution_count": 93,
   "id": "e2f697d0-24e6-4523-b8eb-c073d1ebd730",
   "metadata": {},
   "outputs": [],
   "source": [
    "merged_df = pd.concat([melted_expert_opinion_df, \n",
    "                       melted_excess_activity_df, \n",
    "                       melted_external_funding_df, \n",
    "                       melted_university_consultants_df,\n",
    "                       melted_non_consultants_df,\n",
    "                       melted_consultants_df])\n"
   ]
  },
  {
   "cell_type": "code",
   "execution_count": 94,
   "id": "69450e0e-e7f4-434b-b459-9a11c1db1c5f",
   "metadata": {},
   "outputs": [],
   "source": [
    "merged_df['Year'] = '23/24'"
   ]
  },
  {
   "cell_type": "code",
   "execution_count": 95,
   "id": "d530c477-db66-4c19-8bb6-6a36a0f7428a",
   "metadata": {},
   "outputs": [],
   "source": [
    "# extract health board from file name\n",
    "merged_df['Health Board'] = merged_df['Source File'].apply(extract_hb)"
   ]
  },
  {
   "cell_type": "code",
   "execution_count": 96,
   "id": "c5d1f54e-0bf1-4390-bd64-9e5d4df8026d",
   "metadata": {},
   "outputs": [],
   "source": [
    "# rename health boards with short code\n",
    "merged_df = merged_df.replace({'Fife': 'FIFE',\n",
    "                               'Forth': 'FV',\n",
    "                               'Grampian': 'GRAM',\n",
    "                               'Highland': 'HIGH',\n",
    "                               'Lanarkshire': 'LAN',\n",
    "                               'Lothian': 'LOTH',\n",
    "                               'Tayside': 'TAY'})"
   ]
  },
  {
   "cell_type": "code",
   "execution_count": 97,
   "id": "db9bfceb-f95c-4945-86c6-8e07774e86a6",
   "metadata": {},
   "outputs": [],
   "source": [
    "# define new order for columns\n",
    "column_order = ['Source File',\n",
    "               'Source Sheet',\n",
    "               'Health Board',\n",
    "               'Year',\n",
    "               'Area',\n",
    "               'Category',\n",
    "               'Sub-Category',\n",
    "               'Value']\n",
    "\n",
    "\n",
    "# apply new column order\n",
    "merged_df = merged_df[column_order]"
   ]
  },
  {
   "cell_type": "code",
   "execution_count": 98,
   "id": "1d72f868-aa07-4ef1-bf23-92403b95673e",
   "metadata": {},
   "outputs": [],
   "source": [
    "merged_df.to_csv('cleaned_data/medical_staffing.csv', index=False)"
   ]
  }
 ],
 "metadata": {
  "kernelspec": {
   "display_name": "Python 3 (ipykernel)",
   "language": "python",
   "name": "python3"
  },
  "language_info": {
   "codemirror_mode": {
    "name": "ipython",
    "version": 3
   },
   "file_extension": ".py",
   "mimetype": "text/x-python",
   "name": "python",
   "nbconvert_exporter": "python",
   "pygments_lexer": "ipython3",
   "version": "3.11.5"
  }
 },
 "nbformat": 4,
 "nbformat_minor": 5
}
