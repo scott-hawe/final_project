{
 "cells": [
  {
   "cell_type": "code",
   "execution_count": 52,
   "id": "ec74c945",
   "metadata": {},
   "outputs": [],
   "source": [
    "import pandas as pd\n",
    "import pyodbc\n",
    "import numpy as np\n",
    "from sqlalchemy import create_engine\n"
   ]
  },
  {
   "cell_type": "markdown",
   "id": "7fdfcec1",
   "metadata": {},
   "source": [
    "### Import Data"
   ]
  },
  {
   "cell_type": "code",
   "execution_count": 53,
   "id": "6f7600af",
   "metadata": {},
   "outputs": [],
   "source": [
    "file_path = r'C:\\Users\\SHawe\\OneDrive\\Documents\\Open Uni\\Level 3\\TM470\\Data\\Power Queries\\SPAN Combined Data Power Query.xlsx'\n",
    "pop_file_path = r'C:\\Users\\SHawe\\OneDrive\\Documents\\Open Uni\\Level 3\\TM470\\Data\\2021-06-30 HB Populations Mid 2021.xlsx'"
   ]
  },
  {
   "cell_type": "code",
   "execution_count": 54,
   "id": "7cce5509",
   "metadata": {},
   "outputs": [],
   "source": [
    "workload_df = pd.read_excel(file_path, sheet_name='Workload_Production_Combined')\n",
    "turnaround_df = pd.read_excel(file_path, sheet_name='Turnaround_Combined')\n",
    "medical_df = pd.read_excel(file_path, sheet_name='Medical_Combined')\n",
    "non_medical_df = pd.read_excel(file_path, sheet_name='Non Medical_Combined')\n",
    "consumables_df = pd.read_excel(file_path, sheet_name='Consumables_Combined')\n",
    "populations_df = pd.read_excel(pop_file_path, sheet_name='Population')"
   ]
  },
  {
   "cell_type": "code",
   "execution_count": 55,
   "id": "b65b316a",
   "metadata": {},
   "outputs": [],
   "source": [
    "populations_df = populations_df[['Health Board (Code)', 'Health Board', 'HB Population']]"
   ]
  },
  {
   "cell_type": "markdown",
   "id": "6265f31a",
   "metadata": {},
   "source": [
    "### Final Data Cleaning"
   ]
  },
  {
   "cell_type": "code",
   "execution_count": 56,
   "id": "5c044ff7",
   "metadata": {},
   "outputs": [],
   "source": [
    "column_renaming = {\n",
    "    'Health Board (Code)': 'health_board_code', \n",
    "    'Health Board': 'health_board_name', \n",
    "    'HB Population': 'population'\n",
    "}\n",
    "populations_df = populations_df.rename(columns=column_renaming)"
   ]
  },
  {
   "cell_type": "code",
   "execution_count": 57,
   "id": "24d077fa",
   "metadata": {},
   "outputs": [],
   "source": [
    "# replace na values with 0\n",
    "workload_df['Value'] = workload_df['Value'].fillna(0)"
   ]
  },
  {
   "cell_type": "code",
   "execution_count": 58,
   "id": "41151ef9",
   "metadata": {},
   "outputs": [],
   "source": [
    "# replace values to ensure consistency\n",
    "medical_df['Area'] = medical_df['Area'].replace({'Mortuary & Autopsy (Adult)': 'Mortuary & Autopsy',\n",
    "                                                 'Mortuary & Autopsy (Perinatal)': 'Mortuary & Autopsy',\n",
    "                                                 'Non-Cervical/ Diagnostic Cytopathology': 'Non-Cervical/Diagnostic Cytopathology',\n",
    "                                                 'Cervical Screening Cytopathology': 'Cervical Screening'})"
   ]
  },
  {
   "cell_type": "code",
   "execution_count": 59,
   "id": "ea4940df",
   "metadata": {},
   "outputs": [],
   "source": [
    "# add the role types to each dataframe\n",
    "medical_df['role_type'] = 'Medical'\n",
    "non_medical_df['role_type'] = 'Non-Medical'"
   ]
  },
  {
   "cell_type": "code",
   "execution_count": 60,
   "id": "9ceca0e5",
   "metadata": {},
   "outputs": [],
   "source": [
    "# renaming column appropriately\n",
    "medical_df = medical_df.rename(columns={'Category': 'Role',\n",
    "                                        'Value': 'Headcount'})"
   ]
  },
  {
   "cell_type": "code",
   "execution_count": 61,
   "id": "4fe8d7b7",
   "metadata": {},
   "outputs": [],
   "source": [
    "# filter for consultant data only\n",
    "medical_df = medical_df[(medical_df['Role'] == 'Consultant') |\n",
    "                        (medical_df['Role'] == 'Non-Consultant (SAS)') |\n",
    "                        (medical_df['Role'] == 'University Consultant')]"
   ]
  },
  {
   "cell_type": "code",
   "execution_count": 62,
   "id": "78ca2e98",
   "metadata": {},
   "outputs": [],
   "source": [
    "# ensure strings are consistent with cases\n",
    "medical_df.loc[:, 'Sub-Category'] = medical_df['Sub-Category'].str.title()\n",
    "turnaround_df.loc[:, 'Type'] = turnaround_df['Type'].str.title()"
   ]
  },
  {
   "cell_type": "code",
   "execution_count": 63,
   "id": "b9776cd0",
   "metadata": {},
   "outputs": [
    {
     "name": "stderr",
     "output_type": "stream",
     "text": [
      "C:\\Users\\SHawe\\AppData\\Local\\Temp\\ipykernel_12196\\3933163389.py:5: SettingWithCopyWarning: \n",
      "A value is trying to be set on a copy of a slice from a DataFrame.\n",
      "Try using .loc[row_indexer,col_indexer] = value instead\n",
      "\n",
      "See the caveats in the documentation: https://pandas.pydata.org/pandas-docs/stable/user_guide/indexing.html#returning-a-view-versus-a-copy\n",
      "  medical_vac_df['Post/Vacancy'] = 'Vacancy'\n",
      "C:\\Users\\SHawe\\AppData\\Local\\Temp\\ipykernel_12196\\3933163389.py:11: SettingWithCopyWarning: \n",
      "A value is trying to be set on a copy of a slice from a DataFrame.\n",
      "Try using .loc[row_indexer,col_indexer] = value instead\n",
      "\n",
      "See the caveats in the documentation: https://pandas.pydata.org/pandas-docs/stable/user_guide/indexing.html#returning-a-view-versus-a-copy\n",
      "  medical_post_df['Post/Vacancy'] = 'Post'\n"
     ]
    }
   ],
   "source": [
    "# assign vacancies to a separate dataframe and add a vacancy/post column\n",
    "medical_vac_df = medical_df[(medical_df['Sub-Category'] == 'Consultant Vacancies (Approved Vacancies - Headcount)') |\n",
    "                        (medical_df['Sub-Category'] == 'Non-Consultant (Sas) Vacancies (Approved Vacancies - Headcount)') |\n",
    "                        (medical_df['Sub-Category'] == 'University Consultant Vacancies (Approved Vacancies - Headcount)')]\n",
    "medical_vac_df['Post/Vacancy'] = 'Vacancy'\n",
    "\n",
    "\n",
    "medical_post_df = medical_df[(medical_df['Sub-Category'] == 'Consultants In Post (Headcount)') |\n",
    "                        (medical_df['Sub-Category'] == 'Non-Consultant (Sas) In Post (Headcount)') |\n",
    "                        (medical_df['Sub-Category'] == 'University Consultants In Post (Headcount)')]\n",
    "medical_post_df['Post/Vacancy'] = 'Post'"
   ]
  },
  {
   "cell_type": "code",
   "execution_count": 64,
   "id": "3698fb86",
   "metadata": {},
   "outputs": [],
   "source": [
    "# merge the data again\n",
    "medical_df = pd.concat([medical_post_df, medical_vac_df])"
   ]
  },
  {
   "cell_type": "code",
   "execution_count": 65,
   "id": "58968a4c",
   "metadata": {},
   "outputs": [],
   "source": [
    "# column is no longer required\n",
    "medical_df = medical_df.drop(columns=['Sub-Category'])"
   ]
  },
  {
   "cell_type": "code",
   "execution_count": 66,
   "id": "ec1c6448",
   "metadata": {},
   "outputs": [],
   "source": [
    "# merge all staffing\n",
    "staffing_df = pd.concat([medical_df, non_medical_df])"
   ]
  },
  {
   "cell_type": "code",
   "execution_count": 67,
   "id": "f4b3df6c",
   "metadata": {},
   "outputs": [],
   "source": [
    "# convert column types\n",
    "staffing_df['Headcount'] = staffing_df['Headcount'].fillna(0).astype(int)\n",
    "staffing_df['WTE'] = pd.to_numeric(staffing_df['WTE'], errors='coerce')\n",
    "staffing_df['WTE'] = staffing_df['WTE'].round(2)\n",
    "staffing_df['WTE'].fillna(0.0, inplace=True)\n",
    "turnaround_df['Value'].fillna(0.0, inplace=True)"
   ]
  },
  {
   "cell_type": "code",
   "execution_count": 68,
   "id": "1119bfdf",
   "metadata": {},
   "outputs": [],
   "source": [
    "# strip white space\n",
    "staffing_df.loc[:, 'Role'] = staffing_df['Role'].str.strip()\n",
    "staffing_df.loc[:, 'Band'] = staffing_df['Band'].str.strip()"
   ]
  },
  {
   "cell_type": "code",
   "execution_count": 69,
   "id": "625ff67f",
   "metadata": {},
   "outputs": [],
   "source": [
    "# medical staff don't have a band, remove na values and add None\n",
    "staffing_df['Band'] = staffing_df['Band'].fillna('None')"
   ]
  },
  {
   "cell_type": "code",
   "execution_count": 70,
   "id": "825b2829",
   "metadata": {},
   "outputs": [],
   "source": [
    "# remove invalid bands\n",
    "staffing_df = staffing_df[~((staffing_df['Band'] == 'Other Type') |\n",
    "                          (staffing_df['Band'] == 'Other Staff') |\n",
    "                          (staffing_df['Band'] == 'Other Band'))]"
   ]
  },
  {
   "cell_type": "code",
   "execution_count": 71,
   "id": "49b1b22e",
   "metadata": {},
   "outputs": [],
   "source": [
    "# drop rows where value is 0\n",
    "consumables_df = consumables_df[consumables_df['Value'] != 0]\n",
    "workload_df = workload_df[workload_df['Value'] != 0]\n",
    "turnaround_df = turnaround_df[turnaround_df['Value'] != 0]"
   ]
  },
  {
   "cell_type": "markdown",
   "id": "4a41dbf8",
   "metadata": {},
   "source": [
    "### Connect to database"
   ]
  },
  {
   "cell_type": "code",
   "execution_count": 72,
   "id": "48d57027",
   "metadata": {},
   "outputs": [],
   "source": [
    "conn = pyodbc.connect('Driver={SQL Server};'\n",
    "                      'Server=DESKTOP-OG2GI91;'\n",
    "                      'Database=pathology;'\n",
    "                      'Trusted_Connection=yes;')\n",
    "\n",
    "cursor = conn.cursor()"
   ]
  },
  {
   "cell_type": "markdown",
   "id": "8fd8a7e0",
   "metadata": {},
   "source": [
    "### Define unique key values"
   ]
  },
  {
   "cell_type": "code",
   "execution_count": 73,
   "id": "aa33d340",
   "metadata": {},
   "outputs": [],
   "source": [
    "unique_years = workload_df['Year'].unique()\n",
    "unique_activity_areas = workload_df['Area'].unique()\n",
    "unique_activity_categories = workload_df['Category'].unique()\n",
    "unique_turnaround_categories = turnaround_df['Category'].unique()\n",
    "unique_turnaround_areas = turnaround_df['Area'].unique()\n",
    "unique_turnaround_types = turnaround_df['Type'].unique()\n",
    "unique_test_types = workload_df['Type'].unique()\n",
    "unique_roles = staffing_df['Role'].unique()\n",
    "unique_role_types = ['Medical', 'Non-Medical']\n",
    "unique_bands = staffing_df['Band'].unique()\n",
    "unique_disciplines = non_medical_df['Area'].unique()\n",
    "unique_consumable_areas = consumables_df['Area'].unique()"
   ]
  },
  {
   "cell_type": "markdown",
   "id": "c658002d",
   "metadata": {},
   "source": [
    "### Define functions for inserting into database"
   ]
  },
  {
   "cell_type": "code",
   "execution_count": 74,
   "id": "9e5a4704",
   "metadata": {},
   "outputs": [],
   "source": [
    "# function for inserting health board population data\n",
    "def insert_health_boards(dataframe, cursor):\n",
    "    for index, row in dataframe.iterrows():\n",
    "        cursor.execute(\"\"\"\n",
    "            INSERT INTO dim_health_boards (health_board_code, health_board_name, population)\n",
    "            VALUES (?, ?, ?)\n",
    "            \"\"\", (row['health_board_code'], row['health_board_name'], row['population']))\n",
    "    conn.commit()\n",
    "    \n",
    "    \n",
    "# function for inserting health board population data\n",
    "def insert_years(data, cursor):\n",
    "    for index in unique_years:\n",
    "        cursor.execute(\"\"\"\n",
    "            INSERT INTO dim_years (financial_year)\n",
    "            VALUES (?)\n",
    "            \"\"\", (index))\n",
    "    conn.commit()\n",
    "    \n",
    "\n",
    "# function for inserting health board population data\n",
    "def insert_activity_areas(data, cursor):\n",
    "    for index in unique_activity_areas:\n",
    "        cursor.execute(\"\"\"\n",
    "            INSERT INTO dim_activity_areas (activity_area_name)\n",
    "            VALUES (?)\n",
    "            \"\"\", (index))\n",
    "    conn.commit()\n",
    "    \n",
    "    \n",
    "# function for inserting health board population data\n",
    "def insert_activity_categories(data, cursor):\n",
    "    for index in unique_activity_categories:\n",
    "        cursor.execute(\"\"\"\n",
    "            INSERT INTO dim_activity_categories (activity_category_name)\n",
    "            VALUES (?)\n",
    "            \"\"\", (index))\n",
    "    conn.commit()\n",
    "    \n",
    "    \n",
    "# function for inserting health board population data\n",
    "def insert_test_types(data, cursor):\n",
    "    for index in unique_test_types:\n",
    "        cursor.execute(\"\"\"\n",
    "            INSERT INTO dim_test_types (test_type_name)\n",
    "            VALUES (?)\n",
    "            \"\"\", (index))\n",
    "    conn.commit()\n",
    "    \n",
    "    \n",
    "# function for inserting health board population data\n",
    "def insert_turnaround_categories(data, cursor):\n",
    "    for index in unique_turnaround_categories:\n",
    "        cursor.execute(\"\"\"\n",
    "            INSERT INTO dim_turnaround_categories (turnaround_category_name)\n",
    "            VALUES (?)\n",
    "            \"\"\", (index))\n",
    "    conn.commit()\n",
    "    \n",
    "    \n",
    "# function for inserting health board population data\n",
    "def insert_turnaround_areas(data, cursor):\n",
    "    for index in unique_turnaround_areas:\n",
    "        cursor.execute(\"\"\"\n",
    "            INSERT INTO dim_turnaround_areas (turnaround_area_name)\n",
    "            VALUES (?)\n",
    "            \"\"\", (index))\n",
    "    conn.commit()\n",
    "    \n",
    "    \n",
    "# function for inserting health board population data\n",
    "def insert_turnaround_types(data, cursor):\n",
    "    for index in unique_turnaround_types:\n",
    "        cursor.execute(\"\"\"\n",
    "            INSERT INTO dim_turnaround_types (turnaround_type_name)\n",
    "            VALUES (?)\n",
    "            \"\"\", (index))\n",
    "    conn.commit()\n",
    "    \n",
    "    \n",
    "# function for inserting health board population data\n",
    "def insert_roles(data, cursor):\n",
    "    for index in unique_roles:\n",
    "        cursor.execute(\"\"\"\n",
    "            INSERT INTO dim_roles (role_name)\n",
    "            VALUES (?)\n",
    "            \"\"\", (index))\n",
    "    conn.commit()\n",
    "    \n",
    "    \n",
    "# function for inserting health board population data\n",
    "def insert_role_types(data, cursor):\n",
    "    for index in unique_role_types:\n",
    "        cursor.execute(\"\"\"\n",
    "            INSERT INTO dim_role_types (role_type_name)\n",
    "            VALUES (?)\n",
    "            \"\"\", (index))\n",
    "    conn.commit()\n",
    "    \n",
    "    \n",
    "# function for inserting health board population data\n",
    "def insert_bands(data, cursor):\n",
    "    for index in unique_bands:\n",
    "        cursor.execute(\"\"\"\n",
    "            INSERT INTO dim_bands (band_name)\n",
    "            VALUES (?)\n",
    "            \"\"\", (index))\n",
    "    conn.commit()\n",
    "    \n",
    "    \n",
    "# function for inserting health board population data\n",
    "def insert_disciplines(data, cursor):\n",
    "    for index in unique_disciplines:\n",
    "        cursor.execute(\"\"\"\n",
    "            INSERT INTO dim_disciplines (discipline_name)\n",
    "            VALUES (?)\n",
    "            \"\"\", (index))\n",
    "    conn.commit()\n",
    "    \n",
    "    \n",
    "# function for inserting health board population data\n",
    "def insert_consumable_areas(data, cursor):\n",
    "    for index in unique_consumable_areas:\n",
    "        cursor.execute(\"\"\"\n",
    "            INSERT INTO dim_consumable_areas (area_name)\n",
    "            VALUES (?)\n",
    "            \"\"\", (index))\n",
    "    conn.commit()\n",
    "    \n",
    "    \n",
    "# function for inserting health board population data\n",
    "def insert_health_boards(dataframe, cursor):\n",
    "    for index, row in dataframe.iterrows():\n",
    "        cursor.execute(\"\"\"\n",
    "            INSERT INTO dim_health_boards (health_board_code, health_board_name, population)\n",
    "            VALUES (?, ?, ?)\n",
    "            \"\"\", (row['health_board_code'], row['health_board_name'], row['population']))\n",
    "    conn.commit()\n",
    "    \n",
    "    \n",
    "# function for inserting health board population data\n",
    "def insert_workload_production(dataframe, cursor):\n",
    "    for index, row in dataframe.iterrows():\n",
    "        cursor.execute(\"\"\"\n",
    "            INSERT INTO fact_workload_production (health_board_id, year_id, activity_area_id, activity_category_id,\n",
    "                                                  test_type_id, amount)\n",
    "            VALUES (?, ?, ?, ?, ?, ?)\n",
    "            \"\"\", (row['health_board_id'], row['year_id'], row['activity_area_id'],\n",
    "                  row['activity_category_id'], row['test_type_id'], row['Value']))\n",
    "    conn.commit()\n",
    "    \n",
    "    \n",
    "# function for inserting health board population data\n",
    "def insert_staffing(dataframe, cursor):\n",
    "    for index, row in dataframe.iterrows():\n",
    "        cursor.execute(\"\"\"\n",
    "            INSERT INTO fact_staffing (health_board_id, year_id, role_type_id, role_id, discipline_id,\n",
    "                                                  band_id, post_or_vacancy, headcount, wte)\n",
    "            VALUES (?, ?, ?, ?, ?, ?, ?, ?, ?)\n",
    "            \"\"\", (row['health_board_id'], row['year_id'], row['role_type_id'], row['role_id'], row['discipline_id'],\n",
    "                  row['band_id'], row['Post/Vacancy'], row['Headcount'], row['WTE']))\n",
    "    conn.commit()\n",
    "    \n",
    "\n",
    "# function for inserting health board population data\n",
    "def insert_turnaround(dataframe, cursor):\n",
    "    for index, row in dataframe.iterrows():\n",
    "        cursor.execute(\"\"\"\n",
    "            INSERT INTO fact_turnaround (health_board_id, year_id, turnaround_area_id, turnaround_category_id,\n",
    "                                       turnaround_type_id, value)\n",
    "            VALUES (?, ?, ?, ?, ?, ?)\n",
    "            \"\"\", (row['health_board_id'], row['year_id'], row['turnaround_area_id'], row['turnaround_category_id'],\n",
    "                  row['turnaround_type_id'], row['Value']))\n",
    "    conn.commit()\n",
    "    \n",
    "\n",
    "# function for inserting health board population data\n",
    "def insert_consumables(dataframe, cursor):\n",
    "    for index, row in dataframe.iterrows():\n",
    "        cursor.execute(\"\"\"\n",
    "            INSERT INTO fact_consumable_costs (health_board_id, year_id, amount)\n",
    "            VALUES (?, ?, ?)\n",
    "            \"\"\", (row['health_board_id'], row['year_id'], row['Value']))\n",
    "    conn.commit()"
   ]
  },
  {
   "cell_type": "markdown",
   "id": "fbb11600",
   "metadata": {},
   "source": [
    "#### Call the functions to carry out database dimension tables ingesting"
   ]
  },
  {
   "cell_type": "code",
   "execution_count": 75,
   "id": "770a5b82",
   "metadata": {},
   "outputs": [],
   "source": [
    "insert_health_boards(populations_df, cursor)\n",
    "insert_years(unique_years, cursor)\n",
    "insert_activity_areas(unique_activity_areas, cursor)\n",
    "insert_activity_categories(unique_activity_categories, cursor)\n",
    "insert_test_types(unique_test_types, cursor)\n",
    "insert_turnaround_categories(unique_turnaround_categories, cursor)\n",
    "insert_turnaround_areas(unique_turnaround_areas, cursor)\n",
    "insert_turnaround_types(unique_turnaround_types, cursor)\n",
    "insert_roles(unique_roles, cursor)\n",
    "insert_role_types(unique_role_types, cursor)\n",
    "insert_bands(unique_bands, cursor)\n",
    "insert_disciplines(unique_disciplines, cursor)\n",
    "insert_consumable_areas(unique_consumable_areas, cursor)"
   ]
  },
  {
   "cell_type": "markdown",
   "id": "d2364037",
   "metadata": {},
   "source": [
    "### Map values in fact data to corresponding foreign key values"
   ]
  },
  {
   "cell_type": "code",
   "execution_count": 76,
   "id": "048d9ae5",
   "metadata": {},
   "outputs": [],
   "source": [
    "# define a connection to the database\n",
    "connection_string = (\n",
    "    'mssql+pyodbc://@DESKTOP-OG2GI91/pathology?'\n",
    "    'driver=ODBC+Driver+17+for+SQL+Server&trusted_connection=yes'\n",
    ")\n",
    "\n",
    "# create the SQLAlchemy engine\n",
    "engine = create_engine(connection_string)"
   ]
  },
  {
   "cell_type": "code",
   "execution_count": 77,
   "id": "e7ff0957",
   "metadata": {},
   "outputs": [],
   "source": [
    "# retrieve health board ids\n",
    "query = \"SELECT health_board_id, health_board_code FROM dim_health_boards\"\n",
    "health_boards_df = pd.read_sql(query, engine)\n",
    "\n",
    "# merge to add the id column\n",
    "workload_df = workload_df.merge(health_boards_df, how='left', left_on='Health Board', right_on='health_board_code')\n",
    "staffing_df = staffing_df.merge(health_boards_df, how='left', left_on='Health Board', right_on='health_board_code')\n",
    "turnaround_df = turnaround_df.merge(health_boards_df, how='left', left_on='Health Board', right_on='health_board_code')\n",
    "consumables_df = consumables_df.merge(health_boards_df, how='left', left_on='Health Board', right_on='health_board_code')"
   ]
  },
  {
   "cell_type": "code",
   "execution_count": 78,
   "id": "214b55bf",
   "metadata": {},
   "outputs": [],
   "source": [
    "# retrieve year ids\n",
    "query = \"SELECT * FROM dim_years\"\n",
    "years_df = pd.read_sql(query, engine)\n",
    "\n",
    "# merge to add the id column\n",
    "workload_df = workload_df.merge(years_df, how='left', left_on='Year', right_on='financial_year')\n",
    "staffing_df = staffing_df.merge(years_df, how='left', left_on='Year', right_on='financial_year')\n",
    "turnaround_df = turnaround_df.merge(years_df, how='left', left_on='Year', right_on='financial_year')\n",
    "consumables_df = consumables_df.merge(years_df, how='left', left_on='Year', right_on='financial_year')"
   ]
  },
  {
   "cell_type": "code",
   "execution_count": 79,
   "id": "b4cf96b0",
   "metadata": {},
   "outputs": [],
   "source": [
    "# retrieve activity area ids\n",
    "query = \"SELECT * FROM dim_activity_areas\"\n",
    "activity_areas_df = pd.read_sql(query, engine)\n",
    "\n",
    "\n",
    "# merge to add the id column\n",
    "workload_df = workload_df.merge(activity_areas_df, how='left', left_on='Area', right_on='activity_area_name')"
   ]
  },
  {
   "cell_type": "code",
   "execution_count": 80,
   "id": "c734874f",
   "metadata": {},
   "outputs": [],
   "source": [
    "# retrieve activity category ids\n",
    "query = \"SELECT * FROM dim_activity_categories\"\n",
    "activity_categories_df = pd.read_sql(query, engine)\n",
    "\n",
    "\n",
    "# merge to add the id column\n",
    "workload_df = workload_df.merge(activity_categories_df, how='left', left_on='Category', right_on='activity_category_name')"
   ]
  },
  {
   "cell_type": "code",
   "execution_count": 81,
   "id": "32b67910",
   "metadata": {},
   "outputs": [],
   "source": [
    "# retrieve activity category ids\n",
    "query = \"SELECT * FROM dim_test_types\"\n",
    "test_types_df = pd.read_sql(query, engine)\n",
    "\n",
    "\n",
    "# merge to add the id column\n",
    "workload_df = workload_df.merge(test_types_df, how='left', left_on='Type', right_on='test_type_name')"
   ]
  },
  {
   "cell_type": "code",
   "execution_count": 82,
   "id": "043b7e7d",
   "metadata": {},
   "outputs": [],
   "source": [
    "# retrieve role ids\n",
    "query = \"SELECT * FROM dim_roles\"\n",
    "roles_df = pd.read_sql(query, engine)\n",
    "\n",
    "\n",
    "# merge to add the id column\n",
    "staffing_df = staffing_df.merge(roles_df, how='left', left_on='Role', right_on='role_name')"
   ]
  },
  {
   "cell_type": "code",
   "execution_count": 83,
   "id": "e6786541",
   "metadata": {},
   "outputs": [],
   "source": [
    "# retrieve role type ids\n",
    "query = \"SELECT * FROM dim_role_types\"\n",
    "role_types_df = pd.read_sql(query, engine)\n",
    "\n",
    "\n",
    "# merge to add the id column\n",
    "staffing_df = staffing_df.merge(role_types_df, how='left', left_on='role_type', right_on='role_type_name')"
   ]
  },
  {
   "cell_type": "code",
   "execution_count": 84,
   "id": "c897cb23",
   "metadata": {},
   "outputs": [],
   "source": [
    "# retrieve band ids\n",
    "query = \"SELECT * FROM dim_bands\"\n",
    "bands_df = pd.read_sql(query, engine)\n",
    "\n",
    "\n",
    "# merge to add the id column\n",
    "staffing_df = staffing_df.merge(bands_df, how='left', left_on='Band', right_on='band_name')"
   ]
  },
  {
   "cell_type": "code",
   "execution_count": 85,
   "id": "6e5bc8e4",
   "metadata": {},
   "outputs": [],
   "source": [
    "# retrieve discipline ids\n",
    "query = \"SELECT * FROM dim_disciplines\"\n",
    "discipline_df = pd.read_sql(query, engine)\n",
    "\n",
    "\n",
    "# merge to add the id column\n",
    "staffing_df = staffing_df.merge(discipline_df, how='left', left_on='Area', right_on='discipline_name')"
   ]
  },
  {
   "cell_type": "code",
   "execution_count": 86,
   "id": "d0127189",
   "metadata": {},
   "outputs": [],
   "source": [
    "# retrieve turnaround area ids\n",
    "query = \"SELECT * FROM dim_turnaround_areas\"\n",
    "turnaround_areas_df = pd.read_sql(query, engine)\n",
    "\n",
    "\n",
    "# merge to add the id column\n",
    "turnaround_df = turnaround_df.merge(turnaround_areas_df, how='left', left_on='Area', right_on='turnaround_area_name')"
   ]
  },
  {
   "cell_type": "code",
   "execution_count": 87,
   "id": "72fe00bb",
   "metadata": {},
   "outputs": [],
   "source": [
    "# retrieve turnaround category ids\n",
    "query = \"SELECT * FROM dim_turnaround_categories\"\n",
    "turnaround_categories_df = pd.read_sql(query, engine)\n",
    "\n",
    "\n",
    "# merge to add the id column\n",
    "turnaround_df = turnaround_df.merge(turnaround_categories_df, how='left', left_on='Category', right_on='turnaround_category_name')"
   ]
  },
  {
   "cell_type": "code",
   "execution_count": 88,
   "id": "f3fe92cd",
   "metadata": {},
   "outputs": [],
   "source": [
    "# retrieve turnaround category ids\n",
    "query = \"SELECT * FROM dim_turnaround_types\"\n",
    "turnaround_types_df = pd.read_sql(query, engine)\n",
    "\n",
    "\n",
    "# merge to add the id column\n",
    "turnaround_df = turnaround_df.merge(turnaround_types_df, how='left', left_on='Type', right_on='turnaround_type_name')"
   ]
  },
  {
   "cell_type": "code",
   "execution_count": 89,
   "id": "ae2befd8",
   "metadata": {},
   "outputs": [],
   "source": [
    "# retrieve turnaround category ids\n",
    "query = \"SELECT * FROM dim_consumable_areas\"\n",
    "consumable_areas_df = pd.read_sql(query, engine)\n",
    "\n",
    "\n",
    "# merge to add the id column\n",
    "consumables_df = consumables_df.merge(consumable_areas_df, how='left', left_on='Area', right_on='area_name')"
   ]
  },
  {
   "cell_type": "markdown",
   "id": "31a095b7",
   "metadata": {},
   "source": [
    "#### Call the functions to carry out database fact tables ingesting"
   ]
  },
  {
   "cell_type": "code",
   "execution_count": null,
   "id": "41dee4a0",
   "metadata": {},
   "outputs": [],
   "source": [
    "insert_workload_production(workload_df, cursor)\n",
    "insert_staffing(staffing_df, cursor)\n",
    "insert_turnaround(turnaround_df, cursor)\n",
    "insert_consumables(consumables_df, cursor)"
   ]
  },
  {
   "cell_type": "markdown",
   "id": "fd8e4d85",
   "metadata": {},
   "source": [
    "### Close the database connetion"
   ]
  },
  {
   "cell_type": "code",
   "execution_count": null,
   "id": "a0985655",
   "metadata": {},
   "outputs": [],
   "source": [
    "cursor.close()\n",
    "conn.close()"
   ]
  }
 ],
 "metadata": {
  "kernelspec": {
   "display_name": "Python 3 (ipykernel)",
   "language": "python",
   "name": "python3"
  },
  "language_info": {
   "codemirror_mode": {
    "name": "ipython",
    "version": 3
   },
   "file_extension": ".py",
   "mimetype": "text/x-python",
   "name": "python",
   "nbconvert_exporter": "python",
   "pygments_lexer": "ipython3",
   "version": "3.10.9"
  }
 },
 "nbformat": 4,
 "nbformat_minor": 5
}
