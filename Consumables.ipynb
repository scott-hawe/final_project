{
 "cells": [
  {
   "cell_type": "markdown",
   "id": "ade0c85b-6a9d-4790-86bd-4d5c9849a836",
   "metadata": {},
   "source": [
    "### Import libraries"
   ]
  },
  {
   "cell_type": "code",
   "execution_count": 16,
   "id": "41b1342e-0f03-4f67-a68b-05c465a92952",
   "metadata": {},
   "outputs": [],
   "source": [
    "import os\n",
    "import pandas as pd\n",
    "import numpy as np\n"
   ]
  },
  {
   "cell_type": "markdown",
   "id": "a8d7981c-dd74-4f13-bfb9-5ab545635526",
   "metadata": {},
   "source": [
    "### Define functions and file pathway for collecting excel files"
   ]
  },
  {
   "cell_type": "code",
   "execution_count": 17,
   "id": "06117f81-cdb1-479a-8748-e0349e81bc89",
   "metadata": {},
   "outputs": [],
   "source": [
    "# define the directory for the files\n",
    "directory = r\"C:\\Users\\scotth07\\OneDrive - NHS Scotland\\Documents\\Networks & Projects\\SPAN UNI\\Returns\\23_24\""
   ]
  },
  {
   "cell_type": "code",
   "execution_count": 18,
   "id": "208a17d3-562f-4b17-bb6e-f075e49d39c1",
   "metadata": {},
   "outputs": [],
   "source": [
    "# function to combine data from Excel files\n",
    "def combine_excel_files(input_directory, sheet_name, skiprows, nrows, usecols):\n",
    "    all_data = []\n",
    "    for file in os.listdir(input_directory):\n",
    "        if file.endswith('.xlsx'):\n",
    "            try:\n",
    "                file_path = os.path.join(input_directory, file)\n",
    "                print(f\"Processing file: {file_path}\")\n",
    "                data = pd.read_excel(file_path, sheet_name=sheet_name, \n",
    "                                     skiprows=skiprows, nrows=nrows, usecols=usecols).assign(**{'File Name': file})\n",
    "                all_data.append(data)\n",
    "            except ValueError as e:\n",
    "                print(f\"ValueError in file: {file} - {e}\")\n",
    "            except Exception as e:\n",
    "                print(f\"Error in file: {file} - {e}\")\n",
    "    return pd.concat(all_data, ignore_index=True)\n",
    "\n",
    "\n",
    "\n",
    "# function to extract the health baord  from the file name\n",
    "def extract_hb(data):\n",
    "    try:\n",
    "        parts = data.split(' ')\n",
    "        health_board = parts[1]\n",
    "        return health_board\n",
    "    except IndexError:\n",
    "        # Handle cases where the format is not as expected\n",
    "        return 'Unknown'\n"
   ]
  },
  {
   "cell_type": "markdown",
   "id": "25709c38-548f-4386-be28-0253e7808f18",
   "metadata": {},
   "source": [
    "### Ingest data from 6. Consumables Costs sheet"
   ]
  },
  {
   "cell_type": "code",
   "execution_count": 19,
   "id": "46c12910-0c6e-41d5-beed-37cf3c3b7924",
   "metadata": {},
   "outputs": [
    {
     "name": "stdout",
     "output_type": "stream",
     "text": [
      "Processing file: C:\\Users\\scotth07\\OneDrive - NHS Scotland\\Documents\\Networks & Projects\\SPAN UNI\\Returns\\23_24\\NHS A&A SPAN 2023-24.xlsx\n",
      "Processing file: C:\\Users\\scotth07\\OneDrive - NHS Scotland\\Documents\\Networks & Projects\\SPAN UNI\\Returns\\23_24\\NHS D&G SPAN 2023-24.xlsx\n",
      "Processing file: C:\\Users\\scotth07\\OneDrive - NHS Scotland\\Documents\\Networks & Projects\\SPAN UNI\\Returns\\23_24\\NHS Fife SPAN 2023-24.xlsx\n",
      "Processing file: C:\\Users\\scotth07\\OneDrive - NHS Scotland\\Documents\\Networks & Projects\\SPAN UNI\\Returns\\23_24\\NHS Forth Valley SPAN 2023-24.xlsx\n",
      "Processing file: C:\\Users\\scotth07\\OneDrive - NHS Scotland\\Documents\\Networks & Projects\\SPAN UNI\\Returns\\23_24\\NHS GG&C SPAN 2023-24.xlsx\n",
      "Processing file: C:\\Users\\scotth07\\OneDrive - NHS Scotland\\Documents\\Networks & Projects\\SPAN UNI\\Returns\\23_24\\NHS Grampian SPAN 2023-24.xlsx\n",
      "Processing file: C:\\Users\\scotth07\\OneDrive - NHS Scotland\\Documents\\Networks & Projects\\SPAN UNI\\Returns\\23_24\\NHS Highland SPAN 2023-24.xlsx\n",
      "Processing file: C:\\Users\\scotth07\\OneDrive - NHS Scotland\\Documents\\Networks & Projects\\SPAN UNI\\Returns\\23_24\\NHS Lanarkshire SPAN 2023-24.xlsx\n",
      "Processing file: C:\\Users\\scotth07\\OneDrive - NHS Scotland\\Documents\\Networks & Projects\\SPAN UNI\\Returns\\23_24\\NHS Lothian SPAN 2023-24.xlsx\n"
     ]
    }
   ],
   "source": [
    "# assign the workload data to dataframe using the defined function\n",
    "consumables_df = combine_excel_files(directory, '6. Consumables Costs', skiprows=6, nrows=1, usecols=[1,2,3,4,5,6,7,8])"
   ]
  },
  {
   "cell_type": "code",
   "execution_count": 20,
   "id": "196990f3-23f3-42cc-8cb4-a2d4a1daafff",
   "metadata": {},
   "outputs": [],
   "source": [
    "consumables_df = consumables_df.rename(columns={'File Name': 'Source File'})"
   ]
  },
  {
   "cell_type": "code",
   "execution_count": 21,
   "id": "4c106e94-d1ca-4d7e-be98-256ac59e704e",
   "metadata": {},
   "outputs": [],
   "source": [
    "# unpivot the dataframe to have a single value column\n",
    "melted_consumables_df = pd.melt(consumables_df,\n",
    "                                      id_vars=['Source File'],\n",
    "                                      value_vars=['General Histopathology',\n",
    "                                                  'Non-Cervical/ Diagnostic Cytopathology',\n",
    "                                                  'Cervical Screening Cytopathology',\n",
    "                                                  'Mortuary & Autopsy (Adult)',\n",
    "                                                  'Mortuary & Autopsy (Perinatal)', \n",
    "                                                  'Paediatric Pathology',\n",
    "                                                  'Neuropathology'],\n",
    "                                      var_name='Area',\n",
    "                                      value_name='Value')\n",
    "                                      "
   ]
  },
  {
   "cell_type": "code",
   "execution_count": 22,
   "id": "4c6a9e4e-520d-46d3-8eb6-81c5f896b960",
   "metadata": {},
   "outputs": [],
   "source": [
    "melted_consumables_df['Area'] = melted_consumables_df['Area'].replace({'Mortuary & Autopsy (Adult)': 'Mortuary & Autopsy',\n",
    "                                                                       'Mortuary & Autopsy (Perinatal)': 'Mortuary & Autopsy'})"
   ]
  },
  {
   "cell_type": "code",
   "execution_count": 23,
   "id": "fc483204-f260-4f73-b6bf-9630d9b849a9",
   "metadata": {},
   "outputs": [],
   "source": [
    "melted_consumables_df['Year'] = '23/24'"
   ]
  },
  {
   "cell_type": "code",
   "execution_count": 24,
   "id": "06f576be-8250-4d35-b78e-c60819e62eeb",
   "metadata": {},
   "outputs": [],
   "source": [
    "# extract health board from file name\n",
    "melted_consumables_df['Health Board'] = melted_consumables_df['Source File'].apply(extract_hb)"
   ]
  },
  {
   "cell_type": "code",
   "execution_count": 25,
   "id": "b446d52d-9e37-4442-8c67-e1aedebb0b91",
   "metadata": {},
   "outputs": [],
   "source": [
    "# rename health boards with short code\n",
    "melted_consumables_df = melted_consumables_df.replace({'Fife': 'FIFE',\n",
    "                               'Forth': 'FV',\n",
    "                               'Grampian': 'GRAM',\n",
    "                               'Highland': 'HIGH',\n",
    "                               'Lanarkshire': 'LAN',\n",
    "                               'Lothian': 'LOTH',\n",
    "                               'Tayside': 'TAY'})"
   ]
  },
  {
   "cell_type": "code",
   "execution_count": 26,
   "id": "0d4d1b05-d930-46bc-992d-3f0bcba69f60",
   "metadata": {},
   "outputs": [],
   "source": [
    "# define new order for columns\n",
    "column_order = ['Source File',\n",
    "               'Health Board',\n",
    "               'Year',\n",
    "               'Area',\n",
    "               'Value']\n",
    "\n",
    "\n",
    "# apply new column order\n",
    "melted_consumables_df = melted_consumables_df[column_order]"
   ]
  },
  {
   "cell_type": "code",
   "execution_count": 27,
   "id": "800f53c3-8e01-441d-925c-5ec8e15db113",
   "metadata": {},
   "outputs": [],
   "source": [
    "melted_consumables_df = melted_consumables_df.dropna(subset='Value')"
   ]
  },
  {
   "cell_type": "code",
   "execution_count": 28,
   "id": "022fa351-ab40-4b93-aee8-640da1fe4ae5",
   "metadata": {},
   "outputs": [
    {
     "data": {
      "text/plain": [
       "11033245.530000001"
      ]
     },
     "execution_count": 28,
     "metadata": {},
     "output_type": "execute_result"
    }
   ],
   "source": [
    "sum = melted_consumables_df['Value'].sum()\n",
    "sum"
   ]
  },
  {
   "cell_type": "code",
   "execution_count": 29,
   "id": "2a31dadf-3c48-41f1-8142-e7f94c14c64c",
   "metadata": {},
   "outputs": [],
   "source": [
    "melted_consumables_df.to_csv('cleaned_data/consumables.csv', index=False)"
   ]
  }
 ],
 "metadata": {
  "kernelspec": {
   "display_name": "Python 3 (ipykernel)",
   "language": "python",
   "name": "python3"
  },
  "language_info": {
   "codemirror_mode": {
    "name": "ipython",
    "version": 3
   },
   "file_extension": ".py",
   "mimetype": "text/x-python",
   "name": "python",
   "nbconvert_exporter": "python",
   "pygments_lexer": "ipython3",
   "version": "3.11.5"
  }
 },
 "nbformat": 4,
 "nbformat_minor": 5
}
