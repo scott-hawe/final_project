{
 "cells": [
  {
   "cell_type": "markdown",
   "id": "90207c57-a583-405b-b298-d635a14c33b0",
   "metadata": {},
   "source": [
    "### Import libraries"
   ]
  },
  {
   "cell_type": "code",
   "execution_count": 38,
   "id": "33bfa98e-8457-4224-a693-122b6852b3c4",
   "metadata": {},
   "outputs": [],
   "source": [
    "# import necessary libraries\n",
    "import os\n",
    "import pandas as pd\n",
    "import numpy as np\n"
   ]
  },
  {
   "cell_type": "markdown",
   "id": "12f995de-0f7f-4c1d-8769-5fee7c298f75",
   "metadata": {},
   "source": [
    "### Define functions and file pathway for collecting excel files"
   ]
  },
  {
   "cell_type": "code",
   "execution_count": 39,
   "id": "412660ef-903e-4624-8aa9-56961905b492",
   "metadata": {},
   "outputs": [],
   "source": [
    "# define the directory for the files\n",
    "directory = r\"C:\\Users\\scotth07\\OneDrive - NHS Scotland\\Documents\\Networks & Projects\\SPAN UNI\\Returns\\23_24\""
   ]
  },
  {
   "cell_type": "code",
   "execution_count": 40,
   "id": "facf0a74-27b8-48ef-a8bb-dd87ee0ebdaa",
   "metadata": {},
   "outputs": [],
   "source": [
    "def combine_excel_files(input_directory, sheet_name, skiprows, nrows, usecols):\n",
    "    \"\"\"Function to combine data from Excel files into a single dataframe\n",
    "\n",
    "    Parameters:\n",
    "    input_directory (string): defines where to retrieve the files from \n",
    "    sheet_name (string): defines which sheet in the files to retrieve data from\n",
    "    skiprows (int): defines how many rows to skip before retrieving data\n",
    "    nrows (int): defines how many rows to retrieve data for\n",
    "    usecols(int): defines which columns retrieve data from\n",
    "\n",
    "    Returns:\n",
    "    DataFrame: the result of combined dataframes for each excel file\"\"\"\n",
    "    # define empty list for storing data\n",
    "    all_data = []\n",
    "    # iterate over each file\n",
    "    for file in os.listdir(input_directory):\n",
    "        # retrieve only excel files in the directory\n",
    "        if file.endswith('.xlsx'):\n",
    "            try:\n",
    "                # join file name with directory\n",
    "                file_path = os.path.join(input_directory, file)\n",
    "                # print file name currently being processed\n",
    "                print(f\"Processing file: {file_path}\")\n",
    "\n",
    "                # assign file to a dataframe\n",
    "                data = pd.read_excel(file_path, \n",
    "                                     sheet_name=sheet_name, \n",
    "                                     skiprows=skiprows, \n",
    "                                     nrows=nrows, \n",
    "                                     usecols=usecols\n",
    "                                     ).assign(**{'File Name': file}) # add file name column\n",
    "                # append dataframe to list\n",
    "\n",
    "                all_data.append(data)\n",
    "            except ValueError as e:\n",
    "                # print error message and file name\n",
    "                print(f\"ValueError in file: {file} - {e}\")\n",
    "            except Exception as e:\n",
    "                # print exception message and file name\n",
    "                print(f\"Error in file: {file} - {e}\")\n",
    "\n",
    "    # return concatenate all of the dataframes into a single dataframe\n",
    "    return pd.concat(all_data, ignore_index=True)\n",
    "\n",
    "\n",
    "\n",
    "# function to extract the health baord  from the file name\n",
    "def extract_hb(data):\n",
    "    try:\n",
    "        parts = data.split(' ')\n",
    "        health_board = parts[1]\n",
    "        return health_board\n",
    "    except IndexError:\n",
    "        # Handle cases where the format is not as expected\n",
    "        return 'Unknown'\n"
   ]
  },
  {
   "cell_type": "markdown",
   "id": "c541a55a-3f2d-43a8-82fd-98a9ca5ad90b",
   "metadata": {},
   "source": [
    "### Ingest data from 1. Workload & Production sheet"
   ]
  },
  {
   "cell_type": "markdown",
   "id": "ac34e112-b3b6-4293-8709-c1ccd76a4289",
   "metadata": {},
   "source": [
    "#### Histopathology"
   ]
  },
  {
   "cell_type": "code",
   "execution_count": null,
   "id": "cbd966a2-c6f5-4a89-8355-372b9487d87b",
   "metadata": {},
   "outputs": [],
   "source": [
    "# assign the workload data to dataframe using the defined function\n",
    "histopathology_df = combine_excel_files(directory, '1. Workload & Production', skiprows=8, nrows=7, usecols=[1,2,3,4])"
   ]
  },
  {
   "cell_type": "code",
   "execution_count": 42,
   "id": "7c046773-6f2e-4bbd-8285-23d96dc1915a",
   "metadata": {},
   "outputs": [],
   "source": [
    "# unpivot the dataframe to have a single value column\n",
    "histopathology_melted_df = pd.melt(histopathology_df,\n",
    "                                       id_vars=['Type', 'File Name'],\n",
    "                                       value_vars=['General Activity', 'Neuropathology Activity', 'Paediatric Activity'],\n",
    "                                       var_name='Category',\n",
    "                                       value_name='Value')\n",
    "    "
   ]
  },
  {
   "cell_type": "code",
   "execution_count": 43,
   "id": "3b51914f-c5d5-4a27-82a6-4051e2a492ae",
   "metadata": {},
   "outputs": [],
   "source": [
    "# add in the area value specific to this dataframe along with the source sheet and table\n",
    "histopathology_melted_df['Area'] = 'Histopathology'\n",
    "histopathology_melted_df['Source Sheet'] = 'Sheet1_1_Histo'\n"
   ]
  },
  {
   "cell_type": "markdown",
   "id": "159cc57a-62dc-4aef-815f-9c3bff4ca5a9",
   "metadata": {},
   "source": [
    "#### Cytopathology"
   ]
  },
  {
   "cell_type": "code",
   "execution_count": null,
   "id": "c2c420fe-0245-473b-976a-e0cf8da8df5e",
   "metadata": {},
   "outputs": [],
   "source": [
    "# assign the workload data to dataframe using the defined function\n",
    "cytopathology_df = combine_excel_files(directory, '1. Workload & Production', skiprows=20, nrows=13, usecols=[1,2,3,4])"
   ]
  },
  {
   "cell_type": "code",
   "execution_count": 45,
   "id": "06b0a1b5-a632-40c5-81ca-7371173e73b0",
   "metadata": {},
   "outputs": [],
   "source": [
    "# unpivot the dataframe to have a single value column\n",
    "cytopathology_melted_df = pd.melt(cytopathology_df,\n",
    "                                  id_vars=['Type', 'File Name'],\n",
    "                                  value_vars=['Non-Cervical/ Diagnostic Activity (incorporating any Paediatric Pathology and Neuropathology)', \n",
    "                                              'Andrology Activity', 'Cervical Screening Activity'],\n",
    "                                  var_name='Category',\n",
    "                                  value_name='Value')"
   ]
  },
  {
   "cell_type": "code",
   "execution_count": 46,
   "id": "4da402cd-23db-45e3-904a-95b162052a46",
   "metadata": {},
   "outputs": [],
   "source": [
    "# add in the area value specific to this dataframe along with the source sheet and table\n",
    "cytopathology_melted_df['Area'] = 'Cytopathology'\n",
    "cytopathology_melted_df['Source Sheet'] = 'Sheet1_2_Cyto'"
   ]
  },
  {
   "cell_type": "markdown",
   "id": "91cde31e-e6c9-41c0-a47a-95fd2ae4fe2a",
   "metadata": {},
   "source": [
    "#### Electron Microscopy"
   ]
  },
  {
   "cell_type": "markdown",
   "id": "29b145ee-30b7-447b-97c6-dd4367cd51ce",
   "metadata": {},
   "source": [
    "###### Health boards collect different information for this section and can be separated into two groups for ingestion"
   ]
  },
  {
   "cell_type": "code",
   "execution_count": null,
   "id": "68dccead-2860-4f18-93af-158815baf252",
   "metadata": {},
   "outputs": [],
   "source": [
    "# assign the workload data to dataframe using the defined function\n",
    "electron_1_df = combine_excel_files(directory, '1. Workload & Production', skiprows=37, nrows=3, usecols=[1,2])"
   ]
  },
  {
   "cell_type": "code",
   "execution_count": 48,
   "id": "fb470588-d86c-4a08-b9d0-b598592d23ff",
   "metadata": {},
   "outputs": [],
   "source": [
    "# filter for the boards in group 1\n",
    "electron_1_df = electron_1_df[(electron_1_df['File Name'] == 'NHS D&G SPAN 2023-24.xlsx') |\n",
    "                              (electron_1_df['File Name'] == 'NHS Fife SPAN 2023-24.xlsx') |\n",
    "                              (electron_1_df['File Name'] == 'NHS Forth Valley SPAN 2023-24.xlsx') |\n",
    "                              (electron_1_df['File Name'] == 'NHS Highland SPAN 2023-24.xlsx') |\n",
    "                              (electron_1_df['File Name'] == 'NHS Lanarkshire SPAN 2023-24.xlsx')] "
   ]
  },
  {
   "cell_type": "code",
   "execution_count": 49,
   "id": "40a8b016-dede-47da-a077-0cb2ccc1a1bd",
   "metadata": {},
   "outputs": [],
   "source": [
    "# drop unwanted columns\n",
    "electron_1_df = electron_1_df.drop(columns=['*General Histopathology EM figures should exclude Neuro/Paediatric activity that should be recorded in adjacent columns unless otherwise stated\\n*Where Neuro/Paediatric cannot be identified separately please include in General Histopathology Electron Microscopy but flag that this is the case',\n",
    "                                            'Unnamed: 2'])"
   ]
  },
  {
   "cell_type": "code",
   "execution_count": 50,
   "id": "2bc8aa5a-4fae-4a5f-a0a9-7a7af20e2b61",
   "metadata": {},
   "outputs": [],
   "source": [
    "# add new column category\n",
    "electron_1_df['Category'] = 'General Activity'"
   ]
  },
  {
   "cell_type": "code",
   "execution_count": 51,
   "id": "f7616980-9bbe-45d3-b81b-a43d564272fe",
   "metadata": {},
   "outputs": [],
   "source": [
    "# rename value column appropriately\n",
    "electron_1_df = electron_1_df.rename(columns={'General Activity': 'Value'})"
   ]
  },
  {
   "cell_type": "code",
   "execution_count": null,
   "id": "f2265b43-fd12-4a3f-a4b7-c81fcb647e4d",
   "metadata": {},
   "outputs": [],
   "source": [
    "# assign the workload data to dataframe using the defined function\n",
    "electron_2_df = combine_excel_files(directory, '1. Workload & Production', skiprows=38, nrows=3, usecols=[1,2,3,4])"
   ]
  },
  {
   "cell_type": "code",
   "execution_count": 53,
   "id": "9417a718-282d-4f60-8855-7a63a33b87d5",
   "metadata": {},
   "outputs": [],
   "source": [
    "# filter for the boards in group 2\n",
    "electron_2_df = electron_2_df[(electron_2_df['File Name'] == 'NHS A&A SPAN 2023-24.xlsx') |\n",
    "                              (electron_2_df['File Name'] == 'NHS GG&C SPAN 2023-24.xlsx') |\n",
    "                              (electron_2_df['File Name'] == 'NHS Grampian SPAN 2023-24.xlsx') |\n",
    "                              (electron_2_df['File Name'] == 'NHS Lothian SPAN 2023-24.xlsx') |\n",
    "                              (electron_2_df['File Name'] == 'NHS Tayside SPAN 2023-24.xlsx')] "
   ]
  },
  {
   "cell_type": "code",
   "execution_count": 54,
   "id": "83eeb373-4c5b-4e19-8f17-5bfd63e06bcb",
   "metadata": {},
   "outputs": [],
   "source": [
    "# drop unwanted columns\n",
    "electron_2_df = electron_2_df.drop(columns=['Requests',\n",
    "                                            0,\n",
    "                                            'Unnamed: 2',\n",
    "                                            'Unnamed: 3',\n",
    "                                            'Unnamed: 4'])"
   ]
  },
  {
   "cell_type": "code",
   "execution_count": 56,
   "id": "cacf5845-18f7-4776-a06e-58f1845e8f06",
   "metadata": {},
   "outputs": [],
   "source": [
    "# unpivot the dataframe to have a single value column\n",
    "electron_2_melted_df = pd.melt(electron_2_df,\n",
    "                             id_vars=['Type', 'File Name'],\n",
    "                             value_vars=['General Activity', \n",
    "                                         'Neuropathology Activity',\n",
    "                                         'Paediatric Activity'],\n",
    "                             var_name='Category',\n",
    "                             value_name='Value')\n",
    "    "
   ]
  },
  {
   "cell_type": "code",
   "execution_count": 57,
   "id": "12cc67cd-00e1-4b13-87fc-18bcd94f0652",
   "metadata": {},
   "outputs": [],
   "source": [
    "# combine into a single dataframe\n",
    "electron_melted_df = pd.concat([electron_2_melted_df, electron_1_df])"
   ]
  },
  {
   "cell_type": "code",
   "execution_count": 58,
   "id": "a35e7c31-e0af-44dd-b01c-4da4535954ec",
   "metadata": {},
   "outputs": [],
   "source": [
    "# add in the area value specific to this dataframe along with the source sheet and table\n",
    "electron_melted_df['Area'] = 'Electron Microscopy'\n",
    "electron_melted_df['Source Sheet'] = 'Sheet1_3_Electron'"
   ]
  },
  {
   "cell_type": "markdown",
   "id": "a685d683-2dcf-4f8f-8705-d34dcc023460",
   "metadata": {},
   "source": [
    "#### Autopsy"
   ]
  },
  {
   "cell_type": "markdown",
   "id": "00af0c49-02d6-49eb-a951-c51819ace55c",
   "metadata": {},
   "source": [
    "###### Because the electron microscopy is collected differently for boards, the autopsy table is also affected as it is placed directly beneath.\n",
    "###### Boards will be ingested in 2 groups again."
   ]
  },
  {
   "cell_type": "code",
   "execution_count": null,
   "id": "7df4c6c0-aeb1-43ac-9ca7-18cf6d983382",
   "metadata": {},
   "outputs": [],
   "source": [
    "# assign the workload data to dataframe using the defined function\n",
    "autopsy_1_df = combine_excel_files(directory, '1. Workload & Production', skiprows=44, nrows=3, usecols=[1,2])"
   ]
  },
  {
   "cell_type": "code",
   "execution_count": null,
   "id": "78ab8ca5-d2ce-46c7-a8f6-b0c83fce7f02",
   "metadata": {},
   "outputs": [],
   "source": [
    "# assign the workload data to dataframe using the defined function\n",
    "autopsy_2_df = combine_excel_files(directory, '1. Workload & Production', skiprows=45, nrows=3, usecols=[1,2])"
   ]
  },
  {
   "cell_type": "code",
   "execution_count": 61,
   "id": "33683778-6d77-48a2-bf2a-25348dcb2e52",
   "metadata": {},
   "outputs": [],
   "source": [
    "# filter for the boards in group 1\n",
    "autopsy_1_df = autopsy_1_df[(autopsy_1_df['File Name'] == 'NHS D&G SPAN 2023-24.xlsx') |\n",
    "                              (autopsy_1_df['File Name'] == 'NHS Fife SPAN 2023-24.xlsx') |\n",
    "                              (autopsy_1_df['File Name'] == 'NHS Forth Valley SPAN 2023-24.xlsx') |\n",
    "                              (autopsy_1_df['File Name'] == 'NHS Highland SPAN 2023-24.xlsx') |\n",
    "                              (autopsy_1_df['File Name'] == 'NHS Lanarkshire SPAN 2023-24.xlsx')] \n",
    "\n",
    "\n",
    "# filter for the boards in group 2\n",
    "autopsy_2_df = autopsy_2_df[(autopsy_2_df['File Name'] == 'NHS A&A SPAN 2023-24.xlsx') |\n",
    "                              (autopsy_2_df['File Name'] == 'NHS GG&C SPAN 2023-24.xlsx') |\n",
    "                              (autopsy_2_df['File Name'] == 'NHS Grampian SPAN 2023-24.xlsx') |\n",
    "                              (autopsy_2_df['File Name'] == 'NHS Lothian SPAN 2023-24.xlsx') |\n",
    "                              (autopsy_2_df['File Name'] == 'NHS Tayside SPAN 2023-24.xlsx')] "
   ]
  },
  {
   "cell_type": "code",
   "execution_count": 62,
   "id": "22bee923-d1c6-4b04-9bd5-e056bfd9067c",
   "metadata": {},
   "outputs": [],
   "source": [
    "# drop unwanted columns\n",
    "autopsy_1_df = autopsy_1_df.drop(columns=['ALL AUTOPSY (incorporating General Pathology, Neuropathology, Paediatric Pathology and Fiscal) ',\n",
    "                                          'Unnamed: 2'])\n",
    "\n",
    "\n",
    "# drop unwanted columns\n",
    "autopsy_2_df = autopsy_2_df.drop(columns=['Non Fiscal Adult Post Mortems (incl. BRAIN only)',\n",
    "                                          2,\n",
    "                                          7,\n",
    "                                          4,\n",
    "                                          8,\n",
    "                                          'Unnamed: 2'])"
   ]
  },
  {
   "cell_type": "code",
   "execution_count": 63,
   "id": "a1877b02-48fb-41f0-b081-f5a9ae9bbd6a",
   "metadata": {},
   "outputs": [],
   "source": [
    "# add new column category\n",
    "autopsy_1_df['Category'] = 'Autopsy Activity'\n",
    "\n",
    "\n",
    "# add new column category\n",
    "autopsy_2_df['Category'] = 'Autopsy Activity'"
   ]
  },
  {
   "cell_type": "code",
   "execution_count": 64,
   "id": "b42a714c-62f0-46c4-979d-5924e3fd1bc2",
   "metadata": {},
   "outputs": [],
   "source": [
    "# rename value column appropriately\n",
    "autopsy_1_df = autopsy_1_df.rename(columns={'Autopsy Activity': 'Value'})\n",
    "\n",
    "\n",
    "# rename value column appropriately\n",
    "autopsy_2_df = autopsy_2_df.rename(columns={'Autopsy Activity': 'Value'})"
   ]
  },
  {
   "cell_type": "code",
   "execution_count": 65,
   "id": "e1100887-96f9-4a17-b9c2-c24fa5704030",
   "metadata": {},
   "outputs": [],
   "source": [
    "autopsy_df = pd.concat([autopsy_1_df, autopsy_2_df])"
   ]
  },
  {
   "cell_type": "code",
   "execution_count": 66,
   "id": "853d0618-619e-4737-a93f-ac2b9be55b63",
   "metadata": {},
   "outputs": [],
   "source": [
    "# add area column\n",
    "autopsy_df['Area'] = 'Autopsy'\n",
    "\n",
    "\n",
    "# add the source sheet\n",
    "autopsy_df['Source Sheet'] = 'Sheet1_4_Autopsy'"
   ]
  },
  {
   "cell_type": "markdown",
   "id": "25a87f24-3a48-4636-90c9-3f8fd28d21e7",
   "metadata": {},
   "source": [
    "#### Merge the dataframes"
   ]
  },
  {
   "cell_type": "code",
   "execution_count": 67,
   "id": "e53d548b-2dc3-4dea-bf6e-e66474cd7230",
   "metadata": {},
   "outputs": [],
   "source": [
    "# use concat to merge\n",
    "merged_df = pd.concat([histopathology_melted_df,\n",
    "                      cytopathology_melted_df,\n",
    "                      electron_melted_df,\n",
    "                      autopsy_df])"
   ]
  },
  {
   "cell_type": "code",
   "execution_count": 68,
   "id": "6c86564c-a8b8-4a34-b0a8-98ceada46ad9",
   "metadata": {},
   "outputs": [],
   "source": [
    "# add a year column\n",
    "merged_df['Year'] = '23/24'"
   ]
  },
  {
   "cell_type": "code",
   "execution_count": 69,
   "id": "3653b9b8-eccf-4398-8be9-b6fb28db4ead",
   "metadata": {},
   "outputs": [],
   "source": [
    "# extract health board from file name\n",
    "merged_df['Health Board'] = merged_df['File Name'].apply(extract_hb)"
   ]
  },
  {
   "cell_type": "code",
   "execution_count": 70,
   "id": "732a723f-cff5-4c21-a399-bb51984fcde2",
   "metadata": {},
   "outputs": [],
   "source": [
    "# rename health boards with short code\n",
    "merged_df = merged_df.replace({'Fife': 'FIFE',\n",
    "                               'Forth': 'FV',\n",
    "                               'Grampian': 'GRAM',\n",
    "                               'Highland': 'HIGH',\n",
    "                               'Lanarkshire': 'LAN',\n",
    "                               'Lothian': 'LOTH',\n",
    "                               'Tayside': 'TAY'})"
   ]
  },
  {
   "cell_type": "code",
   "execution_count": 71,
   "id": "f8eb0314-118c-42ed-8b33-c66e1be551cf",
   "metadata": {},
   "outputs": [],
   "source": [
    "# rename column\n",
    "merged_df = merged_df.rename(columns={'File Name': 'Source File'})"
   ]
  },
  {
   "cell_type": "code",
   "execution_count": 72,
   "id": "994d2eb0-5ea2-40e9-88a6-8646da924e58",
   "metadata": {},
   "outputs": [],
   "source": [
    "# define new order for columns\n",
    "column_order = ['Source File',\n",
    "               'Source Sheet',\n",
    "               'Health Board',\n",
    "               'Year',\n",
    "               'Area',\n",
    "               'Category',\n",
    "               'Type',\n",
    "               'Value']\n",
    "\n",
    "\n",
    "# apply new column order\n",
    "merged_df = merged_df[column_order]"
   ]
  },
  {
   "cell_type": "code",
   "execution_count": 73,
   "id": "6714da05-a583-4fc6-93ff-eadedbcd4b4a",
   "metadata": {},
   "outputs": [],
   "source": [
    "# remove values of 0 and na\n",
    "merged_df = merged_df[merged_df['Value'] != 0.0]\n",
    "merged_df = merged_df.dropna()"
   ]
  },
  {
   "cell_type": "code",
   "execution_count": 74,
   "id": "c67b6538-5eb7-4ed0-ad57-518563f4dcbb",
   "metadata": {},
   "outputs": [],
   "source": [
    "merged_df.to_csv('cleaned_data/workload_production.csv', index=False)"
   ]
  }
 ],
 "metadata": {
  "kernelspec": {
   "display_name": "Python 3 (ipykernel)",
   "language": "python",
   "name": "python3"
  },
  "language_info": {
   "codemirror_mode": {
    "name": "ipython",
    "version": 3
   },
   "file_extension": ".py",
   "mimetype": "text/x-python",
   "name": "python",
   "nbconvert_exporter": "python",
   "pygments_lexer": "ipython3",
   "version": "3.11.5"
  }
 },
 "nbformat": 4,
 "nbformat_minor": 5
}
