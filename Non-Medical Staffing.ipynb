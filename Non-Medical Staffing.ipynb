{
 "cells": [
  {
   "cell_type": "markdown",
   "id": "dce69d55-d2ad-4f54-8e9e-244e47eb41a3",
   "metadata": {},
   "source": [
    "### Import libraries"
   ]
  },
  {
   "cell_type": "code",
   "execution_count": 63,
   "id": "3bc19533-bd6c-4b79-8a99-d38b34a3e969",
   "metadata": {},
   "outputs": [],
   "source": [
    "import os\n",
    "import pandas as pd\n",
    "import numpy as np\n"
   ]
  },
  {
   "cell_type": "markdown",
   "id": "c505dd4d-f54f-49ea-b1cb-335039a9b51f",
   "metadata": {},
   "source": [
    "### Define functions and file pathway for collecting excel files"
   ]
  },
  {
   "cell_type": "code",
   "execution_count": 64,
   "id": "d861545f-5648-43da-b576-299ae36b2bf3",
   "metadata": {},
   "outputs": [],
   "source": [
    "# define the directory for the files\n",
    "directory = r\"C:\\Users\\scotth07\\OneDrive - NHS Scotland\\Documents\\Networks & Projects\\SPAN UNI\\Returns\\23_24\""
   ]
  },
  {
   "cell_type": "code",
   "execution_count": 65,
   "id": "7e8647f0-7dc5-492a-a906-41a31adf19ba",
   "metadata": {},
   "outputs": [],
   "source": [
    "# function to combine data from Excel files\n",
    "def combine_excel_files(input_directory, sheet_name, skiprows, nrows, usecols):\n",
    "    all_data = []\n",
    "    for file in os.listdir(input_directory):\n",
    "        if file.endswith('.xlsx'):\n",
    "            try:\n",
    "                file_path = os.path.join(input_directory, file)\n",
    "                print(f\"Processing file: {file_path}\")\n",
    "                data = pd.read_excel(file_path, sheet_name=sheet_name, \n",
    "                                     skiprows=skiprows, nrows=nrows, usecols=usecols).assign(**{'File Name': file})\n",
    "                all_data.append(data)\n",
    "            except ValueError as e:\n",
    "                print(f\"ValueError in file: {file} - {e}\")\n",
    "            except Exception as e:\n",
    "                print(f\"Error in file: {file} - {e}\")\n",
    "    return pd.concat(all_data, ignore_index=True)\n",
    "\n",
    "\n",
    "\n",
    "# function to extract the health baord  from the file name\n",
    "def extract_hb(data):\n",
    "    try:\n",
    "        parts = data.split(' ')\n",
    "        health_board = parts[1]\n",
    "        return health_board\n",
    "    except IndexError:\n",
    "        # Handle cases where the format is not as expected\n",
    "        return 'Unknown'\n"
   ]
  },
  {
   "cell_type": "markdown",
   "id": "4e4564f3-cae4-4986-ab6b-75bbe138de06",
   "metadata": {},
   "source": [
    "### Ingest post data from 3. Non-Medical Staffing"
   ]
  },
  {
   "cell_type": "markdown",
   "id": "2e1a5cfb-6848-4eb8-b3d3-74992e42fae1",
   "metadata": {},
   "source": [
    "#### Healthcare Scientists"
   ]
  },
  {
   "cell_type": "code",
   "execution_count": 66,
   "id": "80cd45b3-aa2c-48cf-af6c-720ad9162da1",
   "metadata": {},
   "outputs": [
    {
     "name": "stdout",
     "output_type": "stream",
     "text": [
      "Processing file: C:\\Users\\scotth07\\OneDrive - NHS Scotland\\Documents\\Networks & Projects\\SPAN UNI\\Returns\\23_24\\NHS A&A SPAN 2023-24.xlsx\n",
      "Processing file: C:\\Users\\scotth07\\OneDrive - NHS Scotland\\Documents\\Networks & Projects\\SPAN UNI\\Returns\\23_24\\NHS D&G SPAN 2023-24.xlsx\n",
      "Processing file: C:\\Users\\scotth07\\OneDrive - NHS Scotland\\Documents\\Networks & Projects\\SPAN UNI\\Returns\\23_24\\NHS Fife SPAN 2023-24.xlsx\n",
      "Processing file: C:\\Users\\scotth07\\OneDrive - NHS Scotland\\Documents\\Networks & Projects\\SPAN UNI\\Returns\\23_24\\NHS Forth Valley SPAN 2023-24.xlsx\n",
      "Processing file: C:\\Users\\scotth07\\OneDrive - NHS Scotland\\Documents\\Networks & Projects\\SPAN UNI\\Returns\\23_24\\NHS GG&C SPAN 2023-24.xlsx\n",
      "Processing file: C:\\Users\\scotth07\\OneDrive - NHS Scotland\\Documents\\Networks & Projects\\SPAN UNI\\Returns\\23_24\\NHS Grampian SPAN 2023-24.xlsx\n",
      "Processing file: C:\\Users\\scotth07\\OneDrive - NHS Scotland\\Documents\\Networks & Projects\\SPAN UNI\\Returns\\23_24\\NHS Highland SPAN 2023-24.xlsx\n",
      "Processing file: C:\\Users\\scotth07\\OneDrive - NHS Scotland\\Documents\\Networks & Projects\\SPAN UNI\\Returns\\23_24\\NHS Lanarkshire SPAN 2023-24.xlsx\n",
      "Processing file: C:\\Users\\scotth07\\OneDrive - NHS Scotland\\Documents\\Networks & Projects\\SPAN UNI\\Returns\\23_24\\NHS Lothian SPAN 2023-24.xlsx\n",
      "Processing file: C:\\Users\\scotth07\\OneDrive - NHS Scotland\\Documents\\Networks & Projects\\SPAN UNI\\Returns\\23_24\\NHS A&A SPAN 2023-24.xlsx\n",
      "Processing file: C:\\Users\\scotth07\\OneDrive - NHS Scotland\\Documents\\Networks & Projects\\SPAN UNI\\Returns\\23_24\\NHS D&G SPAN 2023-24.xlsx\n",
      "Processing file: C:\\Users\\scotth07\\OneDrive - NHS Scotland\\Documents\\Networks & Projects\\SPAN UNI\\Returns\\23_24\\NHS Fife SPAN 2023-24.xlsx\n",
      "Processing file: C:\\Users\\scotth07\\OneDrive - NHS Scotland\\Documents\\Networks & Projects\\SPAN UNI\\Returns\\23_24\\NHS Forth Valley SPAN 2023-24.xlsx\n",
      "Processing file: C:\\Users\\scotth07\\OneDrive - NHS Scotland\\Documents\\Networks & Projects\\SPAN UNI\\Returns\\23_24\\NHS GG&C SPAN 2023-24.xlsx\n",
      "Processing file: C:\\Users\\scotth07\\OneDrive - NHS Scotland\\Documents\\Networks & Projects\\SPAN UNI\\Returns\\23_24\\NHS Grampian SPAN 2023-24.xlsx\n",
      "Processing file: C:\\Users\\scotth07\\OneDrive - NHS Scotland\\Documents\\Networks & Projects\\SPAN UNI\\Returns\\23_24\\NHS Highland SPAN 2023-24.xlsx\n",
      "Processing file: C:\\Users\\scotth07\\OneDrive - NHS Scotland\\Documents\\Networks & Projects\\SPAN UNI\\Returns\\23_24\\NHS Lanarkshire SPAN 2023-24.xlsx\n",
      "Processing file: C:\\Users\\scotth07\\OneDrive - NHS Scotland\\Documents\\Networks & Projects\\SPAN UNI\\Returns\\23_24\\NHS Lothian SPAN 2023-24.xlsx\n",
      "Processing file: C:\\Users\\scotth07\\OneDrive - NHS Scotland\\Documents\\Networks & Projects\\SPAN UNI\\Returns\\23_24\\NHS A&A SPAN 2023-24.xlsx\n",
      "Processing file: C:\\Users\\scotth07\\OneDrive - NHS Scotland\\Documents\\Networks & Projects\\SPAN UNI\\Returns\\23_24\\NHS D&G SPAN 2023-24.xlsx\n",
      "Processing file: C:\\Users\\scotth07\\OneDrive - NHS Scotland\\Documents\\Networks & Projects\\SPAN UNI\\Returns\\23_24\\NHS Fife SPAN 2023-24.xlsx\n",
      "Processing file: C:\\Users\\scotth07\\OneDrive - NHS Scotland\\Documents\\Networks & Projects\\SPAN UNI\\Returns\\23_24\\NHS Forth Valley SPAN 2023-24.xlsx\n",
      "Processing file: C:\\Users\\scotth07\\OneDrive - NHS Scotland\\Documents\\Networks & Projects\\SPAN UNI\\Returns\\23_24\\NHS GG&C SPAN 2023-24.xlsx\n",
      "Processing file: C:\\Users\\scotth07\\OneDrive - NHS Scotland\\Documents\\Networks & Projects\\SPAN UNI\\Returns\\23_24\\NHS Grampian SPAN 2023-24.xlsx\n",
      "Processing file: C:\\Users\\scotth07\\OneDrive - NHS Scotland\\Documents\\Networks & Projects\\SPAN UNI\\Returns\\23_24\\NHS Highland SPAN 2023-24.xlsx\n",
      "Processing file: C:\\Users\\scotth07\\OneDrive - NHS Scotland\\Documents\\Networks & Projects\\SPAN UNI\\Returns\\23_24\\NHS Lanarkshire SPAN 2023-24.xlsx\n",
      "Processing file: C:\\Users\\scotth07\\OneDrive - NHS Scotland\\Documents\\Networks & Projects\\SPAN UNI\\Returns\\23_24\\NHS Lothian SPAN 2023-24.xlsx\n",
      "Processing file: C:\\Users\\scotth07\\OneDrive - NHS Scotland\\Documents\\Networks & Projects\\SPAN UNI\\Returns\\23_24\\NHS A&A SPAN 2023-24.xlsx\n",
      "Processing file: C:\\Users\\scotth07\\OneDrive - NHS Scotland\\Documents\\Networks & Projects\\SPAN UNI\\Returns\\23_24\\NHS D&G SPAN 2023-24.xlsx\n",
      "Processing file: C:\\Users\\scotth07\\OneDrive - NHS Scotland\\Documents\\Networks & Projects\\SPAN UNI\\Returns\\23_24\\NHS Fife SPAN 2023-24.xlsx\n",
      "Processing file: C:\\Users\\scotth07\\OneDrive - NHS Scotland\\Documents\\Networks & Projects\\SPAN UNI\\Returns\\23_24\\NHS Forth Valley SPAN 2023-24.xlsx\n",
      "Processing file: C:\\Users\\scotth07\\OneDrive - NHS Scotland\\Documents\\Networks & Projects\\SPAN UNI\\Returns\\23_24\\NHS GG&C SPAN 2023-24.xlsx\n",
      "Processing file: C:\\Users\\scotth07\\OneDrive - NHS Scotland\\Documents\\Networks & Projects\\SPAN UNI\\Returns\\23_24\\NHS Grampian SPAN 2023-24.xlsx\n",
      "Processing file: C:\\Users\\scotth07\\OneDrive - NHS Scotland\\Documents\\Networks & Projects\\SPAN UNI\\Returns\\23_24\\NHS Highland SPAN 2023-24.xlsx\n",
      "Processing file: C:\\Users\\scotth07\\OneDrive - NHS Scotland\\Documents\\Networks & Projects\\SPAN UNI\\Returns\\23_24\\NHS Lanarkshire SPAN 2023-24.xlsx\n",
      "Processing file: C:\\Users\\scotth07\\OneDrive - NHS Scotland\\Documents\\Networks & Projects\\SPAN UNI\\Returns\\23_24\\NHS Lothian SPAN 2023-24.xlsx\n",
      "Processing file: C:\\Users\\scotth07\\OneDrive - NHS Scotland\\Documents\\Networks & Projects\\SPAN UNI\\Returns\\23_24\\NHS A&A SPAN 2023-24.xlsx\n",
      "Processing file: C:\\Users\\scotth07\\OneDrive - NHS Scotland\\Documents\\Networks & Projects\\SPAN UNI\\Returns\\23_24\\NHS D&G SPAN 2023-24.xlsx\n",
      "Processing file: C:\\Users\\scotth07\\OneDrive - NHS Scotland\\Documents\\Networks & Projects\\SPAN UNI\\Returns\\23_24\\NHS Fife SPAN 2023-24.xlsx\n",
      "Processing file: C:\\Users\\scotth07\\OneDrive - NHS Scotland\\Documents\\Networks & Projects\\SPAN UNI\\Returns\\23_24\\NHS Forth Valley SPAN 2023-24.xlsx\n",
      "Processing file: C:\\Users\\scotth07\\OneDrive - NHS Scotland\\Documents\\Networks & Projects\\SPAN UNI\\Returns\\23_24\\NHS GG&C SPAN 2023-24.xlsx\n",
      "Processing file: C:\\Users\\scotth07\\OneDrive - NHS Scotland\\Documents\\Networks & Projects\\SPAN UNI\\Returns\\23_24\\NHS Grampian SPAN 2023-24.xlsx\n",
      "Processing file: C:\\Users\\scotth07\\OneDrive - NHS Scotland\\Documents\\Networks & Projects\\SPAN UNI\\Returns\\23_24\\NHS Highland SPAN 2023-24.xlsx\n",
      "Processing file: C:\\Users\\scotth07\\OneDrive - NHS Scotland\\Documents\\Networks & Projects\\SPAN UNI\\Returns\\23_24\\NHS Lanarkshire SPAN 2023-24.xlsx\n",
      "Processing file: C:\\Users\\scotth07\\OneDrive - NHS Scotland\\Documents\\Networks & Projects\\SPAN UNI\\Returns\\23_24\\NHS Lothian SPAN 2023-24.xlsx\n"
     ]
    }
   ],
   "source": [
    "# assign the data to dataframe using the defined function\n",
    "healthcare_histo_posts_df = combine_excel_files(directory, '3. Non-Medical Staffing', skiprows=8, nrows=28, usecols=[1,2,3])\n",
    "healthcare_noncerv_posts_df = combine_excel_files(directory, '3. Non-Medical Staffing', skiprows=8, nrows=28, usecols=[1,4,5])\n",
    "healthcare_neuro_posts_df = combine_excel_files(directory, '3. Non-Medical Staffing', skiprows=8, nrows=28, usecols=[1,6,7])\n",
    "healthcare_paed_posts_df = combine_excel_files(directory, '3. Non-Medical Staffing', skiprows=8, nrows=28, usecols=[1,8,9])\n",
    "healthcare_cerv_posts_df = combine_excel_files(directory, '3. Non-Medical Staffing', skiprows=8, nrows=28, usecols=[1,10,11])"
   ]
  },
  {
   "cell_type": "code",
   "execution_count": 67,
   "id": "b280425b-9476-468e-befb-b1682bd64a51",
   "metadata": {},
   "outputs": [],
   "source": [
    "healthcare_histo_posts_df = healthcare_histo_posts_df.rename(columns={'Unnamed: 1': 'Role & Band'})\n",
    "healthcare_noncerv_posts_df = healthcare_noncerv_posts_df.rename(columns={'Unnamed: 1': 'Role & Band',\n",
    "                                                                          'Headcount.1': 'Headcount',\n",
    "                                                                          'WTE.1': 'WTE'})\n",
    "healthcare_neuro_posts_df = healthcare_neuro_posts_df.rename(columns={'Unnamed: 1': 'Role & Band',\n",
    "                                                                     'Headcount.2': 'Headcount',\n",
    "                                                                     'WTE.2': 'WTE'})\n",
    "healthcare_paed_posts_df = healthcare_paed_posts_df.rename(columns={'Unnamed: 1': 'Role & Band',\n",
    "                                                                    'Headcount.3': 'Headcount',\n",
    "                                                                     'WTE.3': 'WTE'})\n",
    "healthcare_cerv_posts_df  = healthcare_cerv_posts_df.rename(columns={'Unnamed: 1': 'Role & Band',\n",
    "                                                                     'Headcount.4': 'Headcount',\n",
    "                                                                     'WTE.4': 'WTE'})"
   ]
  },
  {
   "cell_type": "code",
   "execution_count": 68,
   "id": "6714a951-bd9b-45e8-bc45-66146cfc008e",
   "metadata": {},
   "outputs": [],
   "source": [
    "healthcare_histo_posts_df['Area'] = 'General Histopathology'\n",
    "healthcare_noncerv_posts_df['Area'] = 'Non-Cervical/Diagnostic Cytopathology'\n",
    "healthcare_neuro_posts_df['Area'] = 'Neuropathology'\n",
    "healthcare_paed_posts_df['Area'] = 'Paediatric Pathology'\n",
    "healthcare_cerv_posts_df['Area'] = 'Cervical Screening'"
   ]
  },
  {
   "cell_type": "code",
   "execution_count": 69,
   "id": "7377a461-92d7-4781-a59f-930e7b928b76",
   "metadata": {},
   "outputs": [],
   "source": [
    "healthcare_posts_df = pd.concat([healthcare_histo_posts_df,\n",
    "                                 healthcare_noncerv_posts_df,\n",
    "                                 healthcare_neuro_posts_df,\n",
    "                                 healthcare_paed_posts_df,\n",
    "                                 healthcare_cerv_posts_df])\n"
   ]
  },
  {
   "cell_type": "code",
   "execution_count": 70,
   "id": "bd21ef3b-859e-43de-8876-0950a0399d56",
   "metadata": {},
   "outputs": [],
   "source": [
    "healthcare_posts_df = healthcare_posts_df.dropna(subset=['Headcount', 'WTE'])"
   ]
  },
  {
   "cell_type": "code",
   "execution_count": 71,
   "id": "4f700a00-1b68-43a2-b432-311931132733",
   "metadata": {},
   "outputs": [
    {
     "data": {
      "text/plain": [
       "459.0"
      ]
     },
     "execution_count": 71,
     "metadata": {},
     "output_type": "execute_result"
    }
   ],
   "source": [
    "sum = healthcare_posts_df['Headcount'].sum()\n",
    "sum"
   ]
  },
  {
   "cell_type": "code",
   "execution_count": 72,
   "id": "9f153a19-c298-476d-8e0c-02b6059ce381",
   "metadata": {},
   "outputs": [],
   "source": [
    "healthcare_posts_df['Source Sheet'] = 'Sheet3_1_ScientistStaffing'"
   ]
  },
  {
   "cell_type": "markdown",
   "id": "106905d3-8f10-4be3-89be-897367a58d29",
   "metadata": {},
   "source": [
    "#### Admin & Clerical"
   ]
  },
  {
   "cell_type": "code",
   "execution_count": 73,
   "id": "3702552d-cfaa-4785-be4f-202caa0c9ead",
   "metadata": {},
   "outputs": [
    {
     "name": "stdout",
     "output_type": "stream",
     "text": [
      "Processing file: C:\\Users\\scotth07\\OneDrive - NHS Scotland\\Documents\\Networks & Projects\\SPAN UNI\\Returns\\23_24\\NHS A&A SPAN 2023-24.xlsx\n",
      "Processing file: C:\\Users\\scotth07\\OneDrive - NHS Scotland\\Documents\\Networks & Projects\\SPAN UNI\\Returns\\23_24\\NHS D&G SPAN 2023-24.xlsx\n",
      "Processing file: C:\\Users\\scotth07\\OneDrive - NHS Scotland\\Documents\\Networks & Projects\\SPAN UNI\\Returns\\23_24\\NHS Fife SPAN 2023-24.xlsx\n",
      "Processing file: C:\\Users\\scotth07\\OneDrive - NHS Scotland\\Documents\\Networks & Projects\\SPAN UNI\\Returns\\23_24\\NHS Forth Valley SPAN 2023-24.xlsx\n",
      "Processing file: C:\\Users\\scotth07\\OneDrive - NHS Scotland\\Documents\\Networks & Projects\\SPAN UNI\\Returns\\23_24\\NHS GG&C SPAN 2023-24.xlsx\n",
      "Processing file: C:\\Users\\scotth07\\OneDrive - NHS Scotland\\Documents\\Networks & Projects\\SPAN UNI\\Returns\\23_24\\NHS Grampian SPAN 2023-24.xlsx\n",
      "Processing file: C:\\Users\\scotth07\\OneDrive - NHS Scotland\\Documents\\Networks & Projects\\SPAN UNI\\Returns\\23_24\\NHS Highland SPAN 2023-24.xlsx\n",
      "Processing file: C:\\Users\\scotth07\\OneDrive - NHS Scotland\\Documents\\Networks & Projects\\SPAN UNI\\Returns\\23_24\\NHS Lanarkshire SPAN 2023-24.xlsx\n",
      "Processing file: C:\\Users\\scotth07\\OneDrive - NHS Scotland\\Documents\\Networks & Projects\\SPAN UNI\\Returns\\23_24\\NHS Lothian SPAN 2023-24.xlsx\n",
      "Processing file: C:\\Users\\scotth07\\OneDrive - NHS Scotland\\Documents\\Networks & Projects\\SPAN UNI\\Returns\\23_24\\NHS A&A SPAN 2023-24.xlsx\n",
      "Processing file: C:\\Users\\scotth07\\OneDrive - NHS Scotland\\Documents\\Networks & Projects\\SPAN UNI\\Returns\\23_24\\NHS D&G SPAN 2023-24.xlsx\n",
      "Processing file: C:\\Users\\scotth07\\OneDrive - NHS Scotland\\Documents\\Networks & Projects\\SPAN UNI\\Returns\\23_24\\NHS Fife SPAN 2023-24.xlsx\n",
      "Processing file: C:\\Users\\scotth07\\OneDrive - NHS Scotland\\Documents\\Networks & Projects\\SPAN UNI\\Returns\\23_24\\NHS Forth Valley SPAN 2023-24.xlsx\n",
      "Processing file: C:\\Users\\scotth07\\OneDrive - NHS Scotland\\Documents\\Networks & Projects\\SPAN UNI\\Returns\\23_24\\NHS GG&C SPAN 2023-24.xlsx\n",
      "Processing file: C:\\Users\\scotth07\\OneDrive - NHS Scotland\\Documents\\Networks & Projects\\SPAN UNI\\Returns\\23_24\\NHS Grampian SPAN 2023-24.xlsx\n",
      "Processing file: C:\\Users\\scotth07\\OneDrive - NHS Scotland\\Documents\\Networks & Projects\\SPAN UNI\\Returns\\23_24\\NHS Highland SPAN 2023-24.xlsx\n",
      "Processing file: C:\\Users\\scotth07\\OneDrive - NHS Scotland\\Documents\\Networks & Projects\\SPAN UNI\\Returns\\23_24\\NHS Lanarkshire SPAN 2023-24.xlsx\n",
      "Processing file: C:\\Users\\scotth07\\OneDrive - NHS Scotland\\Documents\\Networks & Projects\\SPAN UNI\\Returns\\23_24\\NHS Lothian SPAN 2023-24.xlsx\n",
      "Processing file: C:\\Users\\scotth07\\OneDrive - NHS Scotland\\Documents\\Networks & Projects\\SPAN UNI\\Returns\\23_24\\NHS A&A SPAN 2023-24.xlsx\n",
      "Processing file: C:\\Users\\scotth07\\OneDrive - NHS Scotland\\Documents\\Networks & Projects\\SPAN UNI\\Returns\\23_24\\NHS D&G SPAN 2023-24.xlsx\n",
      "Processing file: C:\\Users\\scotth07\\OneDrive - NHS Scotland\\Documents\\Networks & Projects\\SPAN UNI\\Returns\\23_24\\NHS Fife SPAN 2023-24.xlsx\n",
      "Processing file: C:\\Users\\scotth07\\OneDrive - NHS Scotland\\Documents\\Networks & Projects\\SPAN UNI\\Returns\\23_24\\NHS Forth Valley SPAN 2023-24.xlsx\n",
      "Processing file: C:\\Users\\scotth07\\OneDrive - NHS Scotland\\Documents\\Networks & Projects\\SPAN UNI\\Returns\\23_24\\NHS GG&C SPAN 2023-24.xlsx\n",
      "Processing file: C:\\Users\\scotth07\\OneDrive - NHS Scotland\\Documents\\Networks & Projects\\SPAN UNI\\Returns\\23_24\\NHS Grampian SPAN 2023-24.xlsx\n",
      "Processing file: C:\\Users\\scotth07\\OneDrive - NHS Scotland\\Documents\\Networks & Projects\\SPAN UNI\\Returns\\23_24\\NHS Highland SPAN 2023-24.xlsx\n",
      "Processing file: C:\\Users\\scotth07\\OneDrive - NHS Scotland\\Documents\\Networks & Projects\\SPAN UNI\\Returns\\23_24\\NHS Lanarkshire SPAN 2023-24.xlsx\n",
      "Processing file: C:\\Users\\scotth07\\OneDrive - NHS Scotland\\Documents\\Networks & Projects\\SPAN UNI\\Returns\\23_24\\NHS Lothian SPAN 2023-24.xlsx\n",
      "Processing file: C:\\Users\\scotth07\\OneDrive - NHS Scotland\\Documents\\Networks & Projects\\SPAN UNI\\Returns\\23_24\\NHS A&A SPAN 2023-24.xlsx\n",
      "Processing file: C:\\Users\\scotth07\\OneDrive - NHS Scotland\\Documents\\Networks & Projects\\SPAN UNI\\Returns\\23_24\\NHS D&G SPAN 2023-24.xlsx\n",
      "Processing file: C:\\Users\\scotth07\\OneDrive - NHS Scotland\\Documents\\Networks & Projects\\SPAN UNI\\Returns\\23_24\\NHS Fife SPAN 2023-24.xlsx\n",
      "Processing file: C:\\Users\\scotth07\\OneDrive - NHS Scotland\\Documents\\Networks & Projects\\SPAN UNI\\Returns\\23_24\\NHS Forth Valley SPAN 2023-24.xlsx\n",
      "Processing file: C:\\Users\\scotth07\\OneDrive - NHS Scotland\\Documents\\Networks & Projects\\SPAN UNI\\Returns\\23_24\\NHS GG&C SPAN 2023-24.xlsx\n",
      "Processing file: C:\\Users\\scotth07\\OneDrive - NHS Scotland\\Documents\\Networks & Projects\\SPAN UNI\\Returns\\23_24\\NHS Grampian SPAN 2023-24.xlsx\n",
      "Processing file: C:\\Users\\scotth07\\OneDrive - NHS Scotland\\Documents\\Networks & Projects\\SPAN UNI\\Returns\\23_24\\NHS Highland SPAN 2023-24.xlsx\n",
      "Processing file: C:\\Users\\scotth07\\OneDrive - NHS Scotland\\Documents\\Networks & Projects\\SPAN UNI\\Returns\\23_24\\NHS Lanarkshire SPAN 2023-24.xlsx\n",
      "Processing file: C:\\Users\\scotth07\\OneDrive - NHS Scotland\\Documents\\Networks & Projects\\SPAN UNI\\Returns\\23_24\\NHS Lothian SPAN 2023-24.xlsx\n",
      "Processing file: C:\\Users\\scotth07\\OneDrive - NHS Scotland\\Documents\\Networks & Projects\\SPAN UNI\\Returns\\23_24\\NHS A&A SPAN 2023-24.xlsx\n",
      "Processing file: C:\\Users\\scotth07\\OneDrive - NHS Scotland\\Documents\\Networks & Projects\\SPAN UNI\\Returns\\23_24\\NHS D&G SPAN 2023-24.xlsx\n",
      "Processing file: C:\\Users\\scotth07\\OneDrive - NHS Scotland\\Documents\\Networks & Projects\\SPAN UNI\\Returns\\23_24\\NHS Fife SPAN 2023-24.xlsx\n",
      "Processing file: C:\\Users\\scotth07\\OneDrive - NHS Scotland\\Documents\\Networks & Projects\\SPAN UNI\\Returns\\23_24\\NHS Forth Valley SPAN 2023-24.xlsx\n",
      "Processing file: C:\\Users\\scotth07\\OneDrive - NHS Scotland\\Documents\\Networks & Projects\\SPAN UNI\\Returns\\23_24\\NHS GG&C SPAN 2023-24.xlsx\n",
      "Processing file: C:\\Users\\scotth07\\OneDrive - NHS Scotland\\Documents\\Networks & Projects\\SPAN UNI\\Returns\\23_24\\NHS Grampian SPAN 2023-24.xlsx\n",
      "Processing file: C:\\Users\\scotth07\\OneDrive - NHS Scotland\\Documents\\Networks & Projects\\SPAN UNI\\Returns\\23_24\\NHS Highland SPAN 2023-24.xlsx\n",
      "Processing file: C:\\Users\\scotth07\\OneDrive - NHS Scotland\\Documents\\Networks & Projects\\SPAN UNI\\Returns\\23_24\\NHS Lanarkshire SPAN 2023-24.xlsx\n",
      "Processing file: C:\\Users\\scotth07\\OneDrive - NHS Scotland\\Documents\\Networks & Projects\\SPAN UNI\\Returns\\23_24\\NHS Lothian SPAN 2023-24.xlsx\n",
      "Processing file: C:\\Users\\scotth07\\OneDrive - NHS Scotland\\Documents\\Networks & Projects\\SPAN UNI\\Returns\\23_24\\NHS A&A SPAN 2023-24.xlsx\n",
      "Processing file: C:\\Users\\scotth07\\OneDrive - NHS Scotland\\Documents\\Networks & Projects\\SPAN UNI\\Returns\\23_24\\NHS D&G SPAN 2023-24.xlsx\n",
      "Processing file: C:\\Users\\scotth07\\OneDrive - NHS Scotland\\Documents\\Networks & Projects\\SPAN UNI\\Returns\\23_24\\NHS Fife SPAN 2023-24.xlsx\n",
      "Processing file: C:\\Users\\scotth07\\OneDrive - NHS Scotland\\Documents\\Networks & Projects\\SPAN UNI\\Returns\\23_24\\NHS Forth Valley SPAN 2023-24.xlsx\n",
      "Processing file: C:\\Users\\scotth07\\OneDrive - NHS Scotland\\Documents\\Networks & Projects\\SPAN UNI\\Returns\\23_24\\NHS GG&C SPAN 2023-24.xlsx\n",
      "Processing file: C:\\Users\\scotth07\\OneDrive - NHS Scotland\\Documents\\Networks & Projects\\SPAN UNI\\Returns\\23_24\\NHS Grampian SPAN 2023-24.xlsx\n",
      "Processing file: C:\\Users\\scotth07\\OneDrive - NHS Scotland\\Documents\\Networks & Projects\\SPAN UNI\\Returns\\23_24\\NHS Highland SPAN 2023-24.xlsx\n",
      "Processing file: C:\\Users\\scotth07\\OneDrive - NHS Scotland\\Documents\\Networks & Projects\\SPAN UNI\\Returns\\23_24\\NHS Lanarkshire SPAN 2023-24.xlsx\n",
      "Processing file: C:\\Users\\scotth07\\OneDrive - NHS Scotland\\Documents\\Networks & Projects\\SPAN UNI\\Returns\\23_24\\NHS Lothian SPAN 2023-24.xlsx\n"
     ]
    }
   ],
   "source": [
    "# assign the data to dataframe using the defined function\n",
    "admin_histo_posts_df = combine_excel_files(directory, '3. Non-Medical Staffing', skiprows=41, nrows=8, usecols=[1,2,3])\n",
    "admin_noncerv_posts_df = combine_excel_files(directory, '3. Non-Medical Staffing', skiprows=41, nrows=8, usecols=[1,4,5])\n",
    "admin_neuro_posts_df = combine_excel_files(directory, '3. Non-Medical Staffing', skiprows=41, nrows=8, usecols=[1,6,7])\n",
    "admin_paed_posts_df = combine_excel_files(directory, '3. Non-Medical Staffing', skiprows=41, nrows=8, usecols=[1,8,9])\n",
    "admin_cerv_posts_df = combine_excel_files(directory, '3. Non-Medical Staffing', skiprows=41, nrows=8, usecols=[1,10,11])\n",
    "admin_mo_posts_df = combine_excel_files(directory, '3. Non-Medical Staffing', skiprows=41, nrows=8, usecols=[1,12,13])"
   ]
  },
  {
   "cell_type": "code",
   "execution_count": 74,
   "id": "f87d1dd2-2475-43f0-9ed0-52293f352a54",
   "metadata": {},
   "outputs": [],
   "source": [
    "admin_histo_posts_df = admin_histo_posts_df.rename(columns={'Unnamed: 1': 'Role & Band'})\n",
    "admin_noncerv_posts_df = admin_noncerv_posts_df.rename(columns={'Unnamed: 1': 'Role & Band',\n",
    "                                                                          'Headcount.1': 'Headcount',\n",
    "                                                                          'WTE.1': 'WTE'})\n",
    "admin_neuro_posts_df = admin_neuro_posts_df.rename(columns={'Unnamed: 1': 'Role & Band',\n",
    "                                                                     'Headcount.2': 'Headcount',\n",
    "                                                                     'WTE.2': 'WTE'})\n",
    "admin_paed_posts_df = admin_paed_posts_df.rename(columns={'Unnamed: 1': 'Role & Band',\n",
    "                                                                    'Headcount.3': 'Headcount',\n",
    "                                                                     'WTE.3': 'WTE'})\n",
    "admin_cerv_posts_df  = admin_cerv_posts_df.rename(columns={'Unnamed: 1': 'Role & Band',\n",
    "                                                                     'Headcount.4': 'Headcount',\n",
    "                                                                     'WTE.4': 'WTE'})\n",
    "admin_mo_posts_df  = admin_mo_posts_df.rename(columns={'Unnamed: 1': 'Role & Band',\n",
    "                                                                     'Headcount.5': 'Headcount',\n",
    "                                                                     'WTE.5': 'WTE'})"
   ]
  },
  {
   "cell_type": "code",
   "execution_count": 75,
   "id": "91a49fd2-6530-4827-b907-4017f365f24d",
   "metadata": {},
   "outputs": [],
   "source": [
    "admin_histo_posts_df['Area'] = 'General Histopathology'\n",
    "admin_noncerv_posts_df['Area'] = 'Non-Cervical/Diagnostic Cytopathology'\n",
    "admin_neuro_posts_df['Area'] = 'Neuropathology'\n",
    "admin_paed_posts_df['Area'] = 'Paediatric Pathology'\n",
    "admin_cerv_posts_df['Area'] = 'Cervical Screening'\n",
    "admin_mo_posts_df['Area'] = 'Mortuary & Autopsy'"
   ]
  },
  {
   "cell_type": "code",
   "execution_count": 76,
   "id": "166fd93a-caf8-4719-982a-450b8cd50275",
   "metadata": {},
   "outputs": [],
   "source": [
    "admin_posts_df = pd.concat([admin_histo_posts_df,\n",
    "                                 admin_noncerv_posts_df,\n",
    "                                 admin_neuro_posts_df,\n",
    "                                 admin_paed_posts_df,\n",
    "                                 admin_cerv_posts_df,\n",
    "                                 admin_mo_posts_df])\n"
   ]
  },
  {
   "cell_type": "code",
   "execution_count": 77,
   "id": "ee58b51c-0225-4594-9d50-d1d5cdf6f005",
   "metadata": {},
   "outputs": [],
   "source": [
    "admin_posts_df = admin_posts_df.dropna(subset=['Headcount', 'WTE'])"
   ]
  },
  {
   "cell_type": "code",
   "execution_count": 78,
   "id": "131d1998-df9d-4555-b000-22793560a600",
   "metadata": {},
   "outputs": [
    {
     "data": {
      "text/plain": [
       "86.0"
      ]
     },
     "execution_count": 78,
     "metadata": {},
     "output_type": "execute_result"
    }
   ],
   "source": [
    "sum = admin_posts_df['Headcount'].sum()\n",
    "sum"
   ]
  },
  {
   "cell_type": "code",
   "execution_count": 79,
   "id": "d3bc5c0b-12ff-416f-8ccb-d17b48d3b646",
   "metadata": {},
   "outputs": [],
   "source": [
    "admin_posts_df['Source Sheet'] = 'Sheet3_2_AdminClericalStaffing'"
   ]
  },
  {
   "cell_type": "markdown",
   "id": "47aa1523-8f3e-4b5d-babf-746b43e3d6fa",
   "metadata": {},
   "source": [
    "#### Anatomical Pathology Technologists"
   ]
  },
  {
   "cell_type": "code",
   "execution_count": 80,
   "id": "a3f86a6a-bdcf-4e99-961a-74e8319c4089",
   "metadata": {},
   "outputs": [
    {
     "name": "stdout",
     "output_type": "stream",
     "text": [
      "Processing file: C:\\Users\\scotth07\\OneDrive - NHS Scotland\\Documents\\Networks & Projects\\SPAN UNI\\Returns\\23_24\\NHS A&A SPAN 2023-24.xlsx\n",
      "Processing file: C:\\Users\\scotth07\\OneDrive - NHS Scotland\\Documents\\Networks & Projects\\SPAN UNI\\Returns\\23_24\\NHS D&G SPAN 2023-24.xlsx\n",
      "Processing file: C:\\Users\\scotth07\\OneDrive - NHS Scotland\\Documents\\Networks & Projects\\SPAN UNI\\Returns\\23_24\\NHS Fife SPAN 2023-24.xlsx\n",
      "Processing file: C:\\Users\\scotth07\\OneDrive - NHS Scotland\\Documents\\Networks & Projects\\SPAN UNI\\Returns\\23_24\\NHS Forth Valley SPAN 2023-24.xlsx\n",
      "Processing file: C:\\Users\\scotth07\\OneDrive - NHS Scotland\\Documents\\Networks & Projects\\SPAN UNI\\Returns\\23_24\\NHS GG&C SPAN 2023-24.xlsx\n",
      "Processing file: C:\\Users\\scotth07\\OneDrive - NHS Scotland\\Documents\\Networks & Projects\\SPAN UNI\\Returns\\23_24\\NHS Grampian SPAN 2023-24.xlsx\n",
      "Processing file: C:\\Users\\scotth07\\OneDrive - NHS Scotland\\Documents\\Networks & Projects\\SPAN UNI\\Returns\\23_24\\NHS Highland SPAN 2023-24.xlsx\n",
      "Processing file: C:\\Users\\scotth07\\OneDrive - NHS Scotland\\Documents\\Networks & Projects\\SPAN UNI\\Returns\\23_24\\NHS Lanarkshire SPAN 2023-24.xlsx\n",
      "Processing file: C:\\Users\\scotth07\\OneDrive - NHS Scotland\\Documents\\Networks & Projects\\SPAN UNI\\Returns\\23_24\\NHS Lothian SPAN 2023-24.xlsx\n",
      "Processing file: C:\\Users\\scotth07\\OneDrive - NHS Scotland\\Documents\\Networks & Projects\\SPAN UNI\\Returns\\23_24\\NHS A&A SPAN 2023-24.xlsx\n",
      "Processing file: C:\\Users\\scotth07\\OneDrive - NHS Scotland\\Documents\\Networks & Projects\\SPAN UNI\\Returns\\23_24\\NHS D&G SPAN 2023-24.xlsx\n",
      "Processing file: C:\\Users\\scotth07\\OneDrive - NHS Scotland\\Documents\\Networks & Projects\\SPAN UNI\\Returns\\23_24\\NHS Fife SPAN 2023-24.xlsx\n",
      "Processing file: C:\\Users\\scotth07\\OneDrive - NHS Scotland\\Documents\\Networks & Projects\\SPAN UNI\\Returns\\23_24\\NHS Forth Valley SPAN 2023-24.xlsx\n",
      "Processing file: C:\\Users\\scotth07\\OneDrive - NHS Scotland\\Documents\\Networks & Projects\\SPAN UNI\\Returns\\23_24\\NHS GG&C SPAN 2023-24.xlsx\n",
      "Processing file: C:\\Users\\scotth07\\OneDrive - NHS Scotland\\Documents\\Networks & Projects\\SPAN UNI\\Returns\\23_24\\NHS Grampian SPAN 2023-24.xlsx\n",
      "Processing file: C:\\Users\\scotth07\\OneDrive - NHS Scotland\\Documents\\Networks & Projects\\SPAN UNI\\Returns\\23_24\\NHS Highland SPAN 2023-24.xlsx\n",
      "Processing file: C:\\Users\\scotth07\\OneDrive - NHS Scotland\\Documents\\Networks & Projects\\SPAN UNI\\Returns\\23_24\\NHS Lanarkshire SPAN 2023-24.xlsx\n",
      "Processing file: C:\\Users\\scotth07\\OneDrive - NHS Scotland\\Documents\\Networks & Projects\\SPAN UNI\\Returns\\23_24\\NHS Lothian SPAN 2023-24.xlsx\n",
      "Processing file: C:\\Users\\scotth07\\OneDrive - NHS Scotland\\Documents\\Networks & Projects\\SPAN UNI\\Returns\\23_24\\NHS A&A SPAN 2023-24.xlsx\n",
      "Processing file: C:\\Users\\scotth07\\OneDrive - NHS Scotland\\Documents\\Networks & Projects\\SPAN UNI\\Returns\\23_24\\NHS D&G SPAN 2023-24.xlsx\n",
      "Processing file: C:\\Users\\scotth07\\OneDrive - NHS Scotland\\Documents\\Networks & Projects\\SPAN UNI\\Returns\\23_24\\NHS Fife SPAN 2023-24.xlsx\n",
      "Processing file: C:\\Users\\scotth07\\OneDrive - NHS Scotland\\Documents\\Networks & Projects\\SPAN UNI\\Returns\\23_24\\NHS Forth Valley SPAN 2023-24.xlsx\n",
      "Processing file: C:\\Users\\scotth07\\OneDrive - NHS Scotland\\Documents\\Networks & Projects\\SPAN UNI\\Returns\\23_24\\NHS GG&C SPAN 2023-24.xlsx\n",
      "Processing file: C:\\Users\\scotth07\\OneDrive - NHS Scotland\\Documents\\Networks & Projects\\SPAN UNI\\Returns\\23_24\\NHS Grampian SPAN 2023-24.xlsx\n",
      "Processing file: C:\\Users\\scotth07\\OneDrive - NHS Scotland\\Documents\\Networks & Projects\\SPAN UNI\\Returns\\23_24\\NHS Highland SPAN 2023-24.xlsx\n",
      "Processing file: C:\\Users\\scotth07\\OneDrive - NHS Scotland\\Documents\\Networks & Projects\\SPAN UNI\\Returns\\23_24\\NHS Lanarkshire SPAN 2023-24.xlsx\n",
      "Processing file: C:\\Users\\scotth07\\OneDrive - NHS Scotland\\Documents\\Networks & Projects\\SPAN UNI\\Returns\\23_24\\NHS Lothian SPAN 2023-24.xlsx\n"
     ]
    }
   ],
   "source": [
    "# assign the data to dataframe using the defined function\n",
    "apt_neuro_posts_df = combine_excel_files(directory, '3. Non-Medical Staffing', skiprows=54, nrows=12, usecols=[1,2,3])\n",
    "apt_paed_posts_df = combine_excel_files(directory, '3. Non-Medical Staffing', skiprows=54, nrows=12, usecols=[1,4,5])\n",
    "apt_mo_posts_df = combine_excel_files(directory, '3. Non-Medical Staffing', skiprows=54, nrows=12, usecols=[1,6,7])"
   ]
  },
  {
   "cell_type": "code",
   "execution_count": 81,
   "id": "a6a49db9-0a26-43e7-b179-5073d750b5f0",
   "metadata": {},
   "outputs": [],
   "source": [
    "apt_neuro_posts_df = apt_neuro_posts_df.rename(columns={'Unnamed: 1': 'Role & Band'})\n",
    "apt_paed_posts_df = apt_paed_posts_df.rename(columns={'Unnamed: 1': 'Role & Band',\n",
    "                                                      'Headcount.1': 'Headcount',\n",
    "                                                       'WTE.1': 'WTE'})\n",
    "apt_mo_posts_df = apt_mo_posts_df.rename(columns={'Unnamed: 1': 'Role & Band',\n",
    "                                                  'Headcount.2': 'Headcount',\n",
    "                                                  'WTE.2': 'WTE'})"
   ]
  },
  {
   "cell_type": "code",
   "execution_count": 82,
   "id": "d709175f-c3d1-4a04-98fd-edea257c730b",
   "metadata": {},
   "outputs": [],
   "source": [
    "apt_neuro_posts_df['Area'] = 'Neuropathology'\n",
    "apt_paed_posts_df['Area'] = 'Paediatric Pathology'\n",
    "apt_mo_posts_df['Area'] = 'Mortuary & Autopsy'"
   ]
  },
  {
   "cell_type": "code",
   "execution_count": 83,
   "id": "566506d1-857a-488e-af68-8804794ba4bd",
   "metadata": {},
   "outputs": [],
   "source": [
    "apt_posts_df = pd.concat([apt_neuro_posts_df,\n",
    "                         apt_paed_posts_df,\n",
    "                         apt_mo_posts_df])"
   ]
  },
  {
   "cell_type": "code",
   "execution_count": 84,
   "id": "a10f2d9b-9614-40ab-beeb-193a48695539",
   "metadata": {},
   "outputs": [],
   "source": [
    "apt_posts_df = apt_posts_df.dropna(subset=['Headcount', 'WTE'])"
   ]
  },
  {
   "cell_type": "code",
   "execution_count": 85,
   "id": "9b15072b-4288-46b7-b438-f2b191e365f5",
   "metadata": {},
   "outputs": [
    {
     "data": {
      "text/html": [
       "<div>\n",
       "<style scoped>\n",
       "    .dataframe tbody tr th:only-of-type {\n",
       "        vertical-align: middle;\n",
       "    }\n",
       "\n",
       "    .dataframe tbody tr th {\n",
       "        vertical-align: top;\n",
       "    }\n",
       "\n",
       "    .dataframe thead th {\n",
       "        text-align: right;\n",
       "    }\n",
       "</style>\n",
       "<table border=\"1\" class=\"dataframe\">\n",
       "  <thead>\n",
       "    <tr style=\"text-align: right;\">\n",
       "      <th></th>\n",
       "      <th>Role &amp; Band</th>\n",
       "      <th>Headcount</th>\n",
       "      <th>WTE</th>\n",
       "      <th>File Name</th>\n",
       "      <th>Area</th>\n",
       "    </tr>\n",
       "  </thead>\n",
       "  <tbody>\n",
       "    <tr>\n",
       "      <th>12</th>\n",
       "      <td>APT Band 9</td>\n",
       "      <td>0.0</td>\n",
       "      <td>0.0</td>\n",
       "      <td>NHS D&amp;G SPAN 2023-24.xlsx</td>\n",
       "      <td>Neuropathology</td>\n",
       "    </tr>\n",
       "    <tr>\n",
       "      <th>13</th>\n",
       "      <td>APT Band 8d</td>\n",
       "      <td>0.0</td>\n",
       "      <td>0.0</td>\n",
       "      <td>NHS D&amp;G SPAN 2023-24.xlsx</td>\n",
       "      <td>Neuropathology</td>\n",
       "    </tr>\n",
       "    <tr>\n",
       "      <th>14</th>\n",
       "      <td>APT Band 8c</td>\n",
       "      <td>0.0</td>\n",
       "      <td>0.0</td>\n",
       "      <td>NHS D&amp;G SPAN 2023-24.xlsx</td>\n",
       "      <td>Neuropathology</td>\n",
       "    </tr>\n",
       "    <tr>\n",
       "      <th>15</th>\n",
       "      <td>APT Band 8b</td>\n",
       "      <td>0.0</td>\n",
       "      <td>0.0</td>\n",
       "      <td>NHS D&amp;G SPAN 2023-24.xlsx</td>\n",
       "      <td>Neuropathology</td>\n",
       "    </tr>\n",
       "    <tr>\n",
       "      <th>16</th>\n",
       "      <td>APT Band 8a</td>\n",
       "      <td>0.0</td>\n",
       "      <td>0.0</td>\n",
       "      <td>NHS D&amp;G SPAN 2023-24.xlsx</td>\n",
       "      <td>Neuropathology</td>\n",
       "    </tr>\n",
       "    <tr>\n",
       "      <th>...</th>\n",
       "      <td>...</td>\n",
       "      <td>...</td>\n",
       "      <td>...</td>\n",
       "      <td>...</td>\n",
       "      <td>...</td>\n",
       "    </tr>\n",
       "    <tr>\n",
       "      <th>81</th>\n",
       "      <td>ATP Band 3</td>\n",
       "      <td>1.0</td>\n",
       "      <td>1.0</td>\n",
       "      <td>NHS Highland SPAN 2023-24.xlsx</td>\n",
       "      <td>Mortuary &amp; Autopsy</td>\n",
       "    </tr>\n",
       "    <tr>\n",
       "      <th>83</th>\n",
       "      <td>ATP Trainee</td>\n",
       "      <td>1.0</td>\n",
       "      <td>1.0</td>\n",
       "      <td>NHS Highland SPAN 2023-24.xlsx</td>\n",
       "      <td>Mortuary &amp; Autopsy</td>\n",
       "    </tr>\n",
       "    <tr>\n",
       "      <th>103</th>\n",
       "      <td>ATP Band 5</td>\n",
       "      <td>2.0</td>\n",
       "      <td>2.0</td>\n",
       "      <td>NHS Lothian SPAN 2023-24.xlsx</td>\n",
       "      <td>Mortuary &amp; Autopsy</td>\n",
       "    </tr>\n",
       "    <tr>\n",
       "      <th>104</th>\n",
       "      <td>ATP Band 4</td>\n",
       "      <td>4.0</td>\n",
       "      <td>3.6</td>\n",
       "      <td>NHS Lothian SPAN 2023-24.xlsx</td>\n",
       "      <td>Mortuary &amp; Autopsy</td>\n",
       "    </tr>\n",
       "    <tr>\n",
       "      <th>105</th>\n",
       "      <td>ATP Band 3</td>\n",
       "      <td>2.0</td>\n",
       "      <td>2.0</td>\n",
       "      <td>NHS Lothian SPAN 2023-24.xlsx</td>\n",
       "      <td>Mortuary &amp; Autopsy</td>\n",
       "    </tr>\n",
       "  </tbody>\n",
       "</table>\n",
       "<p>88 rows × 5 columns</p>\n",
       "</div>"
      ],
      "text/plain": [
       "     Role & Band  Headcount  WTE                       File Name  \\\n",
       "12    APT Band 9        0.0  0.0       NHS D&G SPAN 2023-24.xlsx   \n",
       "13   APT Band 8d        0.0  0.0       NHS D&G SPAN 2023-24.xlsx   \n",
       "14   APT Band 8c        0.0  0.0       NHS D&G SPAN 2023-24.xlsx   \n",
       "15   APT Band 8b        0.0  0.0       NHS D&G SPAN 2023-24.xlsx   \n",
       "16   APT Band 8a        0.0  0.0       NHS D&G SPAN 2023-24.xlsx   \n",
       "..           ...        ...  ...                             ...   \n",
       "81    ATP Band 3        1.0  1.0  NHS Highland SPAN 2023-24.xlsx   \n",
       "83   ATP Trainee        1.0  1.0  NHS Highland SPAN 2023-24.xlsx   \n",
       "103   ATP Band 5        2.0  2.0   NHS Lothian SPAN 2023-24.xlsx   \n",
       "104   ATP Band 4        4.0  3.6   NHS Lothian SPAN 2023-24.xlsx   \n",
       "105   ATP Band 3        2.0  2.0   NHS Lothian SPAN 2023-24.xlsx   \n",
       "\n",
       "                   Area  \n",
       "12       Neuropathology  \n",
       "13       Neuropathology  \n",
       "14       Neuropathology  \n",
       "15       Neuropathology  \n",
       "16       Neuropathology  \n",
       "..                  ...  \n",
       "81   Mortuary & Autopsy  \n",
       "83   Mortuary & Autopsy  \n",
       "103  Mortuary & Autopsy  \n",
       "104  Mortuary & Autopsy  \n",
       "105  Mortuary & Autopsy  \n",
       "\n",
       "[88 rows x 5 columns]"
      ]
     },
     "execution_count": 85,
     "metadata": {},
     "output_type": "execute_result"
    }
   ],
   "source": [
    "apt_posts_df"
   ]
  },
  {
   "cell_type": "code",
   "execution_count": 86,
   "id": "2f8dc794-7363-4e97-8cd1-8cbc8f46c44a",
   "metadata": {},
   "outputs": [
    {
     "data": {
      "text/plain": [
       "57.0"
      ]
     },
     "execution_count": 86,
     "metadata": {},
     "output_type": "execute_result"
    }
   ],
   "source": [
    "sum = apt_posts_df['Headcount'].sum()\n",
    "sum"
   ]
  },
  {
   "cell_type": "code",
   "execution_count": 87,
   "id": "b329f9ef-1aba-421c-a6e2-dfe67da59728",
   "metadata": {},
   "outputs": [],
   "source": [
    "apt_posts_df['Source Sheet'] = 'Sheet3_3_ATPStaffing'"
   ]
  },
  {
   "cell_type": "markdown",
   "id": "8c0db168-060b-4faa-87af-7af4c6dbb555",
   "metadata": {},
   "source": [
    "#### Merge the posts dataframes together"
   ]
  },
  {
   "cell_type": "code",
   "execution_count": 88,
   "id": "2816ba14-5fa6-4aea-a287-054d1e92f650",
   "metadata": {},
   "outputs": [],
   "source": [
    "merged_posts_df = pd.concat([healthcare_posts_df,\n",
    "                             admin_posts_df,\n",
    "                             apt_posts_df])"
   ]
  },
  {
   "cell_type": "code",
   "execution_count": 89,
   "id": "e4ff60f0-2cbb-4b3f-b9fa-251bed2a9370",
   "metadata": {},
   "outputs": [],
   "source": [
    "merged_posts_df['Post/Vacancy'] = 'Post'"
   ]
  },
  {
   "cell_type": "code",
   "execution_count": 90,
   "id": "6f5a9907-ba74-4022-b73b-164a6a8d80e6",
   "metadata": {},
   "outputs": [],
   "source": [
    "sum = merged_posts_df['WTE'].sum()"
   ]
  },
  {
   "cell_type": "code",
   "execution_count": 91,
   "id": "1e74df17-22be-4b9d-b521-d2a8836d6ad4",
   "metadata": {},
   "outputs": [
    {
     "data": {
      "text/plain": [
       "530.16"
      ]
     },
     "execution_count": 91,
     "metadata": {},
     "output_type": "execute_result"
    }
   ],
   "source": [
    "sum"
   ]
  },
  {
   "cell_type": "markdown",
   "id": "6101a96a-3893-4df1-88a1-66a77a0fb3bd",
   "metadata": {},
   "source": [
    "### Ingest vacancy data from 4. Non-Medical Vacancies sheet"
   ]
  },
  {
   "cell_type": "markdown",
   "id": "cc76fd57-1d51-43db-9fe0-dca768bf96a4",
   "metadata": {},
   "source": [
    "#### Healthcare Scientists"
   ]
  },
  {
   "cell_type": "code",
   "execution_count": 92,
   "id": "7dee9e6c-efbe-4f56-914f-6849f1c95566",
   "metadata": {},
   "outputs": [
    {
     "name": "stdout",
     "output_type": "stream",
     "text": [
      "Processing file: C:\\Users\\scotth07\\OneDrive - NHS Scotland\\Documents\\Networks & Projects\\SPAN UNI\\Returns\\23_24\\NHS A&A SPAN 2023-24.xlsx\n",
      "Processing file: C:\\Users\\scotth07\\OneDrive - NHS Scotland\\Documents\\Networks & Projects\\SPAN UNI\\Returns\\23_24\\NHS D&G SPAN 2023-24.xlsx\n",
      "Processing file: C:\\Users\\scotth07\\OneDrive - NHS Scotland\\Documents\\Networks & Projects\\SPAN UNI\\Returns\\23_24\\NHS Fife SPAN 2023-24.xlsx\n",
      "Processing file: C:\\Users\\scotth07\\OneDrive - NHS Scotland\\Documents\\Networks & Projects\\SPAN UNI\\Returns\\23_24\\NHS Forth Valley SPAN 2023-24.xlsx\n",
      "Processing file: C:\\Users\\scotth07\\OneDrive - NHS Scotland\\Documents\\Networks & Projects\\SPAN UNI\\Returns\\23_24\\NHS GG&C SPAN 2023-24.xlsx\n",
      "Processing file: C:\\Users\\scotth07\\OneDrive - NHS Scotland\\Documents\\Networks & Projects\\SPAN UNI\\Returns\\23_24\\NHS Grampian SPAN 2023-24.xlsx\n",
      "Processing file: C:\\Users\\scotth07\\OneDrive - NHS Scotland\\Documents\\Networks & Projects\\SPAN UNI\\Returns\\23_24\\NHS Highland SPAN 2023-24.xlsx\n",
      "Processing file: C:\\Users\\scotth07\\OneDrive - NHS Scotland\\Documents\\Networks & Projects\\SPAN UNI\\Returns\\23_24\\NHS Lanarkshire SPAN 2023-24.xlsx\n",
      "Processing file: C:\\Users\\scotth07\\OneDrive - NHS Scotland\\Documents\\Networks & Projects\\SPAN UNI\\Returns\\23_24\\NHS Lothian SPAN 2023-24.xlsx\n",
      "Processing file: C:\\Users\\scotth07\\OneDrive - NHS Scotland\\Documents\\Networks & Projects\\SPAN UNI\\Returns\\23_24\\NHS A&A SPAN 2023-24.xlsx\n",
      "Processing file: C:\\Users\\scotth07\\OneDrive - NHS Scotland\\Documents\\Networks & Projects\\SPAN UNI\\Returns\\23_24\\NHS D&G SPAN 2023-24.xlsx\n",
      "Processing file: C:\\Users\\scotth07\\OneDrive - NHS Scotland\\Documents\\Networks & Projects\\SPAN UNI\\Returns\\23_24\\NHS Fife SPAN 2023-24.xlsx\n",
      "Processing file: C:\\Users\\scotth07\\OneDrive - NHS Scotland\\Documents\\Networks & Projects\\SPAN UNI\\Returns\\23_24\\NHS Forth Valley SPAN 2023-24.xlsx\n",
      "Processing file: C:\\Users\\scotth07\\OneDrive - NHS Scotland\\Documents\\Networks & Projects\\SPAN UNI\\Returns\\23_24\\NHS GG&C SPAN 2023-24.xlsx\n",
      "Processing file: C:\\Users\\scotth07\\OneDrive - NHS Scotland\\Documents\\Networks & Projects\\SPAN UNI\\Returns\\23_24\\NHS Grampian SPAN 2023-24.xlsx\n",
      "Processing file: C:\\Users\\scotth07\\OneDrive - NHS Scotland\\Documents\\Networks & Projects\\SPAN UNI\\Returns\\23_24\\NHS Highland SPAN 2023-24.xlsx\n",
      "Processing file: C:\\Users\\scotth07\\OneDrive - NHS Scotland\\Documents\\Networks & Projects\\SPAN UNI\\Returns\\23_24\\NHS Lanarkshire SPAN 2023-24.xlsx\n",
      "Processing file: C:\\Users\\scotth07\\OneDrive - NHS Scotland\\Documents\\Networks & Projects\\SPAN UNI\\Returns\\23_24\\NHS Lothian SPAN 2023-24.xlsx\n",
      "Processing file: C:\\Users\\scotth07\\OneDrive - NHS Scotland\\Documents\\Networks & Projects\\SPAN UNI\\Returns\\23_24\\NHS A&A SPAN 2023-24.xlsx\n",
      "Processing file: C:\\Users\\scotth07\\OneDrive - NHS Scotland\\Documents\\Networks & Projects\\SPAN UNI\\Returns\\23_24\\NHS D&G SPAN 2023-24.xlsx\n",
      "Processing file: C:\\Users\\scotth07\\OneDrive - NHS Scotland\\Documents\\Networks & Projects\\SPAN UNI\\Returns\\23_24\\NHS Fife SPAN 2023-24.xlsx\n",
      "Processing file: C:\\Users\\scotth07\\OneDrive - NHS Scotland\\Documents\\Networks & Projects\\SPAN UNI\\Returns\\23_24\\NHS Forth Valley SPAN 2023-24.xlsx\n",
      "Processing file: C:\\Users\\scotth07\\OneDrive - NHS Scotland\\Documents\\Networks & Projects\\SPAN UNI\\Returns\\23_24\\NHS GG&C SPAN 2023-24.xlsx\n",
      "Processing file: C:\\Users\\scotth07\\OneDrive - NHS Scotland\\Documents\\Networks & Projects\\SPAN UNI\\Returns\\23_24\\NHS Grampian SPAN 2023-24.xlsx\n",
      "Processing file: C:\\Users\\scotth07\\OneDrive - NHS Scotland\\Documents\\Networks & Projects\\SPAN UNI\\Returns\\23_24\\NHS Highland SPAN 2023-24.xlsx\n",
      "Processing file: C:\\Users\\scotth07\\OneDrive - NHS Scotland\\Documents\\Networks & Projects\\SPAN UNI\\Returns\\23_24\\NHS Lanarkshire SPAN 2023-24.xlsx\n",
      "Processing file: C:\\Users\\scotth07\\OneDrive - NHS Scotland\\Documents\\Networks & Projects\\SPAN UNI\\Returns\\23_24\\NHS Lothian SPAN 2023-24.xlsx\n",
      "Processing file: C:\\Users\\scotth07\\OneDrive - NHS Scotland\\Documents\\Networks & Projects\\SPAN UNI\\Returns\\23_24\\NHS A&A SPAN 2023-24.xlsx\n",
      "Processing file: C:\\Users\\scotth07\\OneDrive - NHS Scotland\\Documents\\Networks & Projects\\SPAN UNI\\Returns\\23_24\\NHS D&G SPAN 2023-24.xlsx\n",
      "Processing file: C:\\Users\\scotth07\\OneDrive - NHS Scotland\\Documents\\Networks & Projects\\SPAN UNI\\Returns\\23_24\\NHS Fife SPAN 2023-24.xlsx\n",
      "Processing file: C:\\Users\\scotth07\\OneDrive - NHS Scotland\\Documents\\Networks & Projects\\SPAN UNI\\Returns\\23_24\\NHS Forth Valley SPAN 2023-24.xlsx\n",
      "Processing file: C:\\Users\\scotth07\\OneDrive - NHS Scotland\\Documents\\Networks & Projects\\SPAN UNI\\Returns\\23_24\\NHS GG&C SPAN 2023-24.xlsx\n",
      "Processing file: C:\\Users\\scotth07\\OneDrive - NHS Scotland\\Documents\\Networks & Projects\\SPAN UNI\\Returns\\23_24\\NHS Grampian SPAN 2023-24.xlsx\n",
      "Processing file: C:\\Users\\scotth07\\OneDrive - NHS Scotland\\Documents\\Networks & Projects\\SPAN UNI\\Returns\\23_24\\NHS Highland SPAN 2023-24.xlsx\n",
      "Processing file: C:\\Users\\scotth07\\OneDrive - NHS Scotland\\Documents\\Networks & Projects\\SPAN UNI\\Returns\\23_24\\NHS Lanarkshire SPAN 2023-24.xlsx\n",
      "Processing file: C:\\Users\\scotth07\\OneDrive - NHS Scotland\\Documents\\Networks & Projects\\SPAN UNI\\Returns\\23_24\\NHS Lothian SPAN 2023-24.xlsx\n",
      "Processing file: C:\\Users\\scotth07\\OneDrive - NHS Scotland\\Documents\\Networks & Projects\\SPAN UNI\\Returns\\23_24\\NHS A&A SPAN 2023-24.xlsx\n",
      "Processing file: C:\\Users\\scotth07\\OneDrive - NHS Scotland\\Documents\\Networks & Projects\\SPAN UNI\\Returns\\23_24\\NHS D&G SPAN 2023-24.xlsx\n",
      "Processing file: C:\\Users\\scotth07\\OneDrive - NHS Scotland\\Documents\\Networks & Projects\\SPAN UNI\\Returns\\23_24\\NHS Fife SPAN 2023-24.xlsx\n",
      "Processing file: C:\\Users\\scotth07\\OneDrive - NHS Scotland\\Documents\\Networks & Projects\\SPAN UNI\\Returns\\23_24\\NHS Forth Valley SPAN 2023-24.xlsx\n",
      "Processing file: C:\\Users\\scotth07\\OneDrive - NHS Scotland\\Documents\\Networks & Projects\\SPAN UNI\\Returns\\23_24\\NHS GG&C SPAN 2023-24.xlsx\n",
      "Processing file: C:\\Users\\scotth07\\OneDrive - NHS Scotland\\Documents\\Networks & Projects\\SPAN UNI\\Returns\\23_24\\NHS Grampian SPAN 2023-24.xlsx\n",
      "Processing file: C:\\Users\\scotth07\\OneDrive - NHS Scotland\\Documents\\Networks & Projects\\SPAN UNI\\Returns\\23_24\\NHS Highland SPAN 2023-24.xlsx\n",
      "Processing file: C:\\Users\\scotth07\\OneDrive - NHS Scotland\\Documents\\Networks & Projects\\SPAN UNI\\Returns\\23_24\\NHS Lanarkshire SPAN 2023-24.xlsx\n",
      "Processing file: C:\\Users\\scotth07\\OneDrive - NHS Scotland\\Documents\\Networks & Projects\\SPAN UNI\\Returns\\23_24\\NHS Lothian SPAN 2023-24.xlsx\n"
     ]
    }
   ],
   "source": [
    "# assign the data to dataframe using the defined function\n",
    "healthcare_histo_vac_df = combine_excel_files(directory, '4. Non-Medical Vacancies', skiprows=8, nrows=28, usecols=[1,2,3])\n",
    "healthcare_noncerv_vac_df = combine_excel_files(directory, '4. Non-Medical Vacancies', skiprows=8, nrows=28, usecols=[1,4,5])\n",
    "healthcare_neuro_vac_df = combine_excel_files(directory, '4. Non-Medical Vacancies', skiprows=8, nrows=28, usecols=[1,6,7])\n",
    "healthcare_paed_vac_df = combine_excel_files(directory, '4. Non-Medical Vacancies', skiprows=8, nrows=28, usecols=[1,8,9])\n",
    "healthcare_cerv_vac_df = combine_excel_files(directory, '4. Non-Medical Vacancies', skiprows=8, nrows=28, usecols=[1,10,11])"
   ]
  },
  {
   "cell_type": "code",
   "execution_count": 93,
   "id": "f1f84ecf-5c2b-4edd-9cea-c7c761d7642c",
   "metadata": {},
   "outputs": [],
   "source": [
    "healthcare_histo_vac_df = healthcare_histo_vac_df.rename(columns={'Unnamed: 1': 'Role & Band'})\n",
    "healthcare_noncerv_vac_df = healthcare_noncerv_vac_df.rename(columns={'Unnamed: 1': 'Role & Band',\n",
    "                                                                          'Headcount.1': 'Headcount',\n",
    "                                                                          'WTE.1': 'WTE'})\n",
    "healthcare_neuro_vac_df = healthcare_neuro_vac_df.rename(columns={'Unnamed: 1': 'Role & Band',\n",
    "                                                                     'Headcount.2': 'Headcount',\n",
    "                                                                     'WTE.2': 'WTE'})\n",
    "healthcare_paed_vac_df = healthcare_paed_vac_df.rename(columns={'Unnamed: 1': 'Role & Band',\n",
    "                                                                    'Headcount.3': 'Headcount',\n",
    "                                                                     'WTE.3': 'WTE'})\n",
    "healthcare_cerv_vac_df  = healthcare_cerv_vac_df.rename(columns={'Unnamed: 1': 'Role & Band',\n",
    "                                                                     'Headcount.4': 'Headcount',\n",
    "                                                                     'WTE.4': 'WTE'})"
   ]
  },
  {
   "cell_type": "code",
   "execution_count": 94,
   "id": "077679c1-06d0-42ab-9615-a636f20b897b",
   "metadata": {},
   "outputs": [],
   "source": [
    "healthcare_histo_vac_df['Area'] = 'General Histopathology'\n",
    "healthcare_noncerv_vac_df['Area'] = 'Non-Cervical/Diagnostic Cytopathology'\n",
    "healthcare_neuro_vac_df['Area'] = 'Neuropathology'\n",
    "healthcare_paed_vac_df['Area'] = 'Paediatric Pathology'\n",
    "healthcare_cerv_vac_df['Area'] = 'Cervical Screening'"
   ]
  },
  {
   "cell_type": "code",
   "execution_count": 95,
   "id": "379d039a-4b6e-4472-8a29-66be3ce5c8af",
   "metadata": {},
   "outputs": [],
   "source": [
    "healthcare_vac_df = pd.concat([healthcare_histo_vac_df,\n",
    "                                 healthcare_noncerv_vac_df,\n",
    "                                 healthcare_neuro_vac_df,\n",
    "                                 healthcare_paed_vac_df,\n",
    "                                 healthcare_cerv_vac_df])\n"
   ]
  },
  {
   "cell_type": "code",
   "execution_count": 96,
   "id": "39c65070-45a6-4af8-932b-9bd432932511",
   "metadata": {},
   "outputs": [],
   "source": [
    "healthcare_vac_df = healthcare_vac_df.dropna(subset=['Headcount', 'WTE'])"
   ]
  },
  {
   "cell_type": "code",
   "execution_count": 97,
   "id": "901bda86-9f16-4dba-a225-bd95c3f08dab",
   "metadata": {},
   "outputs": [
    {
     "data": {
      "text/plain": [
       "25.590000000000003"
      ]
     },
     "execution_count": 97,
     "metadata": {},
     "output_type": "execute_result"
    }
   ],
   "source": [
    "sum = healthcare_vac_df['WTE'].sum()\n",
    "sum"
   ]
  },
  {
   "cell_type": "code",
   "execution_count": 98,
   "id": "2da0d497-969f-4735-987f-fa97dbfafd47",
   "metadata": {},
   "outputs": [],
   "source": [
    "healthcare_vac_df['Source Sheet'] = 'Sheet4_1_ScientistVacancy'"
   ]
  },
  {
   "cell_type": "markdown",
   "id": "71da0abc-25ca-4dcb-89f7-e8fa039686e3",
   "metadata": {},
   "source": [
    "#### Admin & Clerical"
   ]
  },
  {
   "cell_type": "code",
   "execution_count": 99,
   "id": "f522fa4a-5379-4b18-9dad-0762fd29a811",
   "metadata": {},
   "outputs": [
    {
     "name": "stdout",
     "output_type": "stream",
     "text": [
      "Processing file: C:\\Users\\scotth07\\OneDrive - NHS Scotland\\Documents\\Networks & Projects\\SPAN UNI\\Returns\\23_24\\NHS A&A SPAN 2023-24.xlsx\n",
      "Processing file: C:\\Users\\scotth07\\OneDrive - NHS Scotland\\Documents\\Networks & Projects\\SPAN UNI\\Returns\\23_24\\NHS D&G SPAN 2023-24.xlsx\n",
      "Processing file: C:\\Users\\scotth07\\OneDrive - NHS Scotland\\Documents\\Networks & Projects\\SPAN UNI\\Returns\\23_24\\NHS Fife SPAN 2023-24.xlsx\n",
      "Processing file: C:\\Users\\scotth07\\OneDrive - NHS Scotland\\Documents\\Networks & Projects\\SPAN UNI\\Returns\\23_24\\NHS Forth Valley SPAN 2023-24.xlsx\n",
      "Processing file: C:\\Users\\scotth07\\OneDrive - NHS Scotland\\Documents\\Networks & Projects\\SPAN UNI\\Returns\\23_24\\NHS GG&C SPAN 2023-24.xlsx\n",
      "Processing file: C:\\Users\\scotth07\\OneDrive - NHS Scotland\\Documents\\Networks & Projects\\SPAN UNI\\Returns\\23_24\\NHS Grampian SPAN 2023-24.xlsx\n",
      "Processing file: C:\\Users\\scotth07\\OneDrive - NHS Scotland\\Documents\\Networks & Projects\\SPAN UNI\\Returns\\23_24\\NHS Highland SPAN 2023-24.xlsx\n",
      "Processing file: C:\\Users\\scotth07\\OneDrive - NHS Scotland\\Documents\\Networks & Projects\\SPAN UNI\\Returns\\23_24\\NHS Lanarkshire SPAN 2023-24.xlsx\n",
      "Processing file: C:\\Users\\scotth07\\OneDrive - NHS Scotland\\Documents\\Networks & Projects\\SPAN UNI\\Returns\\23_24\\NHS Lothian SPAN 2023-24.xlsx\n",
      "Processing file: C:\\Users\\scotth07\\OneDrive - NHS Scotland\\Documents\\Networks & Projects\\SPAN UNI\\Returns\\23_24\\NHS A&A SPAN 2023-24.xlsx\n",
      "Processing file: C:\\Users\\scotth07\\OneDrive - NHS Scotland\\Documents\\Networks & Projects\\SPAN UNI\\Returns\\23_24\\NHS D&G SPAN 2023-24.xlsx\n",
      "Processing file: C:\\Users\\scotth07\\OneDrive - NHS Scotland\\Documents\\Networks & Projects\\SPAN UNI\\Returns\\23_24\\NHS Fife SPAN 2023-24.xlsx\n",
      "Processing file: C:\\Users\\scotth07\\OneDrive - NHS Scotland\\Documents\\Networks & Projects\\SPAN UNI\\Returns\\23_24\\NHS Forth Valley SPAN 2023-24.xlsx\n",
      "Processing file: C:\\Users\\scotth07\\OneDrive - NHS Scotland\\Documents\\Networks & Projects\\SPAN UNI\\Returns\\23_24\\NHS GG&C SPAN 2023-24.xlsx\n",
      "Processing file: C:\\Users\\scotth07\\OneDrive - NHS Scotland\\Documents\\Networks & Projects\\SPAN UNI\\Returns\\23_24\\NHS Grampian SPAN 2023-24.xlsx\n",
      "Processing file: C:\\Users\\scotth07\\OneDrive - NHS Scotland\\Documents\\Networks & Projects\\SPAN UNI\\Returns\\23_24\\NHS Highland SPAN 2023-24.xlsx\n",
      "Processing file: C:\\Users\\scotth07\\OneDrive - NHS Scotland\\Documents\\Networks & Projects\\SPAN UNI\\Returns\\23_24\\NHS Lanarkshire SPAN 2023-24.xlsx\n",
      "Processing file: C:\\Users\\scotth07\\OneDrive - NHS Scotland\\Documents\\Networks & Projects\\SPAN UNI\\Returns\\23_24\\NHS Lothian SPAN 2023-24.xlsx\n",
      "Processing file: C:\\Users\\scotth07\\OneDrive - NHS Scotland\\Documents\\Networks & Projects\\SPAN UNI\\Returns\\23_24\\NHS A&A SPAN 2023-24.xlsx\n",
      "Processing file: C:\\Users\\scotth07\\OneDrive - NHS Scotland\\Documents\\Networks & Projects\\SPAN UNI\\Returns\\23_24\\NHS D&G SPAN 2023-24.xlsx\n",
      "Processing file: C:\\Users\\scotth07\\OneDrive - NHS Scotland\\Documents\\Networks & Projects\\SPAN UNI\\Returns\\23_24\\NHS Fife SPAN 2023-24.xlsx\n",
      "Processing file: C:\\Users\\scotth07\\OneDrive - NHS Scotland\\Documents\\Networks & Projects\\SPAN UNI\\Returns\\23_24\\NHS Forth Valley SPAN 2023-24.xlsx\n",
      "Processing file: C:\\Users\\scotth07\\OneDrive - NHS Scotland\\Documents\\Networks & Projects\\SPAN UNI\\Returns\\23_24\\NHS GG&C SPAN 2023-24.xlsx\n",
      "Processing file: C:\\Users\\scotth07\\OneDrive - NHS Scotland\\Documents\\Networks & Projects\\SPAN UNI\\Returns\\23_24\\NHS Grampian SPAN 2023-24.xlsx\n",
      "Processing file: C:\\Users\\scotth07\\OneDrive - NHS Scotland\\Documents\\Networks & Projects\\SPAN UNI\\Returns\\23_24\\NHS Highland SPAN 2023-24.xlsx\n",
      "Processing file: C:\\Users\\scotth07\\OneDrive - NHS Scotland\\Documents\\Networks & Projects\\SPAN UNI\\Returns\\23_24\\NHS Lanarkshire SPAN 2023-24.xlsx\n",
      "Processing file: C:\\Users\\scotth07\\OneDrive - NHS Scotland\\Documents\\Networks & Projects\\SPAN UNI\\Returns\\23_24\\NHS Lothian SPAN 2023-24.xlsx\n",
      "Processing file: C:\\Users\\scotth07\\OneDrive - NHS Scotland\\Documents\\Networks & Projects\\SPAN UNI\\Returns\\23_24\\NHS A&A SPAN 2023-24.xlsx\n",
      "Processing file: C:\\Users\\scotth07\\OneDrive - NHS Scotland\\Documents\\Networks & Projects\\SPAN UNI\\Returns\\23_24\\NHS D&G SPAN 2023-24.xlsx\n",
      "Processing file: C:\\Users\\scotth07\\OneDrive - NHS Scotland\\Documents\\Networks & Projects\\SPAN UNI\\Returns\\23_24\\NHS Fife SPAN 2023-24.xlsx\n",
      "Processing file: C:\\Users\\scotth07\\OneDrive - NHS Scotland\\Documents\\Networks & Projects\\SPAN UNI\\Returns\\23_24\\NHS Forth Valley SPAN 2023-24.xlsx\n",
      "Processing file: C:\\Users\\scotth07\\OneDrive - NHS Scotland\\Documents\\Networks & Projects\\SPAN UNI\\Returns\\23_24\\NHS GG&C SPAN 2023-24.xlsx\n",
      "Processing file: C:\\Users\\scotth07\\OneDrive - NHS Scotland\\Documents\\Networks & Projects\\SPAN UNI\\Returns\\23_24\\NHS Grampian SPAN 2023-24.xlsx\n",
      "Processing file: C:\\Users\\scotth07\\OneDrive - NHS Scotland\\Documents\\Networks & Projects\\SPAN UNI\\Returns\\23_24\\NHS Highland SPAN 2023-24.xlsx\n",
      "Processing file: C:\\Users\\scotth07\\OneDrive - NHS Scotland\\Documents\\Networks & Projects\\SPAN UNI\\Returns\\23_24\\NHS Lanarkshire SPAN 2023-24.xlsx\n",
      "Processing file: C:\\Users\\scotth07\\OneDrive - NHS Scotland\\Documents\\Networks & Projects\\SPAN UNI\\Returns\\23_24\\NHS Lothian SPAN 2023-24.xlsx\n",
      "Processing file: C:\\Users\\scotth07\\OneDrive - NHS Scotland\\Documents\\Networks & Projects\\SPAN UNI\\Returns\\23_24\\NHS A&A SPAN 2023-24.xlsx\n",
      "Processing file: C:\\Users\\scotth07\\OneDrive - NHS Scotland\\Documents\\Networks & Projects\\SPAN UNI\\Returns\\23_24\\NHS D&G SPAN 2023-24.xlsx\n",
      "Processing file: C:\\Users\\scotth07\\OneDrive - NHS Scotland\\Documents\\Networks & Projects\\SPAN UNI\\Returns\\23_24\\NHS Fife SPAN 2023-24.xlsx\n",
      "Processing file: C:\\Users\\scotth07\\OneDrive - NHS Scotland\\Documents\\Networks & Projects\\SPAN UNI\\Returns\\23_24\\NHS Forth Valley SPAN 2023-24.xlsx\n",
      "Processing file: C:\\Users\\scotth07\\OneDrive - NHS Scotland\\Documents\\Networks & Projects\\SPAN UNI\\Returns\\23_24\\NHS GG&C SPAN 2023-24.xlsx\n",
      "Processing file: C:\\Users\\scotth07\\OneDrive - NHS Scotland\\Documents\\Networks & Projects\\SPAN UNI\\Returns\\23_24\\NHS Grampian SPAN 2023-24.xlsx\n",
      "Processing file: C:\\Users\\scotth07\\OneDrive - NHS Scotland\\Documents\\Networks & Projects\\SPAN UNI\\Returns\\23_24\\NHS Highland SPAN 2023-24.xlsx\n",
      "Processing file: C:\\Users\\scotth07\\OneDrive - NHS Scotland\\Documents\\Networks & Projects\\SPAN UNI\\Returns\\23_24\\NHS Lanarkshire SPAN 2023-24.xlsx\n",
      "Processing file: C:\\Users\\scotth07\\OneDrive - NHS Scotland\\Documents\\Networks & Projects\\SPAN UNI\\Returns\\23_24\\NHS Lothian SPAN 2023-24.xlsx\n",
      "Processing file: C:\\Users\\scotth07\\OneDrive - NHS Scotland\\Documents\\Networks & Projects\\SPAN UNI\\Returns\\23_24\\NHS A&A SPAN 2023-24.xlsx\n",
      "Processing file: C:\\Users\\scotth07\\OneDrive - NHS Scotland\\Documents\\Networks & Projects\\SPAN UNI\\Returns\\23_24\\NHS D&G SPAN 2023-24.xlsx\n",
      "Processing file: C:\\Users\\scotth07\\OneDrive - NHS Scotland\\Documents\\Networks & Projects\\SPAN UNI\\Returns\\23_24\\NHS Fife SPAN 2023-24.xlsx\n",
      "Processing file: C:\\Users\\scotth07\\OneDrive - NHS Scotland\\Documents\\Networks & Projects\\SPAN UNI\\Returns\\23_24\\NHS Forth Valley SPAN 2023-24.xlsx\n",
      "Processing file: C:\\Users\\scotth07\\OneDrive - NHS Scotland\\Documents\\Networks & Projects\\SPAN UNI\\Returns\\23_24\\NHS GG&C SPAN 2023-24.xlsx\n",
      "Processing file: C:\\Users\\scotth07\\OneDrive - NHS Scotland\\Documents\\Networks & Projects\\SPAN UNI\\Returns\\23_24\\NHS Grampian SPAN 2023-24.xlsx\n",
      "Processing file: C:\\Users\\scotth07\\OneDrive - NHS Scotland\\Documents\\Networks & Projects\\SPAN UNI\\Returns\\23_24\\NHS Highland SPAN 2023-24.xlsx\n",
      "Processing file: C:\\Users\\scotth07\\OneDrive - NHS Scotland\\Documents\\Networks & Projects\\SPAN UNI\\Returns\\23_24\\NHS Lanarkshire SPAN 2023-24.xlsx\n",
      "Processing file: C:\\Users\\scotth07\\OneDrive - NHS Scotland\\Documents\\Networks & Projects\\SPAN UNI\\Returns\\23_24\\NHS Lothian SPAN 2023-24.xlsx\n"
     ]
    }
   ],
   "source": [
    "# assign the data to dataframe using the defined function\n",
    "admin_histo_vac_df = combine_excel_files(directory, '4. Non-Medical Vacancies', skiprows=41, nrows=8, usecols=[1,2,3])\n",
    "admin_noncerv_vac_df = combine_excel_files(directory, '4. Non-Medical Vacancies', skiprows=41, nrows=8, usecols=[1,4,5])\n",
    "admin_neuro_vac_df = combine_excel_files(directory, '4. Non-Medical Vacancies', skiprows=41, nrows=8, usecols=[1,6,7])\n",
    "admin_paed_vac_df = combine_excel_files(directory, '4. Non-Medical Vacancies', skiprows=41, nrows=8, usecols=[1,8,9])\n",
    "admin_cerv_vac_df = combine_excel_files(directory, '4. Non-Medical Vacancies', skiprows=41, nrows=8, usecols=[1,10,11])\n",
    "admin_mo_vac_df = combine_excel_files(directory, '4. Non-Medical Vacancies', skiprows=41, nrows=8, usecols=[1,12,13])"
   ]
  },
  {
   "cell_type": "code",
   "execution_count": 100,
   "id": "82234d8a-f4b9-48f8-a4d4-44a86af863db",
   "metadata": {},
   "outputs": [],
   "source": [
    "admin_histo_vac_df = admin_histo_vac_df.rename(columns={'Unnamed: 1': 'Role & Band'})\n",
    "admin_noncerv_vac_df = admin_noncerv_vac_df.rename(columns={'Unnamed: 1': 'Role & Band',\n",
    "                                                                          'Headcount.1': 'Headcount',\n",
    "                                                                          'WTE.1': 'WTE'})\n",
    "admin_neuro_vac_df = admin_neuro_vac_df.rename(columns={'Unnamed: 1': 'Role & Band',\n",
    "                                                                     'Headcount.2': 'Headcount',\n",
    "                                                                     'WTE.2': 'WTE'})\n",
    "admin_paed_vac_df = admin_paed_vac_df.rename(columns={'Unnamed: 1': 'Role & Band',\n",
    "                                                                    'Headcount.3': 'Headcount',\n",
    "                                                                     'WTE.3': 'WTE'})\n",
    "admin_cerv_vac_df  = admin_cerv_vac_df.rename(columns={'Unnamed: 1': 'Role & Band',\n",
    "                                                                     'Headcount.4': 'Headcount',\n",
    "                                                                     'WTE.4': 'WTE'})\n",
    "admin_mo_vac_df  = admin_mo_vac_df.rename(columns={'Unnamed: 1': 'Role & Band',\n",
    "                                                                     'Headcount.5': 'Headcount',\n",
    "                                                                     'WTE.5': 'WTE'})"
   ]
  },
  {
   "cell_type": "code",
   "execution_count": 101,
   "id": "1aa6b9ad-28e4-40bd-8f0e-5b7ad96c3539",
   "metadata": {},
   "outputs": [],
   "source": [
    "admin_histo_vac_df['Area'] = 'General Histopathology'\n",
    "admin_noncerv_vac_df['Area'] = 'Non-Cervical/Diagnostic Cytopathology'\n",
    "admin_neuro_vac_df['Area'] = 'Neuropathology'\n",
    "admin_paed_vac_df['Area'] = 'Paediatric Pathology'\n",
    "admin_cerv_vac_df['Area'] = 'Cervical Screening'\n",
    "admin_mo_vac_df['Area'] = 'Mortuary & Autopsy'"
   ]
  },
  {
   "cell_type": "code",
   "execution_count": 102,
   "id": "05d94e01-94c2-48cb-92e6-da04ab125956",
   "metadata": {},
   "outputs": [],
   "source": [
    "admin_vac_df = pd.concat([admin_histo_vac_df,\n",
    "                                 admin_noncerv_vac_df,\n",
    "                                 admin_neuro_vac_df,\n",
    "                                 admin_paed_vac_df,\n",
    "                                 admin_cerv_vac_df,\n",
    "                                 admin_mo_vac_df])\n"
   ]
  },
  {
   "cell_type": "code",
   "execution_count": 103,
   "id": "26d90446-0d71-4b61-9dd9-7e916ca4f9f0",
   "metadata": {},
   "outputs": [],
   "source": [
    "admin_vac_df['Source Sheet'] = 'Sheet4_2_AdminClericalVacancy'"
   ]
  },
  {
   "cell_type": "markdown",
   "id": "010713a0-238a-42d8-afa2-5c213b625344",
   "metadata": {},
   "source": [
    "#### Anatomical Pathology Technologists"
   ]
  },
  {
   "cell_type": "code",
   "execution_count": 104,
   "id": "3250e5ff-d553-439e-abc1-2f68634fa50b",
   "metadata": {},
   "outputs": [
    {
     "name": "stdout",
     "output_type": "stream",
     "text": [
      "Processing file: C:\\Users\\scotth07\\OneDrive - NHS Scotland\\Documents\\Networks & Projects\\SPAN UNI\\Returns\\23_24\\NHS A&A SPAN 2023-24.xlsx\n",
      "Processing file: C:\\Users\\scotth07\\OneDrive - NHS Scotland\\Documents\\Networks & Projects\\SPAN UNI\\Returns\\23_24\\NHS D&G SPAN 2023-24.xlsx\n",
      "Processing file: C:\\Users\\scotth07\\OneDrive - NHS Scotland\\Documents\\Networks & Projects\\SPAN UNI\\Returns\\23_24\\NHS Fife SPAN 2023-24.xlsx\n",
      "Processing file: C:\\Users\\scotth07\\OneDrive - NHS Scotland\\Documents\\Networks & Projects\\SPAN UNI\\Returns\\23_24\\NHS Forth Valley SPAN 2023-24.xlsx\n",
      "Processing file: C:\\Users\\scotth07\\OneDrive - NHS Scotland\\Documents\\Networks & Projects\\SPAN UNI\\Returns\\23_24\\NHS GG&C SPAN 2023-24.xlsx\n",
      "Processing file: C:\\Users\\scotth07\\OneDrive - NHS Scotland\\Documents\\Networks & Projects\\SPAN UNI\\Returns\\23_24\\NHS Grampian SPAN 2023-24.xlsx\n",
      "Processing file: C:\\Users\\scotth07\\OneDrive - NHS Scotland\\Documents\\Networks & Projects\\SPAN UNI\\Returns\\23_24\\NHS Highland SPAN 2023-24.xlsx\n",
      "Processing file: C:\\Users\\scotth07\\OneDrive - NHS Scotland\\Documents\\Networks & Projects\\SPAN UNI\\Returns\\23_24\\NHS Lanarkshire SPAN 2023-24.xlsx\n",
      "Processing file: C:\\Users\\scotth07\\OneDrive - NHS Scotland\\Documents\\Networks & Projects\\SPAN UNI\\Returns\\23_24\\NHS Lothian SPAN 2023-24.xlsx\n",
      "Processing file: C:\\Users\\scotth07\\OneDrive - NHS Scotland\\Documents\\Networks & Projects\\SPAN UNI\\Returns\\23_24\\NHS A&A SPAN 2023-24.xlsx\n",
      "Processing file: C:\\Users\\scotth07\\OneDrive - NHS Scotland\\Documents\\Networks & Projects\\SPAN UNI\\Returns\\23_24\\NHS D&G SPAN 2023-24.xlsx\n",
      "Processing file: C:\\Users\\scotth07\\OneDrive - NHS Scotland\\Documents\\Networks & Projects\\SPAN UNI\\Returns\\23_24\\NHS Fife SPAN 2023-24.xlsx\n",
      "Processing file: C:\\Users\\scotth07\\OneDrive - NHS Scotland\\Documents\\Networks & Projects\\SPAN UNI\\Returns\\23_24\\NHS Forth Valley SPAN 2023-24.xlsx\n",
      "Processing file: C:\\Users\\scotth07\\OneDrive - NHS Scotland\\Documents\\Networks & Projects\\SPAN UNI\\Returns\\23_24\\NHS GG&C SPAN 2023-24.xlsx\n",
      "Processing file: C:\\Users\\scotth07\\OneDrive - NHS Scotland\\Documents\\Networks & Projects\\SPAN UNI\\Returns\\23_24\\NHS Grampian SPAN 2023-24.xlsx\n",
      "Processing file: C:\\Users\\scotth07\\OneDrive - NHS Scotland\\Documents\\Networks & Projects\\SPAN UNI\\Returns\\23_24\\NHS Highland SPAN 2023-24.xlsx\n",
      "Processing file: C:\\Users\\scotth07\\OneDrive - NHS Scotland\\Documents\\Networks & Projects\\SPAN UNI\\Returns\\23_24\\NHS Lanarkshire SPAN 2023-24.xlsx\n",
      "Processing file: C:\\Users\\scotth07\\OneDrive - NHS Scotland\\Documents\\Networks & Projects\\SPAN UNI\\Returns\\23_24\\NHS Lothian SPAN 2023-24.xlsx\n",
      "Processing file: C:\\Users\\scotth07\\OneDrive - NHS Scotland\\Documents\\Networks & Projects\\SPAN UNI\\Returns\\23_24\\NHS A&A SPAN 2023-24.xlsx\n",
      "Processing file: C:\\Users\\scotth07\\OneDrive - NHS Scotland\\Documents\\Networks & Projects\\SPAN UNI\\Returns\\23_24\\NHS D&G SPAN 2023-24.xlsx\n",
      "Processing file: C:\\Users\\scotth07\\OneDrive - NHS Scotland\\Documents\\Networks & Projects\\SPAN UNI\\Returns\\23_24\\NHS Fife SPAN 2023-24.xlsx\n",
      "Processing file: C:\\Users\\scotth07\\OneDrive - NHS Scotland\\Documents\\Networks & Projects\\SPAN UNI\\Returns\\23_24\\NHS Forth Valley SPAN 2023-24.xlsx\n",
      "Processing file: C:\\Users\\scotth07\\OneDrive - NHS Scotland\\Documents\\Networks & Projects\\SPAN UNI\\Returns\\23_24\\NHS GG&C SPAN 2023-24.xlsx\n",
      "Processing file: C:\\Users\\scotth07\\OneDrive - NHS Scotland\\Documents\\Networks & Projects\\SPAN UNI\\Returns\\23_24\\NHS Grampian SPAN 2023-24.xlsx\n",
      "Processing file: C:\\Users\\scotth07\\OneDrive - NHS Scotland\\Documents\\Networks & Projects\\SPAN UNI\\Returns\\23_24\\NHS Highland SPAN 2023-24.xlsx\n",
      "Processing file: C:\\Users\\scotth07\\OneDrive - NHS Scotland\\Documents\\Networks & Projects\\SPAN UNI\\Returns\\23_24\\NHS Lanarkshire SPAN 2023-24.xlsx\n",
      "Processing file: C:\\Users\\scotth07\\OneDrive - NHS Scotland\\Documents\\Networks & Projects\\SPAN UNI\\Returns\\23_24\\NHS Lothian SPAN 2023-24.xlsx\n"
     ]
    }
   ],
   "source": [
    "# assign the data to dataframe using the defined function\n",
    "apt_neuro_vac_df = combine_excel_files(directory, '4. Non-Medical Vacancies', skiprows=54, nrows=12, usecols=[1,2,3])\n",
    "apt_paed_vac_df = combine_excel_files(directory, '4. Non-Medical Vacancies', skiprows=54, nrows=12, usecols=[1,4,5])\n",
    "apt_mo_vac_df = combine_excel_files(directory, '4. Non-Medical Vacancies', skiprows=54, nrows=12, usecols=[1,6,7])"
   ]
  },
  {
   "cell_type": "code",
   "execution_count": 105,
   "id": "3203ca15-297c-4fbe-99ad-27d29ffed74a",
   "metadata": {},
   "outputs": [],
   "source": [
    "apt_neuro_vac_df = apt_neuro_vac_df.rename(columns={'Unnamed: 1': 'Role & Band'})\n",
    "apt_paed_vac_df = apt_paed_vac_df.rename(columns={'Unnamed: 1': 'Role & Band',\n",
    "                                                      'Headcount.1': 'Headcount',\n",
    "                                                       'WTE.1': 'WTE'})\n",
    "apt_mo_vac_df = apt_mo_vac_df.rename(columns={'Unnamed: 1': 'Role & Band',\n",
    "                                                  'Headcount.2': 'Headcount',\n",
    "                                                  'WTE.2': 'WTE'})"
   ]
  },
  {
   "cell_type": "code",
   "execution_count": 106,
   "id": "f7521c46-ced5-47bd-a045-1e064ecc270a",
   "metadata": {},
   "outputs": [],
   "source": [
    "apt_neuro_vac_df['Area'] = 'Neuropathology'\n",
    "apt_paed_vac_df['Area'] = 'Paediatric Pathology'\n",
    "apt_mo_vac_df['Area'] = 'Mortuary & Autopsy'"
   ]
  },
  {
   "cell_type": "code",
   "execution_count": 107,
   "id": "0689fc15-40dc-4967-856c-fabd1c3abfba",
   "metadata": {},
   "outputs": [],
   "source": [
    "apt_vac_df = pd.concat([apt_neuro_vac_df,\n",
    "                         apt_paed_vac_df,\n",
    "                         apt_mo_vac_df])"
   ]
  },
  {
   "cell_type": "code",
   "execution_count": 108,
   "id": "65552caf-8e2b-48d7-bd5e-10b470ecc59f",
   "metadata": {},
   "outputs": [],
   "source": [
    "apt_vac_df = apt_vac_df.dropna(subset=['Headcount', 'WTE'])"
   ]
  },
  {
   "cell_type": "code",
   "execution_count": 109,
   "id": "d4a1dc15-4ade-4910-b401-6e4751f2c712",
   "metadata": {},
   "outputs": [],
   "source": [
    "apt_vac_df['Source Sheet'] = 'Sheet4_3_ATPVacancy'"
   ]
  },
  {
   "cell_type": "markdown",
   "id": "bfa065cd-a008-4bd6-9fae-81f4ddfab53d",
   "metadata": {},
   "source": [
    "#### Merge the posts dataframes together"
   ]
  },
  {
   "cell_type": "code",
   "execution_count": 110,
   "id": "1c69f884-d97e-43cd-88e9-d94bef36f62d",
   "metadata": {},
   "outputs": [],
   "source": [
    "merged_vac_df = pd.concat([healthcare_vac_df,\n",
    "                             admin_vac_df,\n",
    "                             apt_vac_df])"
   ]
  },
  {
   "cell_type": "code",
   "execution_count": 111,
   "id": "1dc17b56-e856-4d1b-a235-ed996e5f2ad2",
   "metadata": {},
   "outputs": [],
   "source": [
    "merged_vac_df['Post/Vacancy'] = 'Vacancy'"
   ]
  },
  {
   "cell_type": "markdown",
   "id": "c267ca86-0150-4960-81a7-d225031ba96f",
   "metadata": {},
   "source": [
    "#### Merge all staffing together"
   ]
  },
  {
   "cell_type": "code",
   "execution_count": 112,
   "id": "7ec16ec6-5e33-40b1-a841-6d6ad218592d",
   "metadata": {},
   "outputs": [],
   "source": [
    "non_med_staffing_df = pd.concat([merged_posts_df,\n",
    "                                merged_vac_df])"
   ]
  },
  {
   "cell_type": "code",
   "execution_count": 113,
   "id": "3d0a59d3-71f7-41b8-b1e8-edc32f3d7f9a",
   "metadata": {},
   "outputs": [],
   "source": [
    "non_med_staffing_df[['Role', 'Band']] = non_med_staffing_df['Role & Band'].str.split(' Band ', expand=True)"
   ]
  },
  {
   "cell_type": "code",
   "execution_count": 114,
   "id": "8af6f397-523f-4449-8583-cd4d5ee701e8",
   "metadata": {},
   "outputs": [],
   "source": [
    "def update_salary_band(row):\n",
    "    if 'Trainee' in row['Role']:\n",
    "        row['Band'] = 'Trainee'\n",
    "    elif 'Other' in row['Role']:\n",
    "        row['Band'] = 'Other'\n",
    "    return row"
   ]
  },
  {
   "cell_type": "code",
   "execution_count": 115,
   "id": "cec6533b-5e0e-477c-ad62-4c803b90b199",
   "metadata": {},
   "outputs": [],
   "source": [
    "non_med_staffing_df = non_med_staffing_df.apply(update_salary_band, axis=1)"
   ]
  },
  {
   "cell_type": "code",
   "execution_count": 116,
   "id": "482b6819-d2f5-4296-9f35-5e82824de740",
   "metadata": {},
   "outputs": [],
   "source": [
    "non_med_staffing_df['Role'] = non_med_staffing_df['Role'].str.replace(' Trainee', '', regex=False)"
   ]
  },
  {
   "cell_type": "code",
   "execution_count": 117,
   "id": "ede428c6-16b2-4f91-9bb4-88ea7536392f",
   "metadata": {},
   "outputs": [
    {
     "data": {
      "text/plain": [
       "array(['8a', '7', '6', 'Trainee', '4', '3', '9 ', '8d', '8c', '8b', '5',\n",
       "       '2', '1', 'Other', '9'], dtype=object)"
      ]
     },
     "execution_count": 117,
     "metadata": {},
     "output_type": "execute_result"
    }
   ],
   "source": [
    "non_med_staffing_df['Band'].unique()"
   ]
  },
  {
   "cell_type": "code",
   "execution_count": 118,
   "id": "687fe6d8-dbb2-4de6-ae89-171ade03745f",
   "metadata": {},
   "outputs": [
    {
     "data": {
      "text/plain": [
       "Index(['Role & Band', 'Headcount', 'WTE', 'File Name', 'Area', 'Source Sheet',\n",
       "       'Post/Vacancy', 'Role', 'Band'],\n",
       "      dtype='object')"
      ]
     },
     "execution_count": 118,
     "metadata": {},
     "output_type": "execute_result"
    }
   ],
   "source": [
    "non_med_staffing_df.columns"
   ]
  },
  {
   "cell_type": "code",
   "execution_count": 119,
   "id": "456d9ce0-013e-42fc-abeb-5f59725dee90",
   "metadata": {},
   "outputs": [],
   "source": [
    "non_med_staffing_df['Year'] = '23/24'"
   ]
  },
  {
   "cell_type": "code",
   "execution_count": 120,
   "id": "6af17580-6b0f-4704-9e6d-65da991997b8",
   "metadata": {},
   "outputs": [],
   "source": [
    "non_med_staffing_df = non_med_staffing_df.rename(columns={'File Name': 'Source File'})"
   ]
  },
  {
   "cell_type": "code",
   "execution_count": 121,
   "id": "e58cfade-22c8-4562-9037-0339ad3b234c",
   "metadata": {},
   "outputs": [],
   "source": [
    "# extract health board from file name\n",
    "non_med_staffing_df['Health Board'] = non_med_staffing_df['Source File'].apply(extract_hb)"
   ]
  },
  {
   "cell_type": "code",
   "execution_count": 122,
   "id": "149bfb24-b488-45ff-a657-a58831b630ea",
   "metadata": {},
   "outputs": [],
   "source": [
    "# rename health boards with short code\n",
    "non_med_staffing_df = non_med_staffing_df.replace({'Fife': 'FIFE',\n",
    "                               'Forth': 'FV',\n",
    "                               'Grampian': 'GRAM',\n",
    "                               'Highland': 'HIGH',\n",
    "                               'Lanarkshire': 'LAN',\n",
    "                               'Lothian': 'LOTH',\n",
    "                               'Tayside': 'TAY'})"
   ]
  },
  {
   "cell_type": "code",
   "execution_count": 123,
   "id": "d0f4a889-353f-4c13-b483-8705bca9cf90",
   "metadata": {},
   "outputs": [],
   "source": [
    "# define new order for columns\n",
    "column_order = ['Source File',\n",
    "               'Source Sheet',\n",
    "               'Health Board',\n",
    "               'Year',\n",
    "               'Area',\n",
    "               'Role',\n",
    "               'Band',\n",
    "               'Post/Vacancy',\n",
    "               'WTE',\n",
    "               'Headcount']\n",
    "\n",
    "\n",
    "# apply new column order\n",
    "non_med_staffing_df = non_med_staffing_df[column_order]"
   ]
  },
  {
   "cell_type": "code",
   "execution_count": 124,
   "id": "7121aa8c-50fc-48ba-a719-8f721ca3224d",
   "metadata": {},
   "outputs": [],
   "source": [
    "non_med_staffing_df.to_csv('cleaned_data/non_medical_staffing.csv', index=False)"
   ]
  }
 ],
 "metadata": {
  "kernelspec": {
   "display_name": "Python 3 (ipykernel)",
   "language": "python",
   "name": "python3"
  },
  "language_info": {
   "codemirror_mode": {
    "name": "ipython",
    "version": 3
   },
   "file_extension": ".py",
   "mimetype": "text/x-python",
   "name": "python",
   "nbconvert_exporter": "python",
   "pygments_lexer": "ipython3",
   "version": "3.11.5"
  }
 },
 "nbformat": 4,
 "nbformat_minor": 5
}
