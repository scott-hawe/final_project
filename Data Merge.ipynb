{
 "cells": [
  {
   "cell_type": "code",
   "execution_count": 8,
   "id": "8a0a0593-8357-4162-b161-f8d0bea157b8",
   "metadata": {},
   "outputs": [],
   "source": [
    "import os\n",
    "import pandas as pd\n",
    "import numpy as np\n"
   ]
  },
  {
   "cell_type": "code",
   "execution_count": 9,
   "id": "10f14cc5-253e-4f36-a18c-72998acbcce7",
   "metadata": {},
   "outputs": [],
   "source": [
    "directory = 'cleaned_data'\n",
    "\n",
    "csv_files = [f for f in os.listdir(directory) if f.endswith('.csv')]\n",
    "\n",
    "dataframes = {}\n",
    "\n",
    "for file in csv_files:\n",
    "    file_path = os.path.join(directory, file)\n",
    "    df_name = os.path.splitext(file)[0]\n",
    "    dataframes[df_name] = pd.read_csv(file_path)\n",
    "\n",
    "excel_path = 'cleaned_data/SPAN_23_24_Data.xlsx'\n",
    "with pd.ExcelWriter(excel_path, engine='xlsxwriter') as writer:\n",
    "    for df_name, df in dataframes.items():\n",
    "        df.to_excel(writer, sheet_name=df_name, index=False)\n"
   ]
  },
  {
   "cell_type": "code",
   "execution_count": null,
   "id": "d0302aa5-e4e1-4eea-b9bd-df1bd29c47bf",
   "metadata": {},
   "outputs": [],
   "source": []
  }
 ],
 "metadata": {
  "kernelspec": {
   "display_name": "Python 3 (ipykernel)",
   "language": "python",
   "name": "python3"
  },
  "language_info": {
   "codemirror_mode": {
    "name": "ipython",
    "version": 3
   },
   "file_extension": ".py",
   "mimetype": "text/x-python",
   "name": "python",
   "nbconvert_exporter": "python",
   "pygments_lexer": "ipython3",
   "version": "3.11.5"
  }
 },
 "nbformat": 4,
 "nbformat_minor": 5
}
